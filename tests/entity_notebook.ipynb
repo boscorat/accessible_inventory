{
 "cells": [
  {
   "cell_type": "code",
   "execution_count": 1,
   "id": "7add9556-0ac2-4602-ad97-d90af12fbbf0",
   "metadata": {},
   "outputs": [],
   "source": [
    "# import the modules\n",
    "from entity import Entity\n",
    "from exception import EntityDeleteHasInventoryError\n",
    "from sql import *\n",
    "from uuid import uuid4"
   ]
  },
  {
   "cell_type": "code",
   "execution_count": 2,
   "id": "167b63da-aa68-44fe-88de-3a7bd5d55858",
   "metadata": {},
   "outputs": [],
   "source": [
    "# coonect using duckdb and validate tables\n",
    "import duckdb as dd\n",
    "\n",
    "# Create an in-memory DuckDB connection\n",
    "con = dd.connect(':memory:')\n",
    "\n",
    "# dd.sql(\"SELECT * FROM sqlite_scan('../data/inventory.db', 'inventory_sql');\").show()\n",
    "try:\n",
    "    dd.sql(\"ATTACH '../data/inventory.db' AS inventory (TYPE sqlite);\")\n",
    "except:\n",
    "    print(\"already attached\")\n",
    "dd.sql(\"USE inventory\")"
   ]
  },
  {
   "cell_type": "code",
   "execution_count": 3,
   "id": "9b08c452-4c1b-4642-949b-2843752d79c2",
   "metadata": {},
   "outputs": [],
   "source": [
    "# define database queries\n",
    "sql_inventory = '''\n",
    "        select INV.hierarchy_level as lvl\n",
    "            , INV.quantity as qty\n",
    "            , CHI.description_singular as child\n",
    "            , INV.position as pos\n",
    "            , PAR.description_singular as parent\n",
    "            , INV.inventory_id\n",
    "            , INV.inventory_id_parent\n",
    "            , PAR.entity_id as parent\n",
    "            , CHI.entity_id as child\n",
    "        from inventory_sql INV\n",
    "        inner join entity_sql PAR on PAR.entity_id = INV.entity_id_parent\n",
    "        inner join entity_sql CHI on CHI.entity_id = INV.entity_id_child\n",
    "    '''"
   ]
  },
  {
   "cell_type": "code",
   "execution_count": 4,
   "id": "4e3c8c2e-ee74-4650-9fed-0f1f5a406de6",
   "metadata": {},
   "outputs": [
    {
     "name": "stdout",
     "output_type": "stream",
     "text": [
      "Lovely Plump Piglet (total inventory: 0) (1dd566b5-21ba-4f5c-ae90-c1841feab8b5)\n"
     ]
    },
    {
     "data": {
      "text/plain": [
       "┌──────────────────────────────────────┬──────────────────┬─────────────────────┬─────────┬──────────────┬──────────────────────┬──────────────────────┬──────────────────────┬─────────────────────┐\n",
       "│              entity_id               │ entity_id_parent │     entity_key      │  noun   │  adjectives  │ description_singular │  description_plural  │ base_hierarchy_level │    created_time     │\n",
       "│               varchar                │     varchar      │       varchar       │ varchar │   varchar    │       varchar        │       varchar        │        int64         │      timestamp      │\n",
       "├──────────────────────────────────────┼──────────────────┼─────────────────────┼─────────┼──────────────┼──────────────────────┼──────────────────────┼──────────────────────┼─────────────────────┤\n",
       "│ 1dd566b5-21ba-4f5c-ae90-c1841feab8b5 │ None             │ lovely_piglet_plump │ piglet  │ lovely plump │ lovely plump piglet  │ lovely plump piglets │                    0 │ 2025-03-07 08:36:29 │\n",
       "└──────────────────────────────────────┴──────────────────┴─────────────────────┴─────────┴──────────────┴──────────────────────┴──────────────────────┴──────────────────────┴─────────────────────┘"
      ]
     },
     "execution_count": 4,
     "metadata": {},
     "output_type": "execute_result"
    }
   ],
   "source": [
    "# try creating an item\n",
    "item = Entity(description=\"a lovely plump piglet\", id=\"1dd566b5-21ba-4f5c-ae90-c1841feab8b5\")\n",
    "print(item)\n",
    "# return the database record\n",
    "dd.sql(\"select * from entity_sql where entity_id = '1dd566b5-21ba-4f5c-ae90-c1841feab8b5'\")"
   ]
  },
  {
   "cell_type": "code",
   "execution_count": 5,
   "id": "cb54b6e4-4c1c-4f4d-8f65-f3a9f346df93",
   "metadata": {},
   "outputs": [
    {
     "data": {
      "text/plain": [
       "┌──────────────────────────────────────┬──────────────────┬─────────────────────┬─────────┬──────────────┬──────────────────────┬──────────────────────┬──────────────────────┬─────────────────────┐\n",
       "│              entity_id               │ entity_id_parent │     entity_key      │  noun   │  adjectives  │ description_singular │  description_plural  │ base_hierarchy_level │    created_time     │\n",
       "│               varchar                │     varchar      │       varchar       │ varchar │   varchar    │       varchar        │       varchar        │        int64         │      timestamp      │\n",
       "├──────────────────────────────────────┼──────────────────┼─────────────────────┼─────────┼──────────────┼──────────────────────┼──────────────────────┼──────────────────────┼─────────────────────┤\n",
       "│ 1dd566b5-21ba-4f5c-ae90-c1841feab8b5 │ None             │ lovely_piglet_plump │ piglet  │ plump lovely │ plump lovely piglet  │ plump lovely piglets │                    0 │ 2025-03-07 08:36:29 │\n",
       "└──────────────────────────────────────┴──────────────────┴─────────────────────┴─────────┴──────────────┴──────────────────────┴──────────────────────┴──────────────────────┴─────────────────────┘"
      ]
     },
     "execution_count": 5,
     "metadata": {},
     "output_type": "execute_result"
    }
   ],
   "source": [
    "# update the entity and check the description in the database has updated\n",
    "item2 = Entity(\"a plump lovely piglet\")\n",
    "piggy2 = select_entity(entity_key=\"lovely_piglet_plump\")\n",
    "# return the database record\n",
    "dd.sql(\"select * from entity_sql where entity_id = '1dd566b5-21ba-4f5c-ae90-c1841feab8b5'\")"
   ]
  },
  {
   "cell_type": "code",
   "execution_count": 6,
   "id": "42587393-08de-45aa-ba44-438e8e644550",
   "metadata": {},
   "outputs": [
    {
     "name": "stdout",
     "output_type": "stream",
     "text": [
      "Lovely Plump Piglet (total inventory: 10) (1dd566b5-21ba-4f5c-ae90-c1841feab8b5)\n",
      "┌───────┬───────┬─────────────────────┬─────────┬─────────┬──────────────────────────────────────┬──────────────────────────────────────┬──────────────────────────────────────┬──────────────────────────────────────┐\n",
      "│  lvl  │  qty  │        child        │   pos   │ parent  │             inventory_id             │         inventory_id_parent          │                parent                │                child                 │\n",
      "│ int64 │ int64 │       varchar       │ varchar │ varchar │               varchar                │               varchar                │               varchar                │               varchar                │\n",
      "├───────┼───────┼─────────────────────┼─────────┼─────────┼──────────────────────────────────────┼──────────────────────────────────────┼──────────────────────────────────────┼──────────────────────────────────────┤\n",
      "│     0 │    10 │ plump lovely piglet │ IN      │ lounge  │ 6d652592-7301-4819-9660-3c5ea40f0b50 │ 8ce8d635-c5c5-49d7-bdcf-2b5cfb2298fe │ 03dd5c43-d66e-4c3f-a6eb-eb67b47c0373 │ 1dd566b5-21ba-4f5c-ae90-c1841feab8b5 │\n",
      "└───────┴───────┴─────────────────────┴─────────┴─────────┴──────────────────────────────────────┴──────────────────────────────────────┴──────────────────────────────────────┴──────────────────────────────────────┘\n",
      "\n"
     ]
    }
   ],
   "source": [
    "# add some inventory for the entity\n",
    "insert_inventory(\n",
    "    inventory_id = \"6d652592-7301-4819-9660-3c5ea40f0b50\",\n",
    "    inventory_id_parent = \"8ce8d635-c5c5-49d7-bdcf-2b5cfb2298fe\", # lounge in vicarage\n",
    "    entity_id_parent = \"03dd5c43-d66e-4c3f-a6eb-eb67b47c0373\", # lounge\n",
    "    entity_id_child = \"1dd566b5-21ba-4f5c-ae90-c1841feab8b5\", # piglet\n",
    "    quantity = 10,\n",
    ")\n",
    "print(item)\n",
    "# check the updated inventory record\n",
    "sql_where = \"WHERE INV.inventory_id = '6d652592-7301-4819-9660-3c5ea40f0b50'\"\n",
    "sql_full = sql_inventory + sql_where\n",
    "dd.sql(sql_full).show()"
   ]
  },
  {
   "cell_type": "code",
   "execution_count": 7,
   "id": "e15ae234-f72e-420a-9785-19318d6cc2c1",
   "metadata": {},
   "outputs": [
    {
     "name": "stdout",
     "output_type": "stream",
     "text": [
      "Lovely Plump Piglet (total inventory: 10) (1dd566b5-21ba-4f5c-ae90-c1841feab8b5)\n",
      "Cannot delete as entity has inventory\n"
     ]
    }
   ],
   "source": [
    "# delete the entities !!!Should fail with the EntityDeleteHasInventoryError!\n",
    "print(item)\n",
    "try:\n",
    "    item.delete_existing()\n",
    "except EntityDeleteHasInventoryError as e:\n",
    "    print(e)       "
   ]
  },
  {
   "cell_type": "code",
   "execution_count": 8,
   "id": "8ed4ecc0-e542-4547-8698-fcf71dceed96",
   "metadata": {},
   "outputs": [
    {
     "name": "stdout",
     "output_type": "stream",
     "text": [
      "Lovely Plump Piglet (total inventory: 0) (1dd566b5-21ba-4f5c-ae90-c1841feab8b5)\n"
     ]
    }
   ],
   "source": [
    "# remove the inventory so item can be deleted\n",
    "delete_inventory(\"6d652592-7301-4819-9660-3c5ea40f0b50\")\n",
    "item.delete_existing()\n",
    "piggy = select_entity(entity_key=\"lovely_piglet_plump\")\n",
    "print(item)\n",
    "if piggy:\n",
    "    print(dict(piggy))\n"
   ]
  },
  {
   "cell_type": "code",
   "execution_count": 9,
   "id": "b7b22a5b-5787-414f-b65f-55e17b9baef2",
   "metadata": {},
   "outputs": [],
   "source": [
    "dd.close()"
   ]
  }
 ],
 "metadata": {
  "kernelspec": {
   "display_name": "Python 3 (ipykernel)",
   "language": "python",
   "name": "python3"
  },
  "language_info": {
   "codemirror_mode": {
    "name": "ipython",
    "version": 3
   },
   "file_extension": ".py",
   "mimetype": "text/x-python",
   "name": "python",
   "nbconvert_exporter": "python",
   "pygments_lexer": "ipython3",
   "version": "3.12.3"
  }
 },
 "nbformat": 4,
 "nbformat_minor": 5
}
