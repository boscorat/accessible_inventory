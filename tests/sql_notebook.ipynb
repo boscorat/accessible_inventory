{
 "cells": [
  {
   "cell_type": "code",
   "execution_count": 1,
   "id": "c040c754-6cec-4441-93de-9bcce91cf8ad",
   "metadata": {},
   "outputs": [],
   "source": [
    "from data.sql import *\n",
    "from data.duck import sql_inventory, dd\n",
    "from operator import itemgetter\n",
    "from uuid import uuid4\n",
    "from path import PATH_DB"
   ]
  },
  {
   "cell_type": "code",
   "execution_count": 2,
   "id": "4032a061-2d24-41f5-b85a-39f0c3687905",
   "metadata": {},
   "outputs": [],
   "source": [
    "db_tables = list_tables() # store tables in variable"
   ]
  },
  {
   "cell_type": "code",
   "execution_count": 3,
   "id": "b66ed5fb-fcad-4db8-985c-f9b8a5fc8b22",
   "metadata": {},
   "outputs": [
    {
     "name": "stdout",
     "output_type": "stream",
     "text": [
      "[('entity_sql',), ('inventory_sql',)]\n"
     ]
    }
   ],
   "source": [
    "print(db_tables) # print the current tables"
   ]
  },
  {
   "cell_type": "code",
   "execution_count": 4,
   "id": "e2de4d80-6d7b-432e-ad21-a5e97167e440",
   "metadata": {},
   "outputs": [],
   "source": [
    "for table in db_tables: # drop all the current tables\n",
    "    drop_table(table[0])"
   ]
  },
  {
   "cell_type": "code",
   "execution_count": 5,
   "id": "90ba0a28-15cf-4ed0-8059-330724535cdb",
   "metadata": {},
   "outputs": [],
   "source": [
    "db_tables = list_tables() # refresh the current tables"
   ]
  },
  {
   "cell_type": "code",
   "execution_count": 6,
   "id": "b76ec9b2-01e2-4155-b00d-7fddb47aff32",
   "metadata": {},
   "outputs": [
    {
     "name": "stdout",
     "output_type": "stream",
     "text": [
      "[]\n"
     ]
    }
   ],
   "source": [
    "print(db_tables) # print again to check they're all gone"
   ]
  },
  {
   "cell_type": "code",
   "execution_count": 7,
   "id": "d7c15b6d-107a-4d78-a293-deea7513f4ec",
   "metadata": {},
   "outputs": [],
   "source": [
    "# create new tables and validate\n",
    "create_table_entity()\n",
    "create_table_inventory()"
   ]
  },
  {
   "cell_type": "code",
   "execution_count": 8,
   "id": "c993ea78-8ec2-4a3b-b1ed-be32e663ea9d",
   "metadata": {},
   "outputs": [
    {
     "name": "stdout",
     "output_type": "stream",
     "text": [
      "entity_sql\n",
      "            column_name column_type null   key            default extra\n",
      "0             entity_id     VARCHAR   NO  None               None  None\n",
      "1      entity_id_parent     VARCHAR  YES  None               None  None\n",
      "2            entity_key     VARCHAR   NO   PRI               None  None\n",
      "3                  noun     VARCHAR   NO  None               None  None\n",
      "4            adjectives     VARCHAR  YES  None               None  None\n",
      "5  description_singular     VARCHAR   NO  None               None  None\n",
      "6    description_plural     VARCHAR   NO  None               None  None\n",
      "7  base_hierarchy_level      BIGINT  YES  None               None  None\n",
      "8          created_time   TIMESTAMP  YES  None  CURRENT_TIMESTAMP  None\n",
      "\n",
      "inventory_sql\n",
      "           column_name column_type null   key            default extra\n",
      "0         inventory_id     VARCHAR   NO  None               None  None\n",
      "1  inventory_id_parent     VARCHAR   NO  None               None  None\n",
      "2     entity_id_parent     VARCHAR   NO   PRI               None  None\n",
      "3      entity_id_child     VARCHAR   NO   PRI               None  None\n",
      "4             quantity      BIGINT   NO  None                  0  None\n",
      "5             position     VARCHAR  YES   PRI               'IN'  None\n",
      "6      hierarchy_level      BIGINT  YES  None               None  None\n",
      "7         created_time   TIMESTAMP  YES  None  CURRENT_TIMESTAMP  None\n",
      "\n"
     ]
    }
   ],
   "source": [
    "# show the database tables and columns\n",
    "tables = dd.sql(\"SHOW TABLES\").fetchall()\n",
    "for table in tables:\n",
    "    tbl = table[0]\n",
    "    print(tbl)\n",
    "    sql = \"DESCRIBE \" + tbl\n",
    "    res= dd.execute(sql).df()\n",
    "    print(res)\n",
    "    print()"
   ]
  },
  {
   "cell_type": "code",
   "execution_count": 9,
   "id": "7fa651c9-ca9b-4ad8-8d66-8a67334063af",
   "metadata": {},
   "outputs": [
    {
     "name": "stdout",
     "output_type": "stream",
     "text": [
      "┌──────────────────────────────────────┬──────────────────┬───────────────────┬──────────┬────────────┬──────────────────────┬────────────────────┬──────────────────────┬─────────────────────┐\n",
      "│              entity_id               │ entity_id_parent │    entity_key     │   noun   │ adjectives │ description_singular │ description_plural │ base_hierarchy_level │    created_time     │\n",
      "│               varchar                │     varchar      │      varchar      │ varchar  │  varchar   │       varchar        │      varchar       │        int64         │      timestamp      │\n",
      "├──────────────────────────────────────┼──────────────────┼───────────────────┼──────────┼────────────┼──────────────────────┼────────────────────┼──────────────────────┼─────────────────────┤\n",
      "│ 281d67f9-7236-4c63-adaf-c7fac017d962 │ None             │ chads_st_vicarage │ vicarage │ st chads   │ st chads vicarage    │ st chads vicarages │                    1 │ 2025-03-11 21:48:33 │\n",
      "└──────────────────────────────────────┴──────────────────┴───────────────────┴──────────┴────────────┴──────────────────────┴────────────────────┴──────────────────────┴─────────────────────┘\n",
      "\n"
     ]
    }
   ],
   "source": [
    "# site record\n",
    "insert_entity(\n",
    "    entity_id=\"281d67f9-7236-4c63-adaf-c7fac017d962\",\n",
    "    entity_key=\"chads_st_vicarage\",\n",
    "    noun=\"vicarage\",\n",
    "    adjectives=\"st chads\",\n",
    "    description_singular=\"st chads vicarage\",\n",
    "    description_plural=\"st chads vicarages\",\n",
    "    base_hierarchy_level=1,\n",
    ")\n",
    "\n",
    "# check the entity records\n",
    "dd.sql(\"select * from entity_sql\").show()"
   ]
  },
  {
   "cell_type": "code",
   "execution_count": 10,
   "id": "c9a6f573-97f5-434d-b9e3-397f9375ba29",
   "metadata": {},
   "outputs": [
    {
     "name": "stdout",
     "output_type": "stream",
     "text": [
      "┌──────────────────────────────────────┬──────────────────┬───────────────────┬──────────┬────────────┬──────────────────────┬────────────────────┬──────────────────────┬─────────────────────┐\n",
      "│              entity_id               │ entity_id_parent │    entity_key     │   noun   │ adjectives │ description_singular │ description_plural │ base_hierarchy_level │    created_time     │\n",
      "│               varchar                │     varchar      │      varchar      │ varchar  │  varchar   │       varchar        │      varchar       │        int64         │      timestamp      │\n",
      "├──────────────────────────────────────┼──────────────────┼───────────────────┼──────────┼────────────┼──────────────────────┼────────────────────┼──────────────────────┼─────────────────────┤\n",
      "│ 281d67f9-7236-4c63-adaf-c7fac017d962 │ None             │ chads_st_vicarage │ vicarage │ st chads   │ st chads vicarage    │ st chads vicarages │                    1 │ 2025-03-11 21:48:33 │\n",
      "│ 03dd5c43-d66e-4c3f-a6eb-eb67b47c0373 │ None             │ lounge            │ lounge   │            │ lounge               │ lounges            │                    0 │ 2025-03-11 21:48:33 │\n",
      "│ 468edbe1-74ea-41f2-b1ae-c97806841e0d │ None             │ kitchen           │ kitchen  │            │ kitchen              │ kitchens           │                    0 │ 2025-03-11 21:48:33 │\n",
      "│ e5998068-17a4-4c7d-b64f-4b6e28e8b93d │ None             │ dining_room       │ room     │ dining     │ dining room          │ dining rooms       │                    0 │ 2025-03-11 21:48:33 │\n",
      "└──────────────────────────────────────┴──────────────────┴───────────────────┴──────────┴────────────┴──────────────────────┴────────────────────┴──────────────────────┴─────────────────────┘\n",
      "\n"
     ]
    }
   ],
   "source": [
    "# room records\n",
    "rooms = [\n",
    "    (\"lounge\",\"lounge\",\"\",\"lounge\",\"lounges\",\"03dd5c43-d66e-4c3f-a6eb-eb67b47c0373\",\"281d67f9-7236-4c63-adaf-c7fac017d962\"),\n",
    "    (\"kitchen\",\"kitchen\",\"\",\"kitchen\",\"kitchens\",\"468edbe1-74ea-41f2-b1ae-c97806841e0d\",\"281d67f9-7236-4c63-adaf-c7fac017d962\"),\n",
    "    (\"dining_room\",\"room\",\"dining\",\"dining room\",\"dining rooms\",\"e5998068-17a4-4c7d-b64f-4b6e28e8b93d\",\"281d67f9-7236-4c63-adaf-c7fac017d962\"),\n",
    "]\n",
    "\n",
    "for room in rooms: \n",
    "    insert_entity(\n",
    "        entity_id = room[5],\n",
    "        entity_key = room[0],\n",
    "        noun = room[1],\n",
    "        adjectives = room[2],\n",
    "        description_singular = room[3],\n",
    "        description_plural = room[4],\n",
    "        # base_hierarchy_level = 2,\n",
    "        # entity_id_parent = room[6],\n",
    "    )\n",
    "# check the entty records\n",
    "dd.sql(\"select * from entity_sql\").show()"
   ]
  },
  {
   "cell_type": "code",
   "execution_count": 11,
   "id": "7b0747d3-9c01-44cb-bc3a-9e3e997f9dba",
   "metadata": {},
   "outputs": [
    {
     "name": "stdout",
     "output_type": "stream",
     "text": [
      "┌──────────────────────────────────────┬──────────────────┬───────────────────┬──────────┬────────────┬──────────────────────┬────────────────────┬──────────────────────┬─────────────────────┐\n",
      "│              entity_id               │ entity_id_parent │    entity_key     │   noun   │ adjectives │ description_singular │ description_plural │ base_hierarchy_level │    created_time     │\n",
      "│               varchar                │     varchar      │      varchar      │ varchar  │  varchar   │       varchar        │      varchar       │        int64         │      timestamp      │\n",
      "├──────────────────────────────────────┼──────────────────┼───────────────────┼──────────┼────────────┼──────────────────────┼────────────────────┼──────────────────────┼─────────────────────┤\n",
      "│ 281d67f9-7236-4c63-adaf-c7fac017d962 │ None             │ chads_st_vicarage │ vicarage │ st chads   │ st chads vicarage    │ st chads vicarages │                    1 │ 2025-03-11 21:48:33 │\n",
      "│ 03dd5c43-d66e-4c3f-a6eb-eb67b47c0373 │ None             │ lounge            │ lounge   │            │ lounge               │ lounges            │                    0 │ 2025-03-11 21:48:33 │\n",
      "│ 468edbe1-74ea-41f2-b1ae-c97806841e0d │ None             │ kitchen           │ kitchen  │            │ kitchen              │ kitchens           │                    0 │ 2025-03-11 21:48:33 │\n",
      "│ e5998068-17a4-4c7d-b64f-4b6e28e8b93d │ None             │ dining_room       │ room     │ dining     │ dining room          │ dining rooms       │                    0 │ 2025-03-11 21:48:33 │\n",
      "│ 4d10faad-8a10-436b-b732-011a7b4ad043 │ None             │ chair_yellow      │ chair    │ yellow     │ yellow chair         │ yellow chairs      │                    0 │ 2025-03-11 21:48:33 │\n",
      "│ bb85b691-61f2-4a73-8313-3e5367d4b7b6 │ None             │ coffee_table      │ table    │ coffee     │ coffee table         │ coffee tables      │                    0 │ 2025-03-11 21:48:33 │\n",
      "│ aa5c5230-29d1-4f02-b011-20a6ea03766a │ None             │ toaster           │ toaster  │            │ toaster              │ toasters           │                    0 │ 2025-03-11 21:48:33 │\n",
      "│ f03c6766-6984-4821-9dcf-a1efc231758f │ None             │ coaster           │ coaster  │            │ coaster              │ coasters           │                    0 │ 2025-03-11 21:48:33 │\n",
      "│ 3e874dbd-0cfc-4388-ad8b-ddfcc1b6a329 │ None             │ bread_of_slice    │ bread    │ slice of   │ slice of bread       │ slices of bread    │                    0 │ 2025-03-11 21:48:33 │\n",
      "└──────────────────────────────────────┴──────────────────┴───────────────────┴──────────┴────────────┴──────────────────────┴────────────────────┴──────────────────────┴─────────────────────┘\n",
      "\n"
     ]
    }
   ],
   "source": [
    "# item records\n",
    "items = [\n",
    "    (\"chair_yellow\",\"chair\",\"yellow\",\"yellow chair\",\"yellow chairs\",\"4d10faad-8a10-436b-b732-011a7b4ad043\"), # yellow chair\n",
    "    (\"coffee_table\",\"table\",\"coffee\",\"coffee table\",\"coffee tables\",\"bb85b691-61f2-4a73-8313-3e5367d4b7b6\"), # coffee table\n",
    "    (\"toaster\",\"toaster\",\"\",\"toaster\",\"toasters\",\"aa5c5230-29d1-4f02-b011-20a6ea03766a\"), # toaster\n",
    "    (\"coaster\",\"coaster\",\"\",\"coaster\",\"coasters\",\"f03c6766-6984-4821-9dcf-a1efc231758f\"), # coaster\n",
    "    (\"bread_of_slice\",\"bread\",\"slice of\",\"slice of bread\",\"slices of bread\",\"3e874dbd-0cfc-4388-ad8b-ddfcc1b6a329\"), # slice of bread\n",
    "]\n",
    "\n",
    "for item in items: \n",
    "    insert_entity(\n",
    "        entity_id = item[5],\n",
    "        entity_key = item[0],\n",
    "        noun = item[1],\n",
    "        adjectives = item[2],\n",
    "        description_singular = item[3],\n",
    "        description_plural = item[4]\n",
    "    )\n",
    "# check the entity records\n",
    "dd.sql(\"select * from entity_sql\").show()"
   ]
  },
  {
   "cell_type": "code",
   "execution_count": 12,
   "id": "d64e7d69-eb63-4408-bd29-db1570ba4877",
   "metadata": {},
   "outputs": [
    {
     "name": "stdout",
     "output_type": "stream",
     "text": [
      "┌───────┬───────┬─────────────┬─────────┬───────────────────┬──────────────────────────────────────┬──────────────────────────────────────┬──────────────────────────────────────┬──────────────────────────────────────┐\n",
      "│  lvl  │  qty  │    child    │   pos   │      parent       │             inventory_id             │         inventory_id_parent          │                parent                │                child                 │\n",
      "│ int64 │ int64 │   varchar   │ varchar │      varchar      │               varchar                │               varchar                │               varchar                │               varchar                │\n",
      "├───────┼───────┼─────────────┼─────────┼───────────────────┼──────────────────────────────────────┼──────────────────────────────────────┼──────────────────────────────────────┼──────────────────────────────────────┤\n",
      "│     0 │     1 │ dining room │ IN      │ st chads vicarage │ 6dc856f4-42fe-4fe0-868b-9d002eff2e27 │ 6dc856f4-42fe-4fe0-868b-9d002eff2e27 │ 281d67f9-7236-4c63-adaf-c7fac017d962 │ e5998068-17a4-4c7d-b64f-4b6e28e8b93d │\n",
      "│     0 │     1 │ kitchen     │ IN      │ st chads vicarage │ 4dbba35f-ef8f-4af1-9148-02f2a0e1cbd1 │ 4dbba35f-ef8f-4af1-9148-02f2a0e1cbd1 │ 281d67f9-7236-4c63-adaf-c7fac017d962 │ 468edbe1-74ea-41f2-b1ae-c97806841e0d │\n",
      "│     0 │     1 │ lounge      │ IN      │ st chads vicarage │ 8ce8d635-c5c5-49d7-bdcf-2b5cfb2298fe │ 8ce8d635-c5c5-49d7-bdcf-2b5cfb2298fe │ 281d67f9-7236-4c63-adaf-c7fac017d962 │ 03dd5c43-d66e-4c3f-a6eb-eb67b47c0373 │\n",
      "└───────┴───────┴─────────────┴─────────┴───────────────────┴──────────────────────────────────────┴──────────────────────────────────────┴──────────────────────────────────────┴──────────────────────────────────────┘\n",
      "\n"
     ]
    }
   ],
   "source": [
    "# insert the inventory records to link the rooms to the site\n",
    "inventory = [\n",
    "    (\"8ce8d635-c5c5-49d7-bdcf-2b5cfb2298fe\",\"8ce8d635-c5c5-49d7-bdcf-2b5cfb2298fe\",\"281d67f9-7236-4c63-adaf-c7fac017d962\",\"03dd5c43-d66e-4c3f-a6eb-eb67b47c0373\",1), # lounge\n",
    "    (\"4dbba35f-ef8f-4af1-9148-02f2a0e1cbd1\",\"4dbba35f-ef8f-4af1-9148-02f2a0e1cbd1\",\"281d67f9-7236-4c63-adaf-c7fac017d962\",\"468edbe1-74ea-41f2-b1ae-c97806841e0d\",1), # kitchen\n",
    "    (\"6dc856f4-42fe-4fe0-868b-9d002eff2e27\",\"6dc856f4-42fe-4fe0-868b-9d002eff2e27\",\"281d67f9-7236-4c63-adaf-c7fac017d962\",\"e5998068-17a4-4c7d-b64f-4b6e28e8b93d\",1), # dining room\n",
    "]\n",
    "for inv in inventory:\n",
    "    insert_inventory(\n",
    "        inventory_id=inv[0],\n",
    "        inventory_id_parent=inv[1],\n",
    "        entity_id_parent=inv[2],\n",
    "        entity_id_child=inv[3],\n",
    "        quantity=inv[4],\n",
    "    )\n",
    "\n",
    "# check the inventory records\n",
    "dd.sql(sql_inventory()).show()"
   ]
  },
  {
   "cell_type": "code",
   "execution_count": 13,
   "id": "1c6b1ab1-2fca-4880-a3c5-b78606d8a795",
   "metadata": {},
   "outputs": [
    {
     "name": "stdout",
     "output_type": "stream",
     "text": [
      "┌───────┬───────┬──────────────┬─────────┬───────────────────┬──────────────────────────────────────┬──────────────────────────────────────┬──────────────────────────────────────┬──────────────────────────────────────┐\n",
      "│  lvl  │  qty  │    child     │   pos   │      parent       │             inventory_id             │         inventory_id_parent          │                parent                │                child                 │\n",
      "│ int64 │ int64 │   varchar    │ varchar │      varchar      │               varchar                │               varchar                │               varchar                │               varchar                │\n",
      "├───────┼───────┼──────────────┼─────────┼───────────────────┼──────────────────────────────────────┼──────────────────────────────────────┼──────────────────────────────────────┼──────────────────────────────────────┤\n",
      "│     0 │     1 │ lounge       │ IN      │ st chads vicarage │ 8ce8d635-c5c5-49d7-bdcf-2b5cfb2298fe │ 8ce8d635-c5c5-49d7-bdcf-2b5cfb2298fe │ 281d67f9-7236-4c63-adaf-c7fac017d962 │ 03dd5c43-d66e-4c3f-a6eb-eb67b47c0373 │\n",
      "│     0 │     1 │ kitchen      │ IN      │ st chads vicarage │ 4dbba35f-ef8f-4af1-9148-02f2a0e1cbd1 │ 4dbba35f-ef8f-4af1-9148-02f2a0e1cbd1 │ 281d67f9-7236-4c63-adaf-c7fac017d962 │ 468edbe1-74ea-41f2-b1ae-c97806841e0d │\n",
      "│     0 │     1 │ dining room  │ IN      │ st chads vicarage │ 6dc856f4-42fe-4fe0-868b-9d002eff2e27 │ 6dc856f4-42fe-4fe0-868b-9d002eff2e27 │ 281d67f9-7236-4c63-adaf-c7fac017d962 │ e5998068-17a4-4c7d-b64f-4b6e28e8b93d │\n",
      "│     0 │     2 │ coffee table │ IN      │ lounge            │ 2dfea04c-e8ea-4735-8b9a-4a9bf92dca08 │ 8ce8d635-c5c5-49d7-bdcf-2b5cfb2298fe │ 03dd5c43-d66e-4c3f-a6eb-eb67b47c0373 │ bb85b691-61f2-4a73-8313-3e5367d4b7b6 │\n",
      "│     0 │     1 │ toaster      │ IN      │ kitchen           │ c064c2ee-0119-43fb-b8da-b247a4ce5007 │ 4dbba35f-ef8f-4af1-9148-02f2a0e1cbd1 │ 468edbe1-74ea-41f2-b1ae-c97806841e0d │ aa5c5230-29d1-4f02-b011-20a6ea03766a │\n",
      "│     0 │     3 │ yellow chair │ IN      │ dining room       │ 4e18e23a-ca8b-4ed3-9ba6-8e2fb46d6cd8 │ 6dc856f4-42fe-4fe0-868b-9d002eff2e27 │ e5998068-17a4-4c7d-b64f-4b6e28e8b93d │ 4d10faad-8a10-436b-b732-011a7b4ad043 │\n",
      "└───────┴───────┴──────────────┴─────────┴───────────────────┴──────────────────────────────────────┴──────────────────────────────────────┴──────────────────────────────────────┴──────────────────────────────────────┘\n",
      "\n"
     ]
    }
   ],
   "source": [
    "# insert some items into the inventory\n",
    "inventory = [\n",
    "    (\"2dfea04c-e8ea-4735-8b9a-4a9bf92dca08\",\"8ce8d635-c5c5-49d7-bdcf-2b5cfb2298fe\",\"03dd5c43-d66e-4c3f-a6eb-eb67b47c0373\",\"bb85b691-61f2-4a73-8313-3e5367d4b7b6\",2), # add 2 coffee tables to lounge\n",
    "    (\"c064c2ee-0119-43fb-b8da-b247a4ce5007\",\"4dbba35f-ef8f-4af1-9148-02f2a0e1cbd1\",\"468edbe1-74ea-41f2-b1ae-c97806841e0d\",\"aa5c5230-29d1-4f02-b011-20a6ea03766a\",1), # add 1 toaster to kitchen\n",
    "    (\"4e18e23a-ca8b-4ed3-9ba6-8e2fb46d6cd8\",\"6dc856f4-42fe-4fe0-868b-9d002eff2e27\",\"e5998068-17a4-4c7d-b64f-4b6e28e8b93d\",\"4d10faad-8a10-436b-b732-011a7b4ad043\",3), # add 3 yellow chairs to dining room\n",
    "]\n",
    "for inv in inventory:\n",
    "    insert_inventory(\n",
    "        inventory_id=inv[0],\n",
    "        inventory_id_parent=inv[1],\n",
    "        entity_id_parent=inv[2],\n",
    "        entity_id_child=inv[3],\n",
    "        quantity=inv[4],\n",
    "    )\n",
    "\n",
    "# check the inventory records\n",
    "dd.sql(sql_inventory()).show()"
   ]
  },
  {
   "cell_type": "code",
   "execution_count": 14,
   "id": "ab50be73-d6dd-41ca-9e57-66cb2fe4dc30",
   "metadata": {},
   "outputs": [
    {
     "name": "stdout",
     "output_type": "stream",
     "text": [
      "┌───────┬───────┬────────────────┬─────────┬───────────────────┬──────────────────────────────────────┬──────────────────────────────────────┬──────────────────────────────────────┬──────────────────────────────────────┐\n",
      "│  lvl  │  qty  │     child      │   pos   │      parent       │             inventory_id             │         inventory_id_parent          │                parent                │                child                 │\n",
      "│ int64 │ int64 │    varchar     │ varchar │      varchar      │               varchar                │               varchar                │               varchar                │               varchar                │\n",
      "├───────┼───────┼────────────────┼─────────┼───────────────────┼──────────────────────────────────────┼──────────────────────────────────────┼──────────────────────────────────────┼──────────────────────────────────────┤\n",
      "│     0 │     1 │ lounge         │ IN      │ st chads vicarage │ 8ce8d635-c5c5-49d7-bdcf-2b5cfb2298fe │ 8ce8d635-c5c5-49d7-bdcf-2b5cfb2298fe │ 281d67f9-7236-4c63-adaf-c7fac017d962 │ 03dd5c43-d66e-4c3f-a6eb-eb67b47c0373 │\n",
      "│     0 │     1 │ kitchen        │ IN      │ st chads vicarage │ 4dbba35f-ef8f-4af1-9148-02f2a0e1cbd1 │ 4dbba35f-ef8f-4af1-9148-02f2a0e1cbd1 │ 281d67f9-7236-4c63-adaf-c7fac017d962 │ 468edbe1-74ea-41f2-b1ae-c97806841e0d │\n",
      "│     0 │     1 │ dining room    │ IN      │ st chads vicarage │ 6dc856f4-42fe-4fe0-868b-9d002eff2e27 │ 6dc856f4-42fe-4fe0-868b-9d002eff2e27 │ 281d67f9-7236-4c63-adaf-c7fac017d962 │ e5998068-17a4-4c7d-b64f-4b6e28e8b93d │\n",
      "│     0 │     2 │ coffee table   │ IN      │ lounge            │ 2dfea04c-e8ea-4735-8b9a-4a9bf92dca08 │ 8ce8d635-c5c5-49d7-bdcf-2b5cfb2298fe │ 03dd5c43-d66e-4c3f-a6eb-eb67b47c0373 │ bb85b691-61f2-4a73-8313-3e5367d4b7b6 │\n",
      "│     0 │     1 │ toaster        │ IN      │ kitchen           │ c064c2ee-0119-43fb-b8da-b247a4ce5007 │ 4dbba35f-ef8f-4af1-9148-02f2a0e1cbd1 │ 468edbe1-74ea-41f2-b1ae-c97806841e0d │ aa5c5230-29d1-4f02-b011-20a6ea03766a │\n",
      "│     0 │     3 │ yellow chair   │ IN      │ dining room       │ 4e18e23a-ca8b-4ed3-9ba6-8e2fb46d6cd8 │ 6dc856f4-42fe-4fe0-868b-9d002eff2e27 │ e5998068-17a4-4c7d-b64f-4b6e28e8b93d │ 4d10faad-8a10-436b-b732-011a7b4ad043 │\n",
      "│     0 │     2 │ coaster        │ ON      │ coffee table      │ c24f8072-9ced-45ee-9f1e-f7d1af7205d9 │ 2dfea04c-e8ea-4735-8b9a-4a9bf92dca08 │ bb85b691-61f2-4a73-8313-3e5367d4b7b6 │ f03c6766-6984-4821-9dcf-a1efc231758f │\n",
      "│     0 │     1 │ slice of bread │ IN      │ toaster           │ 13c461ce-3d8b-4c9e-a4b6-21e43bb7e85e │ c064c2ee-0119-43fb-b8da-b247a4ce5007 │ aa5c5230-29d1-4f02-b011-20a6ea03766a │ 3e874dbd-0cfc-4388-ad8b-ddfcc1b6a329 │\n",
      "└───────┴───────┴────────────────┴─────────┴───────────────────┴──────────────────────────────────────┴──────────────────────────────────────┴──────────────────────────────────────┴──────────────────────────────────────┘\n",
      "\n"
     ]
    }
   ],
   "source": [
    "# insert some lower level items into the inventory\n",
    "inventory = [\n",
    "    (\"c24f8072-9ced-45ee-9f1e-f7d1af7205d9\",\"2dfea04c-e8ea-4735-8b9a-4a9bf92dca08\",\"bb85b691-61f2-4a73-8313-3e5367d4b7b6\",\"f03c6766-6984-4821-9dcf-a1efc231758f\",2, \"ON\"), # add 2 coasters to coffee tables\n",
    "    (\"13c461ce-3d8b-4c9e-a4b6-21e43bb7e85e\",\"c064c2ee-0119-43fb-b8da-b247a4ce5007\",\"aa5c5230-29d1-4f02-b011-20a6ea03766a\",\"3e874dbd-0cfc-4388-ad8b-ddfcc1b6a329\",1, \"IN\"), # add 1 slice of bread to toaster\n",
    "]\n",
    "for inv in inventory:\n",
    "    insert_inventory(\n",
    "        inventory_id=inv[0],\n",
    "        inventory_id_parent=inv[1],\n",
    "        entity_id_parent=inv[2],\n",
    "        entity_id_child=inv[3],\n",
    "        quantity=inv[4],\n",
    "        position=inv[5],\n",
    "    )\n",
    "\n",
    "# check the inventory records\n",
    "dd.sql(sql_inventory()).show()"
   ]
  },
  {
   "cell_type": "code",
   "execution_count": 15,
   "id": "0b36e9ea-a885-45b0-af01-d24e11147499",
   "metadata": {},
   "outputs": [
    {
     "name": "stdout",
     "output_type": "stream",
     "text": [
      "┌───────┬───────┬──────────────┬─────────┬─────────┬──────────────────────────────────────┬──────────────────────────────────────┬──────────────────────────────────────┬──────────────────────────────────────┐\n",
      "│  lvl  │  qty  │    child     │   pos   │ parent  │             inventory_id             │         inventory_id_parent          │                parent                │                child                 │\n",
      "│ int64 │ int64 │   varchar    │ varchar │ varchar │               varchar                │               varchar                │               varchar                │               varchar                │\n",
      "├───────┼───────┼──────────────┼─────────┼─────────┼──────────────────────────────────────┼──────────────────────────────────────┼──────────────────────────────────────┼──────────────────────────────────────┤\n",
      "│     0 │     5 │ coffee table │ IN      │ lounge  │ 2dfea04c-e8ea-4735-8b9a-4a9bf92dca08 │ 8ce8d635-c5c5-49d7-bdcf-2b5cfb2298fe │ 03dd5c43-d66e-4c3f-a6eb-eb67b47c0373 │ bb85b691-61f2-4a73-8313-3e5367d4b7b6 │\n",
      "└───────┴───────┴──────────────┴─────────┴─────────┴──────────────────────────────────────┴──────────────────────────────────────┴──────────────────────────────────────┴──────────────────────────────────────┘\n",
      "\n"
     ]
    }
   ],
   "source": [
    "# check the updating is working\n",
    "update_inventory(\n",
    "    inventory_id = \"2dfea04c-e8ea-4735-8b9a-4a9bf92dca08\", # coffee tables in the lounge\n",
    "    quantity = 5 # quanity updated from 2 to 5\n",
    ")\n",
    "\n",
    "# check the updated inventory record\n",
    "dd.sql(sql_inventory(inventory_id='2dfea04c-e8ea-4735-8b9a-4a9bf92dca08')).show()"
   ]
  },
  {
   "cell_type": "code",
   "execution_count": 16,
   "id": "e2229339-9073-4d5b-ba6b-e20d8871c4a4",
   "metadata": {},
   "outputs": [
    {
     "name": "stdout",
     "output_type": "stream",
     "text": [
      "┌───────┬───────┬────────────────┬─────────┬───────────────────┬──────────────────────────────────────┬──────────────────────────────────────┬──────────────────────────────────────┬──────────────────────────────────────┐\n",
      "│  lvl  │  qty  │     child      │   pos   │      parent       │             inventory_id             │         inventory_id_parent          │                parent                │                child                 │\n",
      "│ int64 │ int64 │    varchar     │ varchar │      varchar      │               varchar                │               varchar                │               varchar                │               varchar                │\n",
      "├───────┼───────┼────────────────┼─────────┼───────────────────┼──────────────────────────────────────┼──────────────────────────────────────┼──────────────────────────────────────┼──────────────────────────────────────┤\n",
      "│     1 │     1 │ lounge         │ IN      │ st chads vicarage │ 8ce8d635-c5c5-49d7-bdcf-2b5cfb2298fe │ 8ce8d635-c5c5-49d7-bdcf-2b5cfb2298fe │ 281d67f9-7236-4c63-adaf-c7fac017d962 │ 03dd5c43-d66e-4c3f-a6eb-eb67b47c0373 │\n",
      "│     1 │     1 │ kitchen        │ IN      │ st chads vicarage │ 4dbba35f-ef8f-4af1-9148-02f2a0e1cbd1 │ 4dbba35f-ef8f-4af1-9148-02f2a0e1cbd1 │ 281d67f9-7236-4c63-adaf-c7fac017d962 │ 468edbe1-74ea-41f2-b1ae-c97806841e0d │\n",
      "│     1 │     1 │ dining room    │ IN      │ st chads vicarage │ 6dc856f4-42fe-4fe0-868b-9d002eff2e27 │ 6dc856f4-42fe-4fe0-868b-9d002eff2e27 │ 281d67f9-7236-4c63-adaf-c7fac017d962 │ e5998068-17a4-4c7d-b64f-4b6e28e8b93d │\n",
      "│     2 │     5 │ coffee table   │ IN      │ lounge            │ 2dfea04c-e8ea-4735-8b9a-4a9bf92dca08 │ 8ce8d635-c5c5-49d7-bdcf-2b5cfb2298fe │ 03dd5c43-d66e-4c3f-a6eb-eb67b47c0373 │ bb85b691-61f2-4a73-8313-3e5367d4b7b6 │\n",
      "│     2 │     1 │ toaster        │ IN      │ kitchen           │ c064c2ee-0119-43fb-b8da-b247a4ce5007 │ 4dbba35f-ef8f-4af1-9148-02f2a0e1cbd1 │ 468edbe1-74ea-41f2-b1ae-c97806841e0d │ aa5c5230-29d1-4f02-b011-20a6ea03766a │\n",
      "│     2 │     3 │ yellow chair   │ IN      │ dining room       │ 4e18e23a-ca8b-4ed3-9ba6-8e2fb46d6cd8 │ 6dc856f4-42fe-4fe0-868b-9d002eff2e27 │ e5998068-17a4-4c7d-b64f-4b6e28e8b93d │ 4d10faad-8a10-436b-b732-011a7b4ad043 │\n",
      "│     3 │     2 │ coaster        │ ON      │ coffee table      │ c24f8072-9ced-45ee-9f1e-f7d1af7205d9 │ 2dfea04c-e8ea-4735-8b9a-4a9bf92dca08 │ bb85b691-61f2-4a73-8313-3e5367d4b7b6 │ f03c6766-6984-4821-9dcf-a1efc231758f │\n",
      "│     3 │     1 │ slice of bread │ IN      │ toaster           │ 13c461ce-3d8b-4c9e-a4b6-21e43bb7e85e │ c064c2ee-0119-43fb-b8da-b247a4ce5007 │ aa5c5230-29d1-4f02-b011-20a6ea03766a │ 3e874dbd-0cfc-4388-ad8b-ddfcc1b6a329 │\n",
      "└───────┴───────┴────────────────┴─────────┴───────────────────┴──────────────────────────────────────┴──────────────────────────────────────┴──────────────────────────────────────┴──────────────────────────────────────┘\n",
      "\n"
     ]
    }
   ],
   "source": [
    "# update the inventory hierarchy levels\n",
    "dd.sql(\"UPDATE inventory_sql SET hierarchy_level = 1 WHERE EXISTS (SELECT 1 from entity_sql WHERE entity_sql.entity_id = inventory_sql.entity_id_parent AND entity_sql.base_hierarchy_level = 1)\") # level 1 where the parent is an entity with a base_hierarchy level of 1\n",
    "\n",
    "while True:\n",
    "    updates = dd.sql(\"SELECT Child.inventory_id, Parent.hierarchy_level + 1 as new_hierarchy_level FROM inventory_sql Child INNER JOIN inventory_sql Parent on Child.inventory_id_parent = Parent.inventory_id and Child.hierarchy_level = 0 and Parent.hierarchy_level > 0\").df() # now get any non-level kids with levely parents\n",
    "    if updates.empty: # break if there aren't any more updated\n",
    "        break\n",
    "    dd.sql(\"UPDATE inventory_sql SET hierarchy_level = new_hierarchy_level from updates where updates.inventory_id = inventory_sql.inventory_id\") #update the database based upon the updated data frame\n",
    "\n",
    "dd.sql(sql_inventory()).show()"
   ]
  },
  {
   "cell_type": "code",
   "execution_count": 17,
   "id": "3af60759-cdfb-494c-beea-ab024341468c",
   "metadata": {},
   "outputs": [],
   "source": [
    "# # update inventory hierarchy levels\n",
    "# entity_sql = select_entity(fields=\"[entity_id], [base_hierarchy_level]\")\n",
    "# l1_entities = [entity[0] for entity in entity_sql if entity[1] == 1]\n",
    "# l2_entities = [entity[0] for entity in entity_sql if entity[1] == 2]\n",
    "# inventory_sql = select_inventory()\n",
    "# inventory = sorted([dict(inv) for inv in inventory_sql], key=itemgetter('created_time'))\n",
    "# updated_inventory = list()\n",
    "# for inv in inventory:\n",
    "#     if inv[\"entity_id_parent\"] in l1_entities: # calculate level as 1 if the inventory parent entity is a level 1\n",
    "#         inv[\"level_calc\"] = 1\n",
    "#         updated_inventory.append(inv)\n",
    "#     # elif inv[\"entity_id_parent\"] in l2_entities: # calculate level as 2 if the inventory parent entity is a level 2\n",
    "#     #     inv[\"level_calc\"] = 2\n",
    "#     #     updated_inventory.append(inv)\n",
    "#     else: # otherwise get the level of the parent inventory and increment it by 1\n",
    "#         parent_lvl = [i for i in updated_inventory if i[\"inventory_id\"] == inv[\"inventory_id_parent\"]][0][\"level_calc\"]\n",
    "#         inv[\"level_calc\"] = parent_lvl + 1\n",
    "#     update_inventory_hierarchy(\n",
    "#         inventory_id = inv[\"inventory_id\"],\n",
    "#         hierarchy_level = inv[\"level_calc\"]\n",
    "#     )\n",
    "\n",
    "# # check the inventory records\n",
    "# dd.sql(sql_inventory).show()"
   ]
  },
  {
   "cell_type": "code",
   "execution_count": 18,
   "id": "521451a8-3773-464f-bb10-2581d3a1a0db",
   "metadata": {},
   "outputs": [],
   "source": [
    "# close the database connection\n",
    "dd.close()"
   ]
  },
  {
   "cell_type": "code",
   "execution_count": null,
   "id": "8acfe50d-611c-4cee-a441-2010d9844e6c",
   "metadata": {},
   "outputs": [],
   "source": []
  }
 ],
 "metadata": {
  "kernelspec": {
   "display_name": "Python 3 (ipykernel)",
   "language": "python",
   "name": "python3"
  },
  "language_info": {
   "codemirror_mode": {
    "name": "ipython",
    "version": 3
   },
   "file_extension": ".py",
   "mimetype": "text/x-python",
   "name": "python",
   "nbconvert_exporter": "python",
   "pygments_lexer": "ipython3",
   "version": "3.12.3"
  }
 },
 "nbformat": 4,
 "nbformat_minor": 5
}
