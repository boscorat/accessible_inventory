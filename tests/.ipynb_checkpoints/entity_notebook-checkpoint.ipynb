{
 "cells": [
  {
   "cell_type": "code",
   "execution_count": 1,
   "id": "7add9556-0ac2-4602-ad97-d90af12fbbf0",
   "metadata": {},
   "outputs": [],
   "source": [
    "# import the modules\n",
    "from entity import Entity\n",
    "from data.duck import dd, sql_inventory\n",
    "from exception import EntityDeleteHasInventoryError\n",
    "from data.sql import *\n",
    "from uuid import uuid4"
   ]
  },
  {
   "cell_type": "code",
   "execution_count": 2,
   "id": "4e3c8c2e-ee74-4650-9fed-0f1f5a406de6",
   "metadata": {},
   "outputs": [
    {
     "name": "stdout",
     "output_type": "stream",
     "text": [
      "Entity created successfully: Lovely Plump Piglet (total inventory: 0) (1dd566b5-21ba-4f5c-ae90-c1841feab8b5)\n",
      "Lovely Plump Piglet (total inventory: 0) (1dd566b5-21ba-4f5c-ae90-c1841feab8b5)\n"
     ]
    },
    {
     "data": {
      "text/plain": [
       "┌──────────────────────────────────────┬──────────────────┬─────────────────────┬─────────┬──────────────┬──────────────────────┬──────────────────────┬──────────────────────┬─────────────────────┐\n",
       "│              entity_id               │ entity_id_parent │     entity_key      │  noun   │  adjectives  │ description_singular │  description_plural  │ base_hierarchy_level │    created_time     │\n",
       "│               varchar                │     varchar      │       varchar       │ varchar │   varchar    │       varchar        │       varchar        │        int64         │      timestamp      │\n",
       "├──────────────────────────────────────┼──────────────────┼─────────────────────┼─────────┼──────────────┼──────────────────────┼──────────────────────┼──────────────────────┼─────────────────────┤\n",
       "│ 1dd566b5-21ba-4f5c-ae90-c1841feab8b5 │ None             │ lovely_piglet_plump │ piglet  │ lovely plump │ lovely plump piglet  │ lovely plump piglets │                    0 │ 2025-03-13 09:04:38 │\n",
       "└──────────────────────────────────────┴──────────────────┴─────────────────────┴─────────┴──────────────┴──────────────────────┴──────────────────────┴──────────────────────┴─────────────────────┘"
      ]
     },
     "execution_count": 2,
     "metadata": {},
     "output_type": "execute_result"
    }
   ],
   "source": [
    "# try creating an item\n",
    "item = Entity(description=\"a lovely plump piglet\", entity_id=\"1dd566b5-21ba-4f5c-ae90-c1841feab8b5\")\n",
    "print(item)\n",
    "# return the database record\n",
    "dd.sql(\"select * from entity_sql where entity_id = '1dd566b5-21ba-4f5c-ae90-c1841feab8b5'\")"
   ]
  },
  {
   "cell_type": "code",
   "execution_count": 3,
   "id": "cb54b6e4-4c1c-4f4d-8f65-f3a9f346df93",
   "metadata": {},
   "outputs": [
    {
     "name": "stdout",
     "output_type": "stream",
     "text": [
      "Entity updated successfully: Plump Lovely Piglet (total inventory: 0) (1dd566b5-21ba-4f5c-ae90-c1841feab8b5)\n"
     ]
    },
    {
     "data": {
      "text/plain": [
       "┌──────────────────────────────────────┬──────────────────┬─────────────────────┬─────────┬──────────────┬──────────────────────┬──────────────────────┬──────────────────────┬─────────────────────┐\n",
       "│              entity_id               │ entity_id_parent │     entity_key      │  noun   │  adjectives  │ description_singular │  description_plural  │ base_hierarchy_level │    created_time     │\n",
       "│               varchar                │     varchar      │       varchar       │ varchar │   varchar    │       varchar        │       varchar        │        int64         │      timestamp      │\n",
       "├──────────────────────────────────────┼──────────────────┼─────────────────────┼─────────┼──────────────┼──────────────────────┼──────────────────────┼──────────────────────┼─────────────────────┤\n",
       "│ 1dd566b5-21ba-4f5c-ae90-c1841feab8b5 │ None             │ lovely_piglet_plump │ piglet  │ plump lovely │ plump lovely piglet  │ plump lovely piglets │                    0 │ 2025-03-13 09:04:38 │\n",
       "└──────────────────────────────────────┴──────────────────┴─────────────────────┴─────────┴──────────────┴──────────────────────┴──────────────────────┴──────────────────────┴─────────────────────┘"
      ]
     },
     "execution_count": 3,
     "metadata": {},
     "output_type": "execute_result"
    }
   ],
   "source": [
    "# update the entity and check the description in the database has updated\n",
    "item2 = Entity(\"a plump lovely piglet\")\n",
    "piggy2 = select_entity(entity_key=\"lovely_piglet_plump\")\n",
    "# return the database record\n",
    "dd.sql(\"select * from entity_sql where entity_id = '1dd566b5-21ba-4f5c-ae90-c1841feab8b5'\")"
   ]
  },
  {
   "cell_type": "code",
   "execution_count": 4,
   "id": "42587393-08de-45aa-ba44-438e8e644550",
   "metadata": {},
   "outputs": [
    {
     "name": "stdout",
     "output_type": "stream",
     "text": [
      "Lovely Plump Piglet (total inventory: 10) (1dd566b5-21ba-4f5c-ae90-c1841feab8b5)\n",
      "┌───────┬───────┬─────────────────────┬─────────┬─────────┬──────────────────────────────────────┬──────────────────────────────────────┬──────────────────────────────────────┬──────────────────────────────────────┐\n",
      "│  lvl  │  qty  │        child        │   pos   │ parent  │             inventory_id             │         inventory_id_parent          │                parent                │                child                 │\n",
      "│ int64 │ int64 │       varchar       │ varchar │ varchar │               varchar                │               varchar                │               varchar                │               varchar                │\n",
      "├───────┼───────┼─────────────────────┼─────────┼─────────┼──────────────────────────────────────┼──────────────────────────────────────┼──────────────────────────────────────┼──────────────────────────────────────┤\n",
      "│     0 │    10 │ plump lovely piglet │ IN      │ lounge  │ 6d652592-7301-4819-9660-3c5ea40f0b50 │ 8ce8d635-c5c5-49d7-bdcf-2b5cfb2298fe │ 03dd5c43-d66e-4c3f-a6eb-eb67b47c0373 │ 1dd566b5-21ba-4f5c-ae90-c1841feab8b5 │\n",
      "└───────┴───────┴─────────────────────┴─────────┴─────────┴──────────────────────────────────────┴──────────────────────────────────────┴──────────────────────────────────────┴──────────────────────────────────────┘\n",
      "\n"
     ]
    }
   ],
   "source": [
    "# add some inventory for the entity\n",
    "insert_inventory(\n",
    "    inventory_id = \"6d652592-7301-4819-9660-3c5ea40f0b50\",\n",
    "    inventory_id_parent = \"8ce8d635-c5c5-49d7-bdcf-2b5cfb2298fe\", # lounge in vicarage\n",
    "    entity_id_parent = \"03dd5c43-d66e-4c3f-a6eb-eb67b47c0373\", # lounge\n",
    "    entity_id_child = \"1dd566b5-21ba-4f5c-ae90-c1841feab8b5\", # piglet\n",
    "    quantity = 10,\n",
    ")\n",
    "print(item)\n",
    "# check the updated inventory record\n",
    "dd.sql(sql_inventory(inventory_id = '6d652592-7301-4819-9660-3c5ea40f0b50')).show()"
   ]
  },
  {
   "cell_type": "code",
   "execution_count": 5,
   "id": "e15ae234-f72e-420a-9785-19318d6cc2c1",
   "metadata": {},
   "outputs": [
    {
     "name": "stdout",
     "output_type": "stream",
     "text": [
      "Lovely Plump Piglet (total inventory: 10) (1dd566b5-21ba-4f5c-ae90-c1841feab8b5)\n",
      "Cannot delete as entity has inventory\n"
     ]
    }
   ],
   "source": [
    "# delete the entities !!!Should fail with the EntityDeleteHasInventoryError!\n",
    "print(item)\n",
    "try:\n",
    "    item.delete_existing()\n",
    "except EntityDeleteHasInventoryError as e:\n",
    "    print(e)       "
   ]
  },
  {
   "cell_type": "code",
   "execution_count": 6,
   "id": "8ed4ecc0-e542-4547-8698-fcf71dceed96",
   "metadata": {},
   "outputs": [
    {
     "name": "stdout",
     "output_type": "stream",
     "text": [
      "Entity deleted successfully\n",
      "Lovely Plump Piglet (total inventory: 0) (1dd566b5-21ba-4f5c-ae90-c1841feab8b5)\n"
     ]
    }
   ],
   "source": [
    "# remove the inventory so item can be deleted\n",
    "delete_inventory(\"6d652592-7301-4819-9660-3c5ea40f0b50\")\n",
    "item.delete_existing()\n",
    "piggy = select_entity(entity_key=\"lovely_piglet_plump\")\n",
    "print(item)\n",
    "if piggy:\n",
    "    print(dict(piggy))\n"
   ]
  },
  {
   "cell_type": "code",
   "execution_count": 7,
   "id": "e07ab126-a02a-41d6-a115-7cc9957bc0b5",
   "metadata": {},
   "outputs": [
    {
     "name": "stdout",
     "output_type": "stream",
     "text": [
      "┌──────────────────────────────────────┬──────────────────┬───────────────────┬──────────┬────────────┬──────────────────────┬────────────────────┬──────────────────────┬─────────────────────┐\n",
      "│              entity_id               │ entity_id_parent │    entity_key     │   noun   │ adjectives │ description_singular │ description_plural │ base_hierarchy_level │    created_time     │\n",
      "│               varchar                │     varchar      │      varchar      │ varchar  │  varchar   │       varchar        │      varchar       │        int64         │      timestamp      │\n",
      "├──────────────────────────────────────┼──────────────────┼───────────────────┼──────────┼────────────┼──────────────────────┼────────────────────┼──────────────────────┼─────────────────────┤\n",
      "│ 281d67f9-7236-4c63-adaf-c7fac017d962 │ None             │ chads_st_vicarage │ vicarage │ st chads   │ st chads vicarage    │ st chads vicarages │                    1 │ 2025-03-13 09:04:19 │\n",
      "│ 03dd5c43-d66e-4c3f-a6eb-eb67b47c0373 │ None             │ lounge            │ lounge   │            │ lounge               │ lounges            │                    0 │ 2025-03-13 09:04:19 │\n",
      "│ 468edbe1-74ea-41f2-b1ae-c97806841e0d │ None             │ kitchen           │ kitchen  │            │ kitchen              │ kitchens           │                    0 │ 2025-03-13 09:04:19 │\n",
      "│ e5998068-17a4-4c7d-b64f-4b6e28e8b93d │ None             │ dining_room       │ room     │ dining     │ dining room          │ dining rooms       │                    0 │ 2025-03-13 09:04:19 │\n",
      "│ 4d10faad-8a10-436b-b732-011a7b4ad043 │ None             │ chair_yellow      │ chair    │ yellow     │ yellow chair         │ yellow chairs      │                    0 │ 2025-03-13 09:04:19 │\n",
      "│ bb85b691-61f2-4a73-8313-3e5367d4b7b6 │ None             │ coffee_table      │ table    │ coffee     │ coffee table         │ coffee tables      │                    0 │ 2025-03-13 09:04:19 │\n",
      "│ aa5c5230-29d1-4f02-b011-20a6ea03766a │ None             │ toaster           │ toaster  │            │ toaster              │ toasters           │                    0 │ 2025-03-13 09:04:19 │\n",
      "│ f03c6766-6984-4821-9dcf-a1efc231758f │ None             │ coaster           │ coaster  │            │ coaster              │ coasters           │                    0 │ 2025-03-13 09:04:19 │\n",
      "│ 3e874dbd-0cfc-4388-ad8b-ddfcc1b6a329 │ None             │ bread_of_slice    │ bread    │ slice of   │ slice of bread       │ slices of bread    │                    0 │ 2025-03-13 09:04:19 │\n",
      "└──────────────────────────────────────┴──────────────────┴───────────────────┴──────────┴────────────┴──────────────────────┴────────────────────┴──────────────────────┴─────────────────────┘\n",
      "\n"
     ]
    }
   ],
   "source": [
    "dd.sql(\"select * from entity_sql\").show()"
   ]
  },
  {
   "cell_type": "code",
   "execution_count": 8,
   "id": "b7b22a5b-5787-414f-b65f-55e17b9baef2",
   "metadata": {},
   "outputs": [],
   "source": [
    "dd.close()"
   ]
  },
  {
   "cell_type": "code",
   "execution_count": null,
   "id": "fd6be2c9-2eb9-43f6-a7fc-12959e66a21b",
   "metadata": {},
   "outputs": [],
   "source": []
  }
 ],
 "metadata": {
  "kernelspec": {
   "display_name": "Python 3 (ipykernel)",
   "language": "python",
   "name": "python3"
  },
  "language_info": {
   "codemirror_mode": {
    "name": "ipython",
    "version": 3
   },
   "file_extension": ".py",
   "mimetype": "text/x-python",
   "name": "python",
   "nbconvert_exporter": "python",
   "pygments_lexer": "ipython3",
   "version": "3.12.3"
  }
 },
 "nbformat": 4,
 "nbformat_minor": 5
}
