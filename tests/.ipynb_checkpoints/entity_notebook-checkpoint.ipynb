{
 "cells": [
  {
   "cell_type": "code",
   "execution_count": 1,
   "id": "7add9556-0ac2-4602-ad97-d90af12fbbf0",
   "metadata": {},
   "outputs": [],
   "source": [
    "# import the modules\n",
    "from entity import Entity\n",
    "from exception import EntityDeleteHasInventoryError\n",
    "from sql import *\n",
    "from uuid import uuid4"
   ]
  },
  {
   "cell_type": "code",
   "execution_count": 2,
   "id": "4e3c8c2e-ee74-4650-9fed-0f1f5a406de6",
   "metadata": {},
   "outputs": [
    {
     "name": "stdout",
     "output_type": "stream",
     "text": [
      "1dd566b5-21ba-4f5c-ae90-c1841feab8b5\n",
      "Lovely Plump Piglet (total inventory: 0) (1dd566b5-21ba-4f5c-ae90-c1841feab8b5)\n"
     ]
    }
   ],
   "source": [
    "# try creating an item\n",
    "item = Entity(description=\"a lovely plump piglet\", id=\"1dd566b5-21ba-4f5c-ae90-c1841feab8b5\")\n",
    "print(item.id)\n",
    "print(item)"
   ]
  },
  {
   "cell_type": "code",
   "execution_count": 3,
   "id": "63eb71f5-6382-4766-8419-6ab102cfc69f",
   "metadata": {},
   "outputs": [
    {
     "name": "stdout",
     "output_type": "stream",
     "text": [
      "{'entity_id': '281d67f9-7236-4c63-adaf-c7fac017d962', 'entity_id_parent': 'None', 'entity_key': 'chads_st_vicarage', 'noun': 'vicarage', 'adjectives': 'st chads', 'description_singular': 'st chads vicarage', 'description_plural': 'st chads vicarages', 'base_hierarchy_level': 1}\n",
      "{'entity_id': '03dd5c43-d66e-4c3f-a6eb-eb67b47c0373', 'entity_id_parent': '281d67f9-7236-4c63-adaf-c7fac017d962', 'entity_key': 'lounge', 'noun': 'lounge', 'adjectives': '', 'description_singular': 'lounge', 'description_plural': 'lounges', 'base_hierarchy_level': 2}\n",
      "{'entity_id': '468edbe1-74ea-41f2-b1ae-c97806841e0d', 'entity_id_parent': '281d67f9-7236-4c63-adaf-c7fac017d962', 'entity_key': 'kitchen', 'noun': 'kitchen', 'adjectives': '', 'description_singular': 'kitchen', 'description_plural': 'kitchens', 'base_hierarchy_level': 2}\n",
      "{'entity_id': 'e5998068-17a4-4c7d-b64f-4b6e28e8b93d', 'entity_id_parent': '281d67f9-7236-4c63-adaf-c7fac017d962', 'entity_key': 'dining_room', 'noun': 'room', 'adjectives': 'dining', 'description_singular': 'dining room', 'description_plural': 'dining rooms', 'base_hierarchy_level': 2}\n",
      "{'entity_id': '4d10faad-8a10-436b-b732-011a7b4ad043', 'entity_id_parent': 'None', 'entity_key': 'chair_yellow', 'noun': 'chair', 'adjectives': 'yellow', 'description_singular': 'yellow chair', 'description_plural': 'yellow chairs', 'base_hierarchy_level': 0}\n",
      "{'entity_id': 'bb85b691-61f2-4a73-8313-3e5367d4b7b6', 'entity_id_parent': 'None', 'entity_key': 'coffee_table', 'noun': 'table', 'adjectives': 'coffee', 'description_singular': 'coffee table', 'description_plural': 'coffee tables', 'base_hierarchy_level': 0}\n",
      "{'entity_id': 'aa5c5230-29d1-4f02-b011-20a6ea03766a', 'entity_id_parent': 'None', 'entity_key': 'toaster', 'noun': 'toaster', 'adjectives': '', 'description_singular': 'toaster', 'description_plural': 'toasters', 'base_hierarchy_level': 0}\n",
      "{'entity_id': 'f03c6766-6984-4821-9dcf-a1efc231758f', 'entity_id_parent': 'None', 'entity_key': 'coaster', 'noun': 'coaster', 'adjectives': '', 'description_singular': 'coaster', 'description_plural': 'coasters', 'base_hierarchy_level': 0}\n",
      "{'entity_id': '3e874dbd-0cfc-4388-ad8b-ddfcc1b6a329', 'entity_id_parent': 'None', 'entity_key': 'bread_of_slice', 'noun': 'bread', 'adjectives': 'slice of', 'description_singular': 'slice of bread', 'description_plural': 'slices of bread', 'base_hierarchy_level': 0}\n",
      "{'entity_id': '1dd566b5-21ba-4f5c-ae90-c1841feab8b5', 'entity_id_parent': 'None', 'entity_key': 'lovely_piglet_plump', 'noun': 'piglet', 'adjectives': 'lovely plump', 'description_singular': 'lovely plump piglet', 'description_plural': 'lovely plump piglets', 'base_hierarchy_level': 0}\n"
     ]
    }
   ],
   "source": [
    "# return all the entities\n",
    "entities = select_entity()\n",
    "for entity in entities:\n",
    "    print(dict(entity))"
   ]
  },
  {
   "cell_type": "code",
   "execution_count": 4,
   "id": "e88b7da7-70f1-47fd-bc26-657301e64b08",
   "metadata": {},
   "outputs": [
    {
     "name": "stdout",
     "output_type": "stream",
     "text": [
      "{'entity_id': '1dd566b5-21ba-4f5c-ae90-c1841feab8b5', 'entity_id_parent': 'None', 'entity_key': 'lovely_piglet_plump', 'noun': 'piglet', 'adjectives': 'lovely plump', 'description_singular': 'lovely plump piglet', 'description_plural': 'lovely plump piglets', 'base_hierarchy_level': 0}\n"
     ]
    }
   ],
   "source": [
    "# return the new entity\n",
    "piggy = select_entity(entity_key=\"lovely_piglet_plump\")\n",
    "print(dict(piggy))"
   ]
  },
  {
   "cell_type": "code",
   "execution_count": 5,
   "id": "cb54b6e4-4c1c-4f4d-8f65-f3a9f346df93",
   "metadata": {},
   "outputs": [
    {
     "name": "stdout",
     "output_type": "stream",
     "text": [
      "plump lovely piglet\n",
      "{'entity_id': '1dd566b5-21ba-4f5c-ae90-c1841feab8b5', 'entity_id_parent': 'None', 'entity_key': 'lovely_piglet_plump', 'noun': 'piglet', 'adjectives': 'plump lovely', 'description_singular': 'plump lovely piglet', 'description_plural': 'plump lovely piglets', 'base_hierarchy_level': 0}\n"
     ]
    }
   ],
   "source": [
    "# update the entity and check the description in the database has updated\n",
    "item2 = Entity(\"a plump lovely piglet\")\n",
    "print(item2._singular)\n",
    "piggy2 = select_entity(entity_key=\"lovely_piglet_plump\")\n",
    "print(dict(piggy2))"
   ]
  },
  {
   "cell_type": "code",
   "execution_count": 6,
   "id": "09e6997c-01f7-4ede-a5c4-4889306857d8",
   "metadata": {},
   "outputs": [
    {
     "name": "stdout",
     "output_type": "stream",
     "text": [
      "{'inventory_id': '8ce8d635-c5c5-49d7-bdcf-2b5cfb2298fe', 'inventory_id_parent': '8ce8d635-c5c5-49d7-bdcf-2b5cfb2298fe', 'entity_id_parent': '281d67f9-7236-4c63-adaf-c7fac017d962', 'entity_id_child': '03dd5c43-d66e-4c3f-a6eb-eb67b47c0373', 'quantity': 1, 'position': 'IN', 'hierarchy_level': 1, 'created_time': '2025-03-02 16:32:07'}\n",
      "{'inventory_id': '4dbba35f-ef8f-4af1-9148-02f2a0e1cbd1', 'inventory_id_parent': '4dbba35f-ef8f-4af1-9148-02f2a0e1cbd1', 'entity_id_parent': '281d67f9-7236-4c63-adaf-c7fac017d962', 'entity_id_child': '468edbe1-74ea-41f2-b1ae-c97806841e0d', 'quantity': 1, 'position': 'IN', 'hierarchy_level': 1, 'created_time': '2025-03-02 16:32:07'}\n",
      "{'inventory_id': '6dc856f4-42fe-4fe0-868b-9d002eff2e27', 'inventory_id_parent': '6dc856f4-42fe-4fe0-868b-9d002eff2e27', 'entity_id_parent': '281d67f9-7236-4c63-adaf-c7fac017d962', 'entity_id_child': 'e5998068-17a4-4c7d-b64f-4b6e28e8b93d', 'quantity': 1, 'position': 'IN', 'hierarchy_level': 1, 'created_time': '2025-03-02 16:32:07'}\n",
      "{'inventory_id': '2dfea04c-e8ea-4735-8b9a-4a9bf92dca08', 'inventory_id_parent': '8ce8d635-c5c5-49d7-bdcf-2b5cfb2298fe', 'entity_id_parent': '03dd5c43-d66e-4c3f-a6eb-eb67b47c0373', 'entity_id_child': 'bb85b691-61f2-4a73-8313-3e5367d4b7b6', 'quantity': 5, 'position': 'IN', 'hierarchy_level': 2, 'created_time': '2025-03-02 16:32:07'}\n",
      "{'inventory_id': 'c064c2ee-0119-43fb-b8da-b247a4ce5007', 'inventory_id_parent': '4dbba35f-ef8f-4af1-9148-02f2a0e1cbd1', 'entity_id_parent': '468edbe1-74ea-41f2-b1ae-c97806841e0d', 'entity_id_child': 'aa5c5230-29d1-4f02-b011-20a6ea03766a', 'quantity': 1, 'position': 'IN', 'hierarchy_level': 2, 'created_time': '2025-03-02 16:32:07'}\n",
      "{'inventory_id': '4e18e23a-ca8b-4ed3-9ba6-8e2fb46d6cd8', 'inventory_id_parent': '6dc856f4-42fe-4fe0-868b-9d002eff2e27', 'entity_id_parent': 'e5998068-17a4-4c7d-b64f-4b6e28e8b93d', 'entity_id_child': '4d10faad-8a10-436b-b732-011a7b4ad043', 'quantity': 3, 'position': 'IN', 'hierarchy_level': 2, 'created_time': '2025-03-02 16:32:07'}\n",
      "{'inventory_id': 'bb85b691-61f2-4a73-8313-3e5367d4b7b6', 'inventory_id_parent': '2dfea04c-e8ea-4735-8b9a-4a9bf92dca08', 'entity_id_parent': 'bb85b691-61f2-4a73-8313-3e5367d4b7b6', 'entity_id_child': 'bb85b691-61f2-4a73-8313-3e5367d4b7b6', 'quantity': 2, 'position': 'IN', 'hierarchy_level': 3, 'created_time': '2025-03-02 16:32:07'}\n",
      "{'inventory_id': 'aa5c5230-29d1-4f02-b011-20a6ea03766a', 'inventory_id_parent': 'c064c2ee-0119-43fb-b8da-b247a4ce5007', 'entity_id_parent': 'aa5c5230-29d1-4f02-b011-20a6ea03766a', 'entity_id_child': 'aa5c5230-29d1-4f02-b011-20a6ea03766a', 'quantity': 1, 'position': 'IN', 'hierarchy_level': 3, 'created_time': '2025-03-02 16:32:07'}\n"
     ]
    }
   ],
   "source": [
    "inventory = select_inventory()\n",
    "for inv in inventory:\n",
    "    print(dict(inv))"
   ]
  },
  {
   "cell_type": "code",
   "execution_count": 7,
   "id": "42587393-08de-45aa-ba44-438e8e644550",
   "metadata": {},
   "outputs": [
    {
     "name": "stdout",
     "output_type": "stream",
     "text": [
      "Lovely Plump Piglet (total inventory: 10) (1dd566b5-21ba-4f5c-ae90-c1841feab8b5)\n"
     ]
    }
   ],
   "source": [
    "# add some inventory for the entity\n",
    "insert_inventory(\n",
    "    inventory_id = \"6d652592-7301-4819-9660-3c5ea40f0b50\",\n",
    "    inventory_id_parent = \"8ce8d635-c5c5-49d7-bdcf-2b5cfb2298fe\", # lounge in vicarage\n",
    "    entity_id_parent = \"03dd5c43-d66e-4c3f-a6eb-eb67b47c0373\", # lounge\n",
    "    entity_id_child = \"1dd566b5-21ba-4f5c-ae90-c1841feab8b5\", # piglet\n",
    "    quantity = 10,\n",
    ")\n",
    "print(item)\n"
   ]
  },
  {
   "cell_type": "code",
   "execution_count": 8,
   "id": "e15ae234-f72e-420a-9785-19318d6cc2c1",
   "metadata": {},
   "outputs": [
    {
     "name": "stdout",
     "output_type": "stream",
     "text": [
      "Lovely Plump Piglet (total inventory: 10) (1dd566b5-21ba-4f5c-ae90-c1841feab8b5)\n",
      "Cannot delete as entity has inventory\n"
     ]
    }
   ],
   "source": [
    "# delete the entities !!!Should fail with the EntityDeleteHasInventoryError!\n",
    "print(item)\n",
    "try:\n",
    "    item.delete_existing()\n",
    "except EntityDeleteHasInventoryError as e:\n",
    "    print(e)       "
   ]
  },
  {
   "cell_type": "code",
   "execution_count": 9,
   "id": "8ed4ecc0-e542-4547-8698-fcf71dceed96",
   "metadata": {},
   "outputs": [
    {
     "name": "stdout",
     "output_type": "stream",
     "text": [
      "Lovely Plump Piglet (total inventory: 0) (1dd566b5-21ba-4f5c-ae90-c1841feab8b5)\n"
     ]
    }
   ],
   "source": [
    "# remove the inventory so item can be deleted\n",
    "delete_inventory(\"6d652592-7301-4819-9660-3c5ea40f0b50\")\n",
    "item.delete_existing()\n",
    "piggy = select_entity(entity_key=\"lovely_piglet_plump\")\n",
    "print(item)\n",
    "if piggy:\n",
    "    print(dict(piggy))\n"
   ]
  },
  {
   "cell_type": "code",
   "execution_count": null,
   "id": "b7b22a5b-5787-414f-b65f-55e17b9baef2",
   "metadata": {},
   "outputs": [],
   "source": []
  }
 ],
 "metadata": {
  "kernelspec": {
   "display_name": "Python 3 (ipykernel)",
   "language": "python",
   "name": "python3"
  },
  "language_info": {
   "codemirror_mode": {
    "name": "ipython",
    "version": 3
   },
   "file_extension": ".py",
   "mimetype": "text/x-python",
   "name": "python",
   "nbconvert_exporter": "python",
   "pygments_lexer": "ipython3",
   "version": "3.12.3"
  }
 },
 "nbformat": 4,
 "nbformat_minor": 5
}
