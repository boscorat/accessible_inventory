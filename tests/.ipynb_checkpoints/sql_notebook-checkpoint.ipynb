{
 "cells": [
  {
   "cell_type": "code",
   "execution_count": 1,
   "id": "c040c754-6cec-4441-93de-9bcce91cf8ad",
   "metadata": {},
   "outputs": [],
   "source": [
    "from sql import * # import required db functions\n",
    "from operator import itemgetter\n",
    "from uuid import uuid4"
   ]
  },
  {
   "cell_type": "code",
   "execution_count": 2,
   "id": "4032a061-2d24-41f5-b85a-39f0c3687905",
   "metadata": {},
   "outputs": [],
   "source": [
    "db_tables = list_tables() # store tables in variable"
   ]
  },
  {
   "cell_type": "code",
   "execution_count": 3,
   "id": "b66ed5fb-fcad-4db8-985c-f9b8a5fc8b22",
   "metadata": {},
   "outputs": [
    {
     "name": "stdout",
     "output_type": "stream",
     "text": [
      "[('entity_sql',), ('inventory_sql',)]\n"
     ]
    }
   ],
   "source": [
    "print(db_tables) # print the current tables"
   ]
  },
  {
   "cell_type": "code",
   "execution_count": 4,
   "id": "e2de4d80-6d7b-432e-ad21-a5e97167e440",
   "metadata": {},
   "outputs": [],
   "source": [
    "for table in db_tables: # drop all the current tables\n",
    "    drop_table(table[0])"
   ]
  },
  {
   "cell_type": "code",
   "execution_count": 5,
   "id": "90ba0a28-15cf-4ed0-8059-330724535cdb",
   "metadata": {},
   "outputs": [],
   "source": [
    "db_tables = list_tables() # refresh the current tables"
   ]
  },
  {
   "cell_type": "code",
   "execution_count": 6,
   "id": "b76ec9b2-01e2-4155-b00d-7fddb47aff32",
   "metadata": {},
   "outputs": [
    {
     "name": "stdout",
     "output_type": "stream",
     "text": [
      "[]\n"
     ]
    }
   ],
   "source": [
    "print(db_tables) # print again to check they're all gone"
   ]
  },
  {
   "cell_type": "code",
   "execution_count": 7,
   "id": "d7c15b6d-107a-4d78-a293-deea7513f4ec",
   "metadata": {},
   "outputs": [
    {
     "name": "stdout",
     "output_type": "stream",
     "text": [
      "[('entity_sql',), ('inventory_sql',)]\n"
     ]
    }
   ],
   "source": [
    "# create new tables and validate\n",
    "\n",
    "create_table_entity()\n",
    "create_table_inventory()\n",
    "\n",
    "db_tables = list_tables()\n",
    "print(db_tables)\n"
   ]
  },
  {
   "cell_type": "code",
   "execution_count": 8,
   "id": "9d9af444-c969-4c0a-8a36-bfd21bc60d7c",
   "metadata": {},
   "outputs": [
    {
     "name": "stdout",
     "output_type": "stream",
     "text": [
      "\n",
      "table: entity_sql\n",
      "entity_id\n",
      "entity_key\n",
      "noun\n",
      "adjectives\n",
      "description_singular\n",
      "description_plural\n",
      "base_hierarchy_level\n",
      "\n",
      "table: inventory_sql\n",
      "inventory_id\n",
      "inventory_id_parent\n",
      "entity_id_parent\n",
      "entity_id_child\n",
      "quantity\n",
      "hierarchy_level\n",
      "created_time\n"
     ]
    }
   ],
   "source": [
    "for table in db_tables:\n",
    "    print('\\n','table: ', table[0],sep=\"\")\n",
    "    for column in list_columns(table[0]):\n",
    "        print(column[0])"
   ]
  },
  {
   "cell_type": "code",
   "execution_count": 9,
   "id": "7fa651c9-ca9b-4ad8-8d66-8a67334063af",
   "metadata": {},
   "outputs": [
    {
     "name": "stdout",
     "output_type": "stream",
     "text": [
      "[('281d67f9-7236-4c63-adaf-c7fac017d962', 'chads_st_vicarage', 'vicarage', 'st chads', 'st chads vicarage', 'st chads vicarages', 1), ('03dd5c43-d66e-4c3f-a6eb-eb67b47c0373', 'lounge', 'lounge', '', 'lounge', 'lounges', 2), ('468edbe1-74ea-41f2-b1ae-c97806841e0d', 'kitchen', 'kitchen', '', 'kitchen', 'kitchens', 2), ('e5998068-17a4-4c7d-b64f-4b6e28e8b93d', 'dining_room', 'room', 'dining', 'dining room', 'dining rooms', 2), ('4d10faad-8a10-436b-b732-011a7b4ad043', 'chair_yellow', 'chair', 'yellow', 'yellow chair', 'yellow chairs', 0), ('bb85b691-61f2-4a73-8313-3e5367d4b7b6', 'coffee_table', 'table', 'coffee', 'coffee table', 'coffee tables', 0), ('aa5c5230-29d1-4f02-b011-20a6ea03766a', 'toaster', 'toaster', '', 'toaster', 'toasters', 0), ('f03c6766-6984-4821-9dcf-a1efc231758f', 'coaster', 'coaster', '', 'coaster', 'coasters', 0), ('3e874dbd-0cfc-4388-ad8b-ddfcc1b6a329', 'bread_of_slice', 'bread', 'slice of', 'slice of bread', 'slices of bread', 0)]\n"
     ]
    }
   ],
   "source": [
    "# insert entity records\n",
    "\n",
    "# site record\n",
    "insert_entity(\n",
    "    entity_id = \"281d67f9-7236-4c63-adaf-c7fac017d962\",\n",
    "    entity_key = \"chads_st_vicarage\",\n",
    "    noun = \"vicarage\",\n",
    "    adjectives = \"st chads\",\n",
    "    description_singular = \"st chads vicarage\",\n",
    "    description_plural = \"st chads vicarages\",\n",
    "    base_hierarchy_level = 1\n",
    ")\n",
    "\n",
    "# room records\n",
    "rooms = [\n",
    "    (\"lounge\",\"lounge\",\"\",\"lounge\",\"lounges\",\"03dd5c43-d66e-4c3f-a6eb-eb67b47c0373\"),\n",
    "    (\"kitchen\",\"kitchen\",\"\",\"kitchen\",\"kitchens\",\"468edbe1-74ea-41f2-b1ae-c97806841e0d\"),\n",
    "    (\"dining_room\",\"room\",\"dining\",\"dining room\",\"dining rooms\",\"e5998068-17a4-4c7d-b64f-4b6e28e8b93d\"),\n",
    "]\n",
    "\n",
    "for room in rooms: \n",
    "    insert_entity(\n",
    "        entity_id = room[5],\n",
    "        entity_key = room[0],\n",
    "        noun = room[1],\n",
    "        adjectives = room[2],\n",
    "        description_singular = room[3],\n",
    "        description_plural = room[4],\n",
    "        base_hierarchy_level = 2\n",
    "    )\n",
    "\n",
    "# item records\n",
    "items = [\n",
    "    (\"chair_yellow\",\"chair\",\"yellow\",\"yellow chair\",\"yellow chairs\",\"4d10faad-8a10-436b-b732-011a7b4ad043\"), # yellow chair\n",
    "    (\"coffee_table\",\"table\",\"coffee\",\"coffee table\",\"coffee tables\",\"bb85b691-61f2-4a73-8313-3e5367d4b7b6\"), # coffee table\n",
    "    (\"toaster\",\"toaster\",\"\",\"toaster\",\"toasters\",\"aa5c5230-29d1-4f02-b011-20a6ea03766a\"), # toaster\n",
    "    (\"coaster\",\"coaster\",\"\",\"coaster\",\"coasters\",\"f03c6766-6984-4821-9dcf-a1efc231758f\"), # coaster\n",
    "    (\"bread_of_slice\",\"bread\",\"slice of\",\"slice of bread\",\"slices of bread\",\"3e874dbd-0cfc-4388-ad8b-ddfcc1b6a329\"), # slice of bread\n",
    "]\n",
    "\n",
    "for item in items: \n",
    "    insert_entity(\n",
    "        entity_id = item[5],\n",
    "        entity_key = item[0],\n",
    "        noun = item[1],\n",
    "        adjectives = item[2],\n",
    "        description_singular = item[3],\n",
    "        description_plural = item[4]\n",
    "    )\n",
    "\n",
    "# check the entoty records\n",
    "print(select_entity())"
   ]
  },
  {
   "cell_type": "code",
   "execution_count": 10,
   "id": "d64e7d69-eb63-4408-bd29-db1570ba4877",
   "metadata": {},
   "outputs": [
    {
     "name": "stdout",
     "output_type": "stream",
     "text": [
      "[<sqlite3.Row object at 0x7db6b0204f10>, <sqlite3.Row object at 0x7db6b0229d80>, <sqlite3.Row object at 0x7db6b022b3a0>]\n"
     ]
    }
   ],
   "source": [
    "# insert the inventory records to link the rooms to the site\n",
    "inventory = [\n",
    "    (\"8ce8d635-c5c5-49d7-bdcf-2b5cfb2298fe\",\"8ce8d635-c5c5-49d7-bdcf-2b5cfb2298fe\",\"281d67f9-7236-4c63-adaf-c7fac017d962\",\"03dd5c43-d66e-4c3f-a6eb-eb67b47c0373\",1), # lounge\n",
    "    (\"4dbba35f-ef8f-4af1-9148-02f2a0e1cbd1\",\"4dbba35f-ef8f-4af1-9148-02f2a0e1cbd1\",\"281d67f9-7236-4c63-adaf-c7fac017d962\",\"468edbe1-74ea-41f2-b1ae-c97806841e0d\",1), # kitchen\n",
    "    (\"6dc856f4-42fe-4fe0-868b-9d002eff2e27\",\"6dc856f4-42fe-4fe0-868b-9d002eff2e27\",\"281d67f9-7236-4c63-adaf-c7fac017d962\",\"e5998068-17a4-4c7d-b64f-4b6e28e8b93d\",1), # dining room\n",
    "]\n",
    "for inv in inventory:\n",
    "    insert_inventory(\n",
    "        inventory_id=inv[0],\n",
    "        inventory_id_parent=inv[1],\n",
    "        entity_id_parent=inv[2],\n",
    "        entity_id_child=inv[3],\n",
    "        quantity=inv[4],\n",
    "    )\n",
    "\n",
    "# check the inventory records\n",
    "print(select_inventory())"
   ]
  },
  {
   "cell_type": "code",
   "execution_count": 11,
   "id": "1c6b1ab1-2fca-4880-a3c5-b78606d8a795",
   "metadata": {},
   "outputs": [
    {
     "name": "stdout",
     "output_type": "stream",
     "text": [
      "[<sqlite3.Row object at 0x7db6b0205ed0>, <sqlite3.Row object at 0x7db6b022a830>, <sqlite3.Row object at 0x7db6b022a860>, <sqlite3.Row object at 0x7db6b022a890>, <sqlite3.Row object at 0x7db6b0229990>, <sqlite3.Row object at 0x7db6b0229f00>]\n"
     ]
    }
   ],
   "source": [
    "# insert some items into the inventory\n",
    "inventory = [\n",
    "    (\"2dfea04c-e8ea-4735-8b9a-4a9bf92dca08\",\"8ce8d635-c5c5-49d7-bdcf-2b5cfb2298fe\",\"03dd5c43-d66e-4c3f-a6eb-eb67b47c0373\",\"bb85b691-61f2-4a73-8313-3e5367d4b7b6\",2), # add 2 coffee tables to lounge\n",
    "    (\"c064c2ee-0119-43fb-b8da-b247a4ce5007\",\"4dbba35f-ef8f-4af1-9148-02f2a0e1cbd1\",\"468edbe1-74ea-41f2-b1ae-c97806841e0d\",\"aa5c5230-29d1-4f02-b011-20a6ea03766a\",1), # add 1 toaster to kitchen\n",
    "    (\"4e18e23a-ca8b-4ed3-9ba6-8e2fb46d6cd8\",\"6dc856f4-42fe-4fe0-868b-9d002eff2e27\",\"e5998068-17a4-4c7d-b64f-4b6e28e8b93d\",\"4d10faad-8a10-436b-b732-011a7b4ad043\",3), # add 3 yellow chairs to dining room\n",
    "]\n",
    "for inv in inventory:\n",
    "    insert_inventory(\n",
    "        inventory_id=inv[0],\n",
    "        inventory_id_parent=inv[1],\n",
    "        entity_id_parent=inv[2],\n",
    "        entity_id_child=inv[3],\n",
    "        quantity=inv[4],\n",
    "    )\n",
    "\n",
    "# check the inventory records\n",
    "print(select_inventory())"
   ]
  },
  {
   "cell_type": "code",
   "execution_count": 12,
   "id": "ab50be73-d6dd-41ca-9e57-66cb2fe4dc30",
   "metadata": {},
   "outputs": [
    {
     "name": "stdout",
     "output_type": "stream",
     "text": [
      "[<sqlite3.Row object at 0x7db6b0207580>, <sqlite3.Row object at 0x7db6b022ac50>, <sqlite3.Row object at 0x7db6b022a800>, <sqlite3.Row object at 0x7db6b0229c00>, <sqlite3.Row object at 0x7db6b022a440>, <sqlite3.Row object at 0x7db6b022a260>, <sqlite3.Row object at 0x7db6b022a8f0>, <sqlite3.Row object at 0x7db6b022a620>]\n"
     ]
    }
   ],
   "source": [
    "# insert some lower level items into the inventory\n",
    "inventory = [\n",
    "    (\"bb85b691-61f2-4a73-8313-3e5367d4b7b6\",\"2dfea04c-e8ea-4735-8b9a-4a9bf92dca08\",\"bb85b691-61f2-4a73-8313-3e5367d4b7b6\",\"bb85b691-61f2-4a73-8313-3e5367d4b7b6\",2), # add 2 coasters to coffee tables\n",
    "    (\"aa5c5230-29d1-4f02-b011-20a6ea03766a\",\"c064c2ee-0119-43fb-b8da-b247a4ce5007\",\"aa5c5230-29d1-4f02-b011-20a6ea03766a\",\"aa5c5230-29d1-4f02-b011-20a6ea03766a\",1), # add 1 slice of bread to toaster\n",
    "]\n",
    "for inv in inventory:\n",
    "    insert_inventory(\n",
    "        inventory_id=inv[0],\n",
    "        inventory_id_parent=inv[1],\n",
    "        entity_id_parent=inv[2],\n",
    "        entity_id_child=inv[3],\n",
    "        quantity=inv[4],\n",
    "    )\n",
    "\n",
    "# check the inventory records\n",
    "print(select_inventory())"
   ]
  },
  {
   "cell_type": "code",
   "execution_count": 13,
   "id": "0b36e9ea-a885-45b0-af01-d24e11147499",
   "metadata": {},
   "outputs": [
    {
     "name": "stdout",
     "output_type": "stream",
     "text": [
      "<sqlite3.Row object at 0x7db6b022b220>\n"
     ]
    }
   ],
   "source": [
    "# check the updating is working\n",
    "update_inventory(\n",
    "    entity_id_parent = \"03dd5c43-d66e-4c3f-a6eb-eb67b47c0373\", # lounge\n",
    "    entity_id_child = \"bb85b691-61f2-4a73-8313-3e5367d4b7b6\", # coffee table\n",
    "    quantity = 5 # quanity updated from 2 to 5\n",
    ")\n",
    "print(select_inventory(inventory_id = \"2dfea04c-e8ea-4735-8b9a-4a9bf92dca08\")) # checks the existing record has updated"
   ]
  },
  {
   "cell_type": "code",
   "execution_count": 14,
   "id": "3af60759-cdfb-494c-beea-ab024341468c",
   "metadata": {},
   "outputs": [
    {
     "name": "stdout",
     "output_type": "stream",
     "text": [
      "[{'inventory_id': '8ce8d635-c5c5-49d7-bdcf-2b5cfb2298fe', 'inventory_id_parent': '8ce8d635-c5c5-49d7-bdcf-2b5cfb2298fe', 'entity_id_parent': '281d67f9-7236-4c63-adaf-c7fac017d962', 'entity_id_child': '03dd5c43-d66e-4c3f-a6eb-eb67b47c0373', 'quantity': 1, 'hierarchy_level': 1, 'created_time': '2025-02-19 16:04:23'}, {'inventory_id': '4dbba35f-ef8f-4af1-9148-02f2a0e1cbd1', 'inventory_id_parent': '4dbba35f-ef8f-4af1-9148-02f2a0e1cbd1', 'entity_id_parent': '281d67f9-7236-4c63-adaf-c7fac017d962', 'entity_id_child': '468edbe1-74ea-41f2-b1ae-c97806841e0d', 'quantity': 1, 'hierarchy_level': 1, 'created_time': '2025-02-19 16:04:23'}, {'inventory_id': '6dc856f4-42fe-4fe0-868b-9d002eff2e27', 'inventory_id_parent': '6dc856f4-42fe-4fe0-868b-9d002eff2e27', 'entity_id_parent': '281d67f9-7236-4c63-adaf-c7fac017d962', 'entity_id_child': 'e5998068-17a4-4c7d-b64f-4b6e28e8b93d', 'quantity': 1, 'hierarchy_level': 1, 'created_time': '2025-02-19 16:04:23'}, {'inventory_id': '2dfea04c-e8ea-4735-8b9a-4a9bf92dca08', 'inventory_id_parent': '8ce8d635-c5c5-49d7-bdcf-2b5cfb2298fe', 'entity_id_parent': '03dd5c43-d66e-4c3f-a6eb-eb67b47c0373', 'entity_id_child': 'bb85b691-61f2-4a73-8313-3e5367d4b7b6', 'quantity': 5, 'hierarchy_level': 2, 'created_time': '2025-02-19 16:04:23'}, {'inventory_id': 'c064c2ee-0119-43fb-b8da-b247a4ce5007', 'inventory_id_parent': '4dbba35f-ef8f-4af1-9148-02f2a0e1cbd1', 'entity_id_parent': '468edbe1-74ea-41f2-b1ae-c97806841e0d', 'entity_id_child': 'aa5c5230-29d1-4f02-b011-20a6ea03766a', 'quantity': 1, 'hierarchy_level': 2, 'created_time': '2025-02-19 16:04:23'}, {'inventory_id': '4e18e23a-ca8b-4ed3-9ba6-8e2fb46d6cd8', 'inventory_id_parent': '6dc856f4-42fe-4fe0-868b-9d002eff2e27', 'entity_id_parent': 'e5998068-17a4-4c7d-b64f-4b6e28e8b93d', 'entity_id_child': '4d10faad-8a10-436b-b732-011a7b4ad043', 'quantity': 3, 'hierarchy_level': 2, 'created_time': '2025-02-19 16:04:23'}, {'inventory_id': 'bb85b691-61f2-4a73-8313-3e5367d4b7b6', 'inventory_id_parent': '2dfea04c-e8ea-4735-8b9a-4a9bf92dca08', 'entity_id_parent': 'bb85b691-61f2-4a73-8313-3e5367d4b7b6', 'entity_id_child': 'bb85b691-61f2-4a73-8313-3e5367d4b7b6', 'quantity': 2, 'hierarchy_level': 3, 'created_time': '2025-02-19 16:04:23'}, {'inventory_id': 'aa5c5230-29d1-4f02-b011-20a6ea03766a', 'inventory_id_parent': 'c064c2ee-0119-43fb-b8da-b247a4ce5007', 'entity_id_parent': 'aa5c5230-29d1-4f02-b011-20a6ea03766a', 'entity_id_child': 'aa5c5230-29d1-4f02-b011-20a6ea03766a', 'quantity': 1, 'hierarchy_level': 3, 'created_time': '2025-02-19 16:04:23'}]\n"
     ]
    }
   ],
   "source": [
    "# update inventory hierarchy levels\n",
    "entity_sql = select_entity(fields=\"[entity_id], [base_hierarchy_level]\")\n",
    "l1_entities = [entity[0] for entity in entity_sql if entity[1] == 1]\n",
    "l2_entities = [entity[0] for entity in entity_sql if entity[1] == 2]\n",
    "inventory_sql = select_inventory()\n",
    "inventory = sorted([dict(inv) for inv in inventory_sql], key=itemgetter('created_time'))\n",
    "updated_inventory = list()\n",
    "for inv in inventory:\n",
    "    if inv[\"entity_id_parent\"] in l1_entities: # calculate level as 1 if the inventory parent entity is a level 1\n",
    "        inv[\"level_calc\"] = 1\n",
    "        updated_inventory.append(inv)\n",
    "    elif inv[\"entity_id_parent\"] in l2_entities: # calculate level as 2 if the inventory parent entity is a level 2\n",
    "        inv[\"level_calc\"] = 2\n",
    "        updated_inventory.append(inv)\n",
    "    else: # otherwise get the level of the parent inventory and increment it by 1\n",
    "        parent_lvl = [i for i in updated_inventory if i[\"inventory_id\"] == inv[\"inventory_id_parent\"]][0][\"level_calc\"]\n",
    "        inv[\"level_calc\"] = parent_lvl + 1\n",
    "    update_inventory_hierarchy(\n",
    "        inventory_id = inv[\"inventory_id\"],\n",
    "        hierarchy_level = inv[\"level_calc\"]\n",
    "    )\n",
    "inventory_sql = select_inventory()\n",
    "inventory = sorted([dict(inv) for inv in inventory_sql], key=itemgetter('created_time'))\n",
    "print(inventory)\n"
   ]
  },
  {
   "cell_type": "code",
   "execution_count": null,
   "id": "89c558c4-7823-45e9-9a3a-cfb476ee8bac",
   "metadata": {},
   "outputs": [],
   "source": []
  }
 ],
 "metadata": {
  "kernelspec": {
   "display_name": "Python 3 (ipykernel)",
   "language": "python",
   "name": "python3"
  },
  "language_info": {
   "codemirror_mode": {
    "name": "ipython",
    "version": 3
   },
   "file_extension": ".py",
   "mimetype": "text/x-python",
   "name": "python",
   "nbconvert_exporter": "python",
   "pygments_lexer": "ipython3",
   "version": "3.12.3"
  }
 },
 "nbformat": 4,
 "nbformat_minor": 5
}
