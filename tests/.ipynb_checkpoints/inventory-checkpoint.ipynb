{
 "cells": [
  {
   "cell_type": "code",
   "execution_count": 1,
   "id": "6ca714ba-605c-4d52-b46c-bede9ef40576",
   "metadata": {},
   "outputs": [],
   "source": [
    "from inventory import Inventory\n",
    "from exception import InventoryRemoveZeroError\n",
    "from entity import Entity\n",
    "from sql import select_inventory"
   ]
  },
  {
   "cell_type": "code",
   "execution_count": 2,
   "id": "47161e3e-1c58-4c1c-9ab7-e08ef05bb63f",
   "metadata": {},
   "outputs": [
    {
     "name": "stdout",
     "output_type": "stream",
     "text": [
      "Yellow Chair (total inventory: 3)\n",
      "Lounge (total inventory: 1)\n"
     ]
    }
   ],
   "source": [
    "item = Entity(\"Yellow Chair\")\n",
    "print(item)\n",
    "location = Entity(\"Lounge\")\n",
    "print(location)\n"
   ]
  },
  {
   "cell_type": "code",
   "execution_count": 3,
   "id": "a83e8cdb-049f-44bf-b9dd-9c76f42a5e1c",
   "metadata": {},
   "outputs": [
    {
     "name": "stdout",
     "output_type": "stream",
     "text": [
      "{'inventory_id': '4e18e23a-ca8b-4ed3-9ba6-8e2fb46d6cd8', 'inventory_id_parent': '6dc856f4-42fe-4fe0-868b-9d002eff2e27', 'entity_id_parent': 'e5998068-17a4-4c7d-b64f-4b6e28e8b93d', 'entity_id_child': '4d10faad-8a10-436b-b732-011a7b4ad043', 'quantity': 3, 'position': 'IN', 'hierarchy_level': 2, 'created_time': '2025-02-20 20:00:05'}\n",
      "\n",
      "{'inventory_id': '2dfea04c-e8ea-4735-8b9a-4a9bf92dca08', 'inventory_id_parent': '8ce8d635-c5c5-49d7-bdcf-2b5cfb2298fe', 'entity_id_parent': '03dd5c43-d66e-4c3f-a6eb-eb67b47c0373', 'entity_id_child': 'bb85b691-61f2-4a73-8313-3e5367d4b7b6', 'quantity': 5, 'position': 'IN', 'hierarchy_level': 2, 'created_time': '2025-02-20 20:00:05'}\n"
     ]
    }
   ],
   "source": [
    "inventory_item = select_inventory(entity_id_child=item.id)\n",
    "for row in inventory_item:\n",
    "    print(dict(row))\n",
    "print()\n",
    "inventory_location = select_inventory(entity_id_parent=location.id)\n",
    "for row in inventory_location:\n",
    "    print(dict(row))"
   ]
  },
  {
   "cell_type": "code",
   "execution_count": 4,
   "id": "eb661584-be5e-442c-8a83-feb5c51eba8e",
   "metadata": {},
   "outputs": [
    {
     "name": "stdout",
     "output_type": "stream",
     "text": [
      "4 yellow chairs in lounge\n"
     ]
    }
   ],
   "source": [
    "inventory = Inventory(location, item, 4)\n",
    "print(inventory)"
   ]
  },
  {
   "cell_type": "code",
   "execution_count": 5,
   "id": "e4c852a5-c1c3-4a72-af6b-6e93a3634520",
   "metadata": {},
   "outputs": [
    {
     "name": "stdout",
     "output_type": "stream",
     "text": [
      "0\n"
     ]
    }
   ],
   "source": [
    "# remove all yellow chairs from lounge\n",
    "new_quantity = inventory.new_quantity\n",
    "inventory = Inventory(location, item, (new_quantity * -1))\n",
    "print(inventory.new_quantity)"
   ]
  },
  {
   "cell_type": "code",
   "execution_count": 6,
   "id": "a3c667f0-de73-4574-9385-6d4af61b7c5e",
   "metadata": {},
   "outputs": [
    {
     "name": "stdout",
     "output_type": "stream",
     "text": [
      "There are no yellow chairs in lounge to remove\n"
     ]
    }
   ],
   "source": [
    "# try removing a further yellow chair from the lounge\n",
    "try:\n",
    "    inventory = Inventory(location, item, -1)\n",
    "except InventoryRemoveZeroError as e:\n",
    "    print(e)"
   ]
  }
 ],
 "metadata": {
  "kernelspec": {
   "display_name": "Python 3 (ipykernel)",
   "language": "python",
   "name": "python3"
  },
  "language_info": {
   "codemirror_mode": {
    "name": "ipython",
    "version": 3
   },
   "file_extension": ".py",
   "mimetype": "text/x-python",
   "name": "python",
   "nbconvert_exporter": "python",
   "pygments_lexer": "ipython3",
   "version": "3.12.3"
  }
 },
 "nbformat": 4,
 "nbformat_minor": 5
}
