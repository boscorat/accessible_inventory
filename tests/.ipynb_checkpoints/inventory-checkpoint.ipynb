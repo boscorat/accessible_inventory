{
 "cells": [
  {
   "cell_type": "code",
   "execution_count": 1,
   "id": "6ca714ba-605c-4d52-b46c-bede9ef40576",
   "metadata": {},
   "outputs": [],
   "source": [
    "from inventory import Inventory\n",
    "from exception import InventoryRemoveZeroError, InventoryRemoveExcessiveError\n",
    "from entity import Entity\n",
    "from sql import select_inventory, select_entity"
   ]
  },
  {
   "cell_type": "code",
   "execution_count": 2,
   "id": "47161e3e-1c58-4c1c-9ab7-e08ef05bb63f",
   "metadata": {},
   "outputs": [
    {
     "name": "stdout",
     "output_type": "stream",
     "text": [
      "Yellow Chair (total inventory: 3) (4d10faad-8a10-436b-b732-011a7b4ad043)\n",
      "Lounge (total inventory: 1) (03dd5c43-d66e-4c3f-a6eb-eb67b47c0373)\n"
     ]
    }
   ],
   "source": [
    "# try adding a yellow chair to the lounge\n",
    "item = Entity(description=\"Yellow Chair\")\n",
    "print(item)\n",
    "location = Entity(description=\"Lounge\")\n",
    "print(location)"
   ]
  },
  {
   "cell_type": "code",
   "execution_count": 3,
   "id": "a83e8cdb-049f-44bf-b9dd-9c76f42a5e1c",
   "metadata": {},
   "outputs": [
    {
     "name": "stdout",
     "output_type": "stream",
     "text": [
      "{'inventory_id': '4e18e23a-ca8b-4ed3-9ba6-8e2fb46d6cd8', 'inventory_id_parent': '6dc856f4-42fe-4fe0-868b-9d002eff2e27', 'entity_id_parent': 'e5998068-17a4-4c7d-b64f-4b6e28e8b93d', 'entity_id_child': '4d10faad-8a10-436b-b732-011a7b4ad043', 'quantity': 3, 'position': 'IN', 'hierarchy_level': 2, 'created_time': '2025-03-02 16:32:07'}\n",
      "\n",
      "{'inventory_id': '2dfea04c-e8ea-4735-8b9a-4a9bf92dca08', 'inventory_id_parent': '8ce8d635-c5c5-49d7-bdcf-2b5cfb2298fe', 'entity_id_parent': '03dd5c43-d66e-4c3f-a6eb-eb67b47c0373', 'entity_id_child': 'bb85b691-61f2-4a73-8313-3e5367d4b7b6', 'quantity': 5, 'position': 'IN', 'hierarchy_level': 2, 'created_time': '2025-03-02 16:32:07'}\n"
     ]
    }
   ],
   "source": [
    "inventory_item = select_inventory(entity_id_child=item.id)\n",
    "for row in inventory_item:\n",
    "    print(dict(row))\n",
    "print()\n",
    "inventory_location = select_inventory(entity_id_parent=location.id)\n",
    "for row in inventory_location:\n",
    "    print(dict(row))"
   ]
  },
  {
   "cell_type": "code",
   "execution_count": 4,
   "id": "eb661584-be5e-442c-8a83-feb5c51eba8e",
   "metadata": {},
   "outputs": [
    {
     "name": "stdout",
     "output_type": "stream",
     "text": [
      "4 yellow chairs (4d10faad-8a10-436b-b732-011a7b4ad043) in lounge (03dd5c43-d66e-4c3f-a6eb-eb67b47c0373)\n"
     ]
    }
   ],
   "source": [
    "inventory = Inventory(entity_parent=location, entity_child=item, quantity=4)\n",
    "print(inventory)"
   ]
  },
  {
   "cell_type": "code",
   "execution_count": 5,
   "id": "5d5dbd82-6565-4d64-a1e3-e1197517ceab",
   "metadata": {},
   "outputs": [
    {
     "name": "stdout",
     "output_type": "stream",
     "text": [
      "{'inventory_id': '4e18e23a-ca8b-4ed3-9ba6-8e2fb46d6cd8', 'inventory_id_parent': '6dc856f4-42fe-4fe0-868b-9d002eff2e27', 'entity_id_parent': 'e5998068-17a4-4c7d-b64f-4b6e28e8b93d', 'entity_id_child': '4d10faad-8a10-436b-b732-011a7b4ad043', 'quantity': 3, 'position': 'IN', 'hierarchy_level': 2, 'created_time': '2025-03-02 16:32:07'}\n",
      "{'inventory_id': '23d526ed-9577-415a-b340-3745bfdb6424', 'inventory_id_parent': '8ce8d635-c5c5-49d7-bdcf-2b5cfb2298fe', 'entity_id_parent': '03dd5c43-d66e-4c3f-a6eb-eb67b47c0373', 'entity_id_child': '4d10faad-8a10-436b-b732-011a7b4ad043', 'quantity': 4, 'position': 'IN', 'hierarchy_level': 2, 'created_time': '2025-03-02 16:35:02'}\n",
      "\n",
      "{'inventory_id': '23d526ed-9577-415a-b340-3745bfdb6424', 'inventory_id_parent': '8ce8d635-c5c5-49d7-bdcf-2b5cfb2298fe', 'entity_id_parent': '03dd5c43-d66e-4c3f-a6eb-eb67b47c0373', 'entity_id_child': '4d10faad-8a10-436b-b732-011a7b4ad043', 'quantity': 4, 'position': 'IN', 'hierarchy_level': 2, 'created_time': '2025-03-02 16:35:02'}\n",
      "{'inventory_id': '2dfea04c-e8ea-4735-8b9a-4a9bf92dca08', 'inventory_id_parent': '8ce8d635-c5c5-49d7-bdcf-2b5cfb2298fe', 'entity_id_parent': '03dd5c43-d66e-4c3f-a6eb-eb67b47c0373', 'entity_id_child': 'bb85b691-61f2-4a73-8313-3e5367d4b7b6', 'quantity': 5, 'position': 'IN', 'hierarchy_level': 2, 'created_time': '2025-03-02 16:32:07'}\n"
     ]
    }
   ],
   "source": [
    "inventory_item = select_inventory(entity_id_child=item.id)\n",
    "for row in inventory_item:\n",
    "    print(dict(row))\n",
    "print()\n",
    "inventory_location = select_inventory(entity_id_parent=location.id)\n",
    "for row in inventory_location:\n",
    "    print(dict(row))"
   ]
  },
  {
   "cell_type": "code",
   "execution_count": 6,
   "id": "e4c852a5-c1c3-4a72-af6b-6e93a3634520",
   "metadata": {},
   "outputs": [
    {
     "name": "stdout",
     "output_type": "stream",
     "text": [
      "There are not enough yellow chairs in lounge to remove\n",
      "4\n"
     ]
    }
   ],
   "source": [
    "# try removing too many yellow chairs from the lounge\n",
    "try:\n",
    "    inventory = Inventory(entity_parent=location, entity_child=item, quantity=-99999)\n",
    "except InventoryRemoveExcessiveError as e:\n",
    "    print(e)\n",
    "print(inventory.new_quantity)"
   ]
  },
  {
   "cell_type": "code",
   "execution_count": 7,
   "id": "dd08da31-0fbf-44cc-9ab6-ceca7e2cc5da",
   "metadata": {},
   "outputs": [
    {
     "name": "stdout",
     "output_type": "stream",
     "text": [
      "0\n"
     ]
    }
   ],
   "source": [
    "# remove all yellow chairs from lounge\n",
    "new_quantity = inventory.new_quantity\n",
    "inventory = Inventory(entity_parent=location, entity_child=item, quantity=(new_quantity * -1))\n",
    "print(inventory.new_quantity)"
   ]
  },
  {
   "cell_type": "code",
   "execution_count": 8,
   "id": "a3c667f0-de73-4574-9385-6d4af61b7c5e",
   "metadata": {},
   "outputs": [
    {
     "name": "stdout",
     "output_type": "stream",
     "text": [
      "There are no yellow chairs in lounge to remove\n"
     ]
    }
   ],
   "source": [
    "# try removing a further yellow chair from the lounge\n",
    "try:\n",
    "    inventory = Inventory(entity_parent=location, entity_child=item, quantity=-1)\n",
    "except InventoryRemoveZeroError as e:\n",
    "    print(e)"
   ]
  },
  {
   "cell_type": "code",
   "execution_count": 9,
   "id": "0dc8158b-e248-4a04-b75e-2dc358a339f1",
   "metadata": {},
   "outputs": [
    {
     "name": "stdout",
     "output_type": "stream",
     "text": [
      "Stillwater (total inventory: 0) (9388641c-36bb-42f8-92b5-0d267098e7f1)\n"
     ]
    }
   ],
   "source": [
    "# add a new level 1 location\n",
    "location1 = Entity(description=\"Stillwaters\",base_hierarchy_level = 1)\n",
    "location1.id = \"9388641c-36bb-42f8-92b5-0d267098e7f1\"\n",
    "print(location1)"
   ]
  },
  {
   "cell_type": "code",
   "execution_count": 10,
   "id": "ab197218-13bb-41f1-89e7-100499deaed3",
   "metadata": {},
   "outputs": [
    {
     "name": "stdout",
     "output_type": "stream",
     "text": [
      "Dungeon (total inventory: 1) (987cfad6-dfce-45ef-867f-e0d09ff79785)\n"
     ]
    }
   ],
   "source": [
    "# add a new level 2 location\n",
    "location2 = Entity(description=\"Dungeon\",base_hierarchy_level = 2)\n",
    "location2.parent_id = \"9388641c-36bb-42f8-92b5-0d267098e7f1\"\n",
    "print(location2)"
   ]
  },
  {
   "cell_type": "code",
   "execution_count": 11,
   "id": "4fa94c8b-0cfe-441f-b947-87a2072f62b2",
   "metadata": {},
   "outputs": [
    {
     "name": "stdout",
     "output_type": "stream",
     "text": [
      "1\n"
     ]
    }
   ],
   "source": [
    "print(location1.base_hierarchy_level)"
   ]
  },
  {
   "cell_type": "code",
   "execution_count": 12,
   "id": "72343a42-bcef-4d17-ad38-f79210cf9059",
   "metadata": {},
   "outputs": [
    {
     "name": "stdout",
     "output_type": "stream",
     "text": [
      "2 dungeon (987cfad6-dfce-45ef-867f-e0d09ff79785) in stillwaters (9388641c-36bb-42f8-92b5-0d267098e7f1)\n"
     ]
    }
   ],
   "source": [
    "# create an inventory record for the new level 1 location\n",
    "inventory = Inventory(entity_parent=location1, entity_child=location2, quantity=1)\n",
    "print(inventory)"
   ]
  },
  {
   "cell_type": "code",
   "execution_count": 13,
   "id": "e43717ae-2b95-4483-b2b6-1856d9527ec0",
   "metadata": {},
   "outputs": [
    {
     "name": "stdout",
     "output_type": "stream",
     "text": [
      "[]\n"
     ]
    },
    {
     "ename": "TypeError",
     "evalue": "cannot unpack non-iterable NoneType object",
     "output_type": "error",
     "traceback": [
      "\u001b[0;31m---------------------------------------------------------------------------\u001b[0m",
      "\u001b[0;31mTypeError\u001b[0m                                 Traceback (most recent call last)",
      "Cell \u001b[0;32mIn[13], line 4\u001b[0m\n\u001b[1;32m      2\u001b[0m item \u001b[38;5;241m=\u001b[39m Entity(\u001b[38;5;124m\"\u001b[39m\u001b[38;5;124mCD Rack\u001b[39m\u001b[38;5;124m\"\u001b[39m)\n\u001b[1;32m      3\u001b[0m location \u001b[38;5;241m=\u001b[39m Entity(\u001b[38;5;124m\"\u001b[39m\u001b[38;5;124mDungeon\u001b[39m\u001b[38;5;124m\"\u001b[39m)\n\u001b[0;32m----> 4\u001b[0m invventory \u001b[38;5;241m=\u001b[39m \u001b[43mInventory\u001b[49m\u001b[43m(\u001b[49m\u001b[43mentity_parent\u001b[49m\u001b[38;5;241;43m=\u001b[39;49m\u001b[43mlocation\u001b[49m\u001b[43m,\u001b[49m\u001b[43m \u001b[49m\u001b[43mentity_child\u001b[49m\u001b[38;5;241;43m=\u001b[39;49m\u001b[43mitem\u001b[49m\u001b[43m,\u001b[49m\u001b[43m \u001b[49m\u001b[43mquantity\u001b[49m\u001b[38;5;241;43m=\u001b[39;49m\u001b[38;5;241;43m1\u001b[39;49m\u001b[43m)\u001b[49m\n\u001b[1;32m      5\u001b[0m \u001b[38;5;28mprint\u001b[39m(inventory)\n",
      "File \u001b[0;32m~/repos/accessible_inventory/modules/inventory.py:19\u001b[0m, in \u001b[0;36mInventory.__init__\u001b[0;34m(self, entity_parent, entity_child, quantity, position)\u001b[0m\n\u001b[1;32m     17\u001b[0m     \u001b[38;5;28mself\u001b[39m\u001b[38;5;241m.\u001b[39mnew_quantity \u001b[38;5;241m=\u001b[39m \u001b[38;5;28mself\u001b[39m\u001b[38;5;241m.\u001b[39mquantity\n\u001b[1;32m     18\u001b[0m     \u001b[38;5;28mself\u001b[39m\u001b[38;5;241m.\u001b[39mid \u001b[38;5;241m=\u001b[39m uuid4()\n\u001b[0;32m---> 19\u001b[0m     \u001b[38;5;28;43mself\u001b[39;49m\u001b[38;5;241;43m.\u001b[39;49m\u001b[43mcreate_new\u001b[49m\u001b[43m(\u001b[49m\u001b[43m)\u001b[49m\n\u001b[1;32m     20\u001b[0m \u001b[38;5;28;01melse\u001b[39;00m:\n\u001b[1;32m     21\u001b[0m     logger\u001b[38;5;241m.\u001b[39minfo(\n\u001b[1;32m     22\u001b[0m         \u001b[38;5;124mf\u001b[39m\u001b[38;5;124m\"\u001b[39m\u001b[38;5;124mThere are no \u001b[39m\u001b[38;5;132;01m{\u001b[39;00m\u001b[38;5;28mself\u001b[39m\u001b[38;5;241m.\u001b[39mentity_child\u001b[38;5;241m.\u001b[39m_plural\u001b[38;5;132;01m}\u001b[39;00m\u001b[38;5;124m in \u001b[39m\u001b[38;5;132;01m{\u001b[39;00m\u001b[38;5;28mself\u001b[39m\u001b[38;5;241m.\u001b[39mentity_parent\u001b[38;5;241m.\u001b[39mdescription\u001b[38;5;132;01m}\u001b[39;00m\u001b[38;5;124m to remove\u001b[39m\u001b[38;5;124m\"\u001b[39m\n\u001b[1;32m     23\u001b[0m     )\n",
      "File \u001b[0;32m~/repos/accessible_inventory/modules/inventory.py:109\u001b[0m, in \u001b[0;36mInventory.create_new\u001b[0;34m(self)\u001b[0m\n\u001b[1;32m    104\u001b[0m \u001b[38;5;28;01mtry\u001b[39;00m:\n\u001b[1;32m    105\u001b[0m     \u001b[38;5;28;01mif\u001b[39;00m (\n\u001b[1;32m    106\u001b[0m         \u001b[38;5;129;01mnot\u001b[39;00m \u001b[38;5;28mself\u001b[39m\u001b[38;5;241m.\u001b[39mentity_parent\u001b[38;5;241m.\u001b[39mbase_hierarchy_level\n\u001b[1;32m    107\u001b[0m         \u001b[38;5;129;01mor\u001b[39;00m \u001b[38;5;28mself\u001b[39m\u001b[38;5;241m.\u001b[39mentity_parent\u001b[38;5;241m.\u001b[39mbase_hierarchy_level \u001b[38;5;241m!=\u001b[39m \u001b[38;5;241m1\u001b[39m\n\u001b[1;32m    108\u001b[0m     ):\n\u001b[0;32m--> 109\u001b[0m         inventory_id_parent, parent_hierarchy \u001b[38;5;241m=\u001b[39m \u001b[38;5;28mself\u001b[39m\u001b[38;5;241m.\u001b[39mget_parent()\n\u001b[1;32m    110\u001b[0m     \u001b[38;5;28;01melse\u001b[39;00m:\n\u001b[1;32m    111\u001b[0m         inventory_id_parent \u001b[38;5;241m=\u001b[39m \u001b[38;5;28;01mNone\u001b[39;00m\n",
      "\u001b[0;31mTypeError\u001b[0m: cannot unpack non-iterable NoneType object"
     ]
    }
   ],
   "source": [
    "# add a cd rack to the dungeon\n",
    "item = Entity(\"CD Rack\")\n",
    "location = Entity(\"Dungeon\")\n",
    "invventory = Inventory(entity_parent=location, entity_child=item, quantity=1)\n",
    "print(inventory)"
   ]
  }
 ],
 "metadata": {
  "kernelspec": {
   "display_name": "Python 3 (ipykernel)",
   "language": "python",
   "name": "python3"
  },
  "language_info": {
   "codemirror_mode": {
    "name": "ipython",
    "version": 3
   },
   "file_extension": ".py",
   "mimetype": "text/x-python",
   "name": "python",
   "nbconvert_exporter": "python",
   "pygments_lexer": "ipython3",
   "version": "3.12.3"
  }
 },
 "nbformat": 4,
 "nbformat_minor": 5
}
