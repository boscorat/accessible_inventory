{
 "cells": [
  {
   "cell_type": "code",
   "execution_count": 1,
   "id": "6ca714ba-605c-4d52-b46c-bede9ef40576",
   "metadata": {},
   "outputs": [],
   "source": [
    "from inventory import Inventory\n",
    "from exception import InventoryRemoveZeroError, InventoryRemoveExcessiveError\n",
    "from entity import Entity\n",
    "from sql import select_inventory, select_entity\n",
    "from uuid import uuid4"
   ]
  },
  {
   "cell_type": "code",
   "execution_count": 2,
   "id": "ed568887-555c-4408-99cf-2b5c16949a7e",
   "metadata": {},
   "outputs": [],
   "source": [
    "# coonect using duckdb and validate tables\n",
    "import duckdb as dd\n",
    "\n",
    "# Create an in-memory DuckDB connection\n",
    "con = dd.connect(':memory:')\n",
    "\n",
    "# dd.sql(\"SELECT * FROM sqlite_scan('../data/inventory.db', 'inventory_sql');\").show()\n",
    "try:\n",
    "    dd.sql(\"ATTACH '../data/inventory.db' AS inventory (TYPE sqlite);\")\n",
    "except:\n",
    "    print(\"already attached\")\n",
    "dd.sql(\"USE inventory\")"
   ]
  },
  {
   "cell_type": "code",
   "execution_count": 3,
   "id": "ae0ea68c-f7ed-45d1-9212-367794190847",
   "metadata": {},
   "outputs": [],
   "source": [
    "# define database queries\n",
    "sql_inventory = '''\n",
    "        select INV.hierarchy_level as lvl\n",
    "            , INV.quantity as qty\n",
    "            , CHI.description_singular as child\n",
    "            , INV.position as pos\n",
    "            , PAR.description_singular as parent\n",
    "            , INV.inventory_id\n",
    "            , INV.inventory_id_parent\n",
    "            , PAR.entity_id as parent\n",
    "            , CHI.entity_id as child\n",
    "        from inventory_sql INV\n",
    "        inner join entity_sql PAR on PAR.entity_id = INV.entity_id_parent\n",
    "        inner join entity_sql CHI on CHI.entity_id = INV.entity_id_child\n",
    "    '''"
   ]
  },
  {
   "cell_type": "code",
   "execution_count": 4,
   "id": "47161e3e-1c58-4c1c-9ab7-e08ef05bb63f",
   "metadata": {},
   "outputs": [
    {
     "name": "stdout",
     "output_type": "stream",
     "text": [
      "Yellow Chair (total inventory: 3) (4d10faad-8a10-436b-b732-011a7b4ad043)\n",
      "Lounge (total inventory: 1) (03dd5c43-d66e-4c3f-a6eb-eb67b47c0373)\n"
     ]
    }
   ],
   "source": [
    "# try adding a yellow chair to the lounge\n",
    "item = Entity(description=\"Yellow Chair\")\n",
    "print(item)\n",
    "location = Entity(description=\"Lounge\")\n",
    "print(location)"
   ]
  },
  {
   "cell_type": "code",
   "execution_count": 5,
   "id": "a83e8cdb-049f-44bf-b9dd-9c76f42a5e1c",
   "metadata": {},
   "outputs": [
    {
     "name": "stdout",
     "output_type": "stream",
     "text": [
      "yellow chair inventory:\n",
      "┌───────┬───────┬──────────────┬─────────┬─────────────┬──────────────────────────────────────┬──────────────────────────────────────┬──────────────────────────────────────┬──────────────────────────────────────┐\n",
      "│  lvl  │  qty  │    child     │   pos   │   parent    │             inventory_id             │         inventory_id_parent          │                parent                │                child                 │\n",
      "│ int64 │ int64 │   varchar    │ varchar │   varchar   │               varchar                │               varchar                │               varchar                │               varchar                │\n",
      "├───────┼───────┼──────────────┼─────────┼─────────────┼──────────────────────────────────────┼──────────────────────────────────────┼──────────────────────────────────────┼──────────────────────────────────────┤\n",
      "│     2 │     3 │ yellow chair │ IN      │ dining room │ 4e18e23a-ca8b-4ed3-9ba6-8e2fb46d6cd8 │ 6dc856f4-42fe-4fe0-868b-9d002eff2e27 │ e5998068-17a4-4c7d-b64f-4b6e28e8b93d │ 4d10faad-8a10-436b-b732-011a7b4ad043 │\n",
      "└───────┴───────┴──────────────┴─────────┴─────────────┴──────────────────────────────────────┴──────────────────────────────────────┴──────────────────────────────────────┴──────────────────────────────────────┘\n",
      "\n",
      "lounge inventory:\n",
      "┌───────┬───────┬──────────────┬─────────┬─────────┬──────────────────────────────────────┬──────────────────────────────────────┬──────────────────────────────────────┬──────────────────────────────────────┐\n",
      "│  lvl  │  qty  │    child     │   pos   │ parent  │             inventory_id             │         inventory_id_parent          │                parent                │                child                 │\n",
      "│ int64 │ int64 │   varchar    │ varchar │ varchar │               varchar                │               varchar                │               varchar                │               varchar                │\n",
      "├───────┼───────┼──────────────┼─────────┼─────────┼──────────────────────────────────────┼──────────────────────────────────────┼──────────────────────────────────────┼──────────────────────────────────────┤\n",
      "│     2 │     5 │ coffee table │ IN      │ lounge  │ 2dfea04c-e8ea-4735-8b9a-4a9bf92dca08 │ 8ce8d635-c5c5-49d7-bdcf-2b5cfb2298fe │ 03dd5c43-d66e-4c3f-a6eb-eb67b47c0373 │ bb85b691-61f2-4a73-8313-3e5367d4b7b6 │\n",
      "└───────┴───────┴──────────────┴─────────┴─────────┴──────────────────────────────────────┴──────────────────────────────────────┴──────────────────────────────────────┴──────────────────────────────────────┘\n",
      "\n"
     ]
    }
   ],
   "source": [
    "# check the inventory for the item\n",
    "print(f\"{item.description} inventory:\")\n",
    "sql_where = f\"WHERE INV.entity_id_child = '{item.entity_id}'\"\n",
    "sql_full = sql_inventory + sql_where\n",
    "dd.sql(sql_full).show()\n",
    "# and the inventory for the location\n",
    "print(f\"{location.description} inventory:\")\n",
    "sql_where = f\"WHERE INV.entity_id_parent = '{location.entity_id}'\"\n",
    "sql_full = sql_inventory + sql_where\n",
    "dd.sql(sql_full).show()"
   ]
  },
  {
   "cell_type": "code",
   "execution_count": 6,
   "id": "eb661584-be5e-442c-8a83-feb5c51eba8e",
   "metadata": {},
   "outputs": [
    {
     "name": "stdout",
     "output_type": "stream",
     "text": [
      "Inventory created successfully\n",
      "4 yellow chairs (4d10faad-8a10-436b-b732-011a7b4ad043) in lounge (03dd5c43-d66e-4c3f-a6eb-eb67b47c0373)\n",
      "┌───────┬───────┬──────────────┬─────────┬─────────┬──────────────────────────────────────┬──────────────────────────────────────┬──────────────────────────────────────┬──────────────────────────────────────┐\n",
      "│  lvl  │  qty  │    child     │   pos   │ parent  │             inventory_id             │         inventory_id_parent          │                parent                │                child                 │\n",
      "│ int64 │ int64 │   varchar    │ varchar │ varchar │               varchar                │               varchar                │               varchar                │               varchar                │\n",
      "├───────┼───────┼──────────────┼─────────┼─────────┼──────────────────────────────────────┼──────────────────────────────────────┼──────────────────────────────────────┼──────────────────────────────────────┤\n",
      "│     2 │     4 │ yellow chair │ IN      │ lounge  │ 0a866b20-5343-47d9-add9-ad2a9ceabe45 │ 8ce8d635-c5c5-49d7-bdcf-2b5cfb2298fe │ 03dd5c43-d66e-4c3f-a6eb-eb67b47c0373 │ 4d10faad-8a10-436b-b732-011a7b4ad043 │\n",
      "└───────┴───────┴──────────────┴─────────┴─────────┴──────────────────────────────────────┴──────────────────────────────────────┴──────────────────────────────────────┴──────────────────────────────────────┘\n",
      "\n"
     ]
    }
   ],
   "source": [
    "# try adding 4 yellow chairs to the lounge\n",
    "inventory = Inventory(entity_parent=location, entity_child=item, quantity=4)\n",
    "print(inventory)\n",
    "sql_where = f\"WHERE INV.entity_id_parent = '{location.entity_id}' and entity_id_child = '{item.entity_id}'\"\n",
    "sql_full = sql_inventory + sql_where\n",
    "dd.sql(sql_full).show()"
   ]
  },
  {
   "cell_type": "code",
   "execution_count": 7,
   "id": "5d5dbd82-6565-4d64-a1e3-e1197517ceab",
   "metadata": {},
   "outputs": [
    {
     "name": "stdout",
     "output_type": "stream",
     "text": [
      "yellow chair inventory:\n",
      "┌───────┬───────┬──────────────┬─────────┬─────────────┬──────────────────────────────────────┬──────────────────────────────────────┬──────────────────────────────────────┬──────────────────────────────────────┐\n",
      "│  lvl  │  qty  │    child     │   pos   │   parent    │             inventory_id             │         inventory_id_parent          │                parent                │                child                 │\n",
      "│ int64 │ int64 │   varchar    │ varchar │   varchar   │               varchar                │               varchar                │               varchar                │               varchar                │\n",
      "├───────┼───────┼──────────────┼─────────┼─────────────┼──────────────────────────────────────┼──────────────────────────────────────┼──────────────────────────────────────┼──────────────────────────────────────┤\n",
      "│     2 │     4 │ yellow chair │ IN      │ lounge      │ 0a866b20-5343-47d9-add9-ad2a9ceabe45 │ 8ce8d635-c5c5-49d7-bdcf-2b5cfb2298fe │ 03dd5c43-d66e-4c3f-a6eb-eb67b47c0373 │ 4d10faad-8a10-436b-b732-011a7b4ad043 │\n",
      "│     2 │     3 │ yellow chair │ IN      │ dining room │ 4e18e23a-ca8b-4ed3-9ba6-8e2fb46d6cd8 │ 6dc856f4-42fe-4fe0-868b-9d002eff2e27 │ e5998068-17a4-4c7d-b64f-4b6e28e8b93d │ 4d10faad-8a10-436b-b732-011a7b4ad043 │\n",
      "└───────┴───────┴──────────────┴─────────┴─────────────┴──────────────────────────────────────┴──────────────────────────────────────┴──────────────────────────────────────┴──────────────────────────────────────┘\n",
      "\n",
      "lounge inventory:\n",
      "┌───────┬───────┬──────────────┬─────────┬─────────┬──────────────────────────────────────┬──────────────────────────────────────┬──────────────────────────────────────┬──────────────────────────────────────┐\n",
      "│  lvl  │  qty  │    child     │   pos   │ parent  │             inventory_id             │         inventory_id_parent          │                parent                │                child                 │\n",
      "│ int64 │ int64 │   varchar    │ varchar │ varchar │               varchar                │               varchar                │               varchar                │               varchar                │\n",
      "├───────┼───────┼──────────────┼─────────┼─────────┼──────────────────────────────────────┼──────────────────────────────────────┼──────────────────────────────────────┼──────────────────────────────────────┤\n",
      "│     2 │     4 │ yellow chair │ IN      │ lounge  │ 0a866b20-5343-47d9-add9-ad2a9ceabe45 │ 8ce8d635-c5c5-49d7-bdcf-2b5cfb2298fe │ 03dd5c43-d66e-4c3f-a6eb-eb67b47c0373 │ 4d10faad-8a10-436b-b732-011a7b4ad043 │\n",
      "│     2 │     5 │ coffee table │ IN      │ lounge  │ 2dfea04c-e8ea-4735-8b9a-4a9bf92dca08 │ 8ce8d635-c5c5-49d7-bdcf-2b5cfb2298fe │ 03dd5c43-d66e-4c3f-a6eb-eb67b47c0373 │ bb85b691-61f2-4a73-8313-3e5367d4b7b6 │\n",
      "└───────┴───────┴──────────────┴─────────┴─────────┴──────────────────────────────────────┴──────────────────────────────────────┴──────────────────────────────────────┴──────────────────────────────────────┘\n",
      "\n"
     ]
    }
   ],
   "source": [
    "# check the inventory for the item\n",
    "print(f\"{item.description} inventory:\")\n",
    "sql_where = f\"WHERE INV.entity_id_child = '{item.entity_id}'\"\n",
    "sql_full = sql_inventory + sql_where\n",
    "dd.sql(sql_full).show()\n",
    "# and the inventory for the location\n",
    "print(f\"{location.description} inventory:\")\n",
    "sql_where = f\"WHERE INV.entity_id_parent = '{location.entity_id}'\"\n",
    "sql_full = sql_inventory + sql_where\n",
    "dd.sql(sql_full).show()"
   ]
  },
  {
   "cell_type": "code",
   "execution_count": 8,
   "id": "ed316dd8-e10e-455b-a320-d26835cc9f0f",
   "metadata": {},
   "outputs": [
    {
     "name": "stdout",
     "output_type": "stream",
     "text": [
      "Inventory updated successfully\n",
      "6 yellow chairs (4d10faad-8a10-436b-b732-011a7b4ad043) in lounge (03dd5c43-d66e-4c3f-a6eb-eb67b47c0373)\n",
      "┌───────┬───────┬──────────────┬─────────┬─────────┬──────────────────────────────────────┬──────────────────────────────────────┬──────────────────────────────────────┬──────────────────────────────────────┐\n",
      "│  lvl  │  qty  │    child     │   pos   │ parent  │             inventory_id             │         inventory_id_parent          │                parent                │                child                 │\n",
      "│ int64 │ int64 │   varchar    │ varchar │ varchar │               varchar                │               varchar                │               varchar                │               varchar                │\n",
      "├───────┼───────┼──────────────┼─────────┼─────────┼──────────────────────────────────────┼──────────────────────────────────────┼──────────────────────────────────────┼──────────────────────────────────────┤\n",
      "│     2 │     6 │ yellow chair │ IN      │ lounge  │ 0a866b20-5343-47d9-add9-ad2a9ceabe45 │ 8ce8d635-c5c5-49d7-bdcf-2b5cfb2298fe │ 03dd5c43-d66e-4c3f-a6eb-eb67b47c0373 │ 4d10faad-8a10-436b-b732-011a7b4ad043 │\n",
      "└───────┴───────┴──────────────┴─────────┴─────────┴──────────────────────────────────────┴──────────────────────────────────────┴──────────────────────────────────────┴──────────────────────────────────────┘\n",
      "\n"
     ]
    }
   ],
   "source": [
    "# try adding a further 2 yellow chairs to the lounge\n",
    "inventory = Inventory(entity_parent=location, entity_child=item, quantity=2)\n",
    "print(inventory)\n",
    "sql_where = f\"WHERE INV.entity_id_parent = '{location.entity_id}' and entity_id_child = '{item.entity_id}'\"\n",
    "sql_full = sql_inventory + sql_where\n",
    "dd.sql(sql_full).show()"
   ]
  },
  {
   "cell_type": "code",
   "execution_count": 9,
   "id": "e4c852a5-c1c3-4a72-af6b-6e93a3634520",
   "metadata": {},
   "outputs": [
    {
     "name": "stdout",
     "output_type": "stream",
     "text": [
      "There are not enough yellow chairs in lounge to remove\n"
     ]
    }
   ],
   "source": [
    "# try removing too many yellow chairs from the lounge\n",
    "try:\n",
    "    inventory = Inventory(entity_parent=location, entity_child=item, quantity=99999, action=\"REMOVE\")\n",
    "except InventoryRemoveExcessiveError as e:\n",
    "    print(e)"
   ]
  },
  {
   "cell_type": "code",
   "execution_count": 10,
   "id": "dd08da31-0fbf-44cc-9ab6-ceca7e2cc5da",
   "metadata": {},
   "outputs": [
    {
     "name": "stdout",
     "output_type": "stream",
     "text": [
      "Inventory deleted successfully\n",
      "┌───────┬───────┬─────────┬─────────┬─────────┬──────────────┬─────────────────────┬─────────┬─────────┐\n",
      "│  lvl  │  qty  │  child  │   pos   │ parent  │ inventory_id │ inventory_id_parent │ parent  │  child  │\n",
      "│ int64 │ int64 │ varchar │ varchar │ varchar │   varchar    │       varchar       │ varchar │ varchar │\n",
      "├───────┴───────┴─────────┴─────────┴─────────┴──────────────┴─────────────────────┴─────────┴─────────┤\n",
      "│                                                0 rows                                                │\n",
      "└──────────────────────────────────────────────────────────────────────────────────────────────────────┘\n",
      "\n"
     ]
    }
   ],
   "source": [
    "# remove all yellow chairs from lounge\n",
    "new_quantity = inventory._quantity_new\n",
    "inventory = Inventory(entity_parent=location, entity_child=item, quantity=new_quantity, action=\"REMOVE\")\n",
    "# inventory record should have been deleted\n",
    "sql_where = f\"WHERE INV.entity_id_parent = '{location.entity_id}' and entity_id_child = '{item.entity_id}'\"\n",
    "sql_full = sql_inventory + sql_where\n",
    "dd.sql(sql_full).show()"
   ]
  },
  {
   "cell_type": "code",
   "execution_count": 11,
   "id": "a3c667f0-de73-4574-9385-6d4af61b7c5e",
   "metadata": {},
   "outputs": [
    {
     "name": "stdout",
     "output_type": "stream",
     "text": [
      "There are no yellow chairs in lounge to remove\n"
     ]
    }
   ],
   "source": [
    "# try removing a further yellow chair from the lounge\n",
    "try:\n",
    "    inventory = Inventory(entity_parent=location, entity_child=item, quantity=1, action=\"REMOVE\")\n",
    "except InventoryRemoveZeroError as e:\n",
    "    print(e)"
   ]
  },
  {
   "cell_type": "code",
   "execution_count": 12,
   "id": "0dc8158b-e248-4a04-b75e-2dc358a339f1",
   "metadata": {},
   "outputs": [
    {
     "name": "stdout",
     "output_type": "stream",
     "text": [
      "Entity created successfully: Stillwater (total inventory: 0) (339cfbbb-f263-41f0-b4dc-5abcfe83e98c)\n",
      "┌──────────────────────────────────────┬──────────────────┬────────────┬────────────┬────────────┬──────────────────────┬────────────────────┬──────────────────────┬─────────────────────┐\n",
      "│              entity_id               │ entity_id_parent │ entity_key │    noun    │ adjectives │ description_singular │ description_plural │ base_hierarchy_level │    created_time     │\n",
      "│               varchar                │     varchar      │  varchar   │  varchar   │  varchar   │       varchar        │      varchar       │        int64         │      timestamp      │\n",
      "├──────────────────────────────────────┼──────────────────┼────────────┼────────────┼────────────┼──────────────────────┼────────────────────┼──────────────────────┼─────────────────────┤\n",
      "│ 339cfbbb-f263-41f0-b4dc-5abcfe83e98c │ None             │ stillwater │ stillwater │            │ stillwater           │ stillwaters        │                    1 │ 2025-03-07 17:06:17 │\n",
      "└──────────────────────────────────────┴──────────────────┴────────────┴────────────┴────────────┴──────────────────────┴────────────────────┴──────────────────────┴─────────────────────┘\n",
      "\n"
     ]
    }
   ],
   "source": [
    "# add a new level 1 location\n",
    "location1 = Entity(description=\"Stillwaters\",base_hierarchy_level = 1, entity_id=\"339cfbbb-f263-41f0-b4dc-5abcfe83e98c\")\n",
    "dd.sql(f\"select * from entity_sql where entity_key = 'stillwater'\").show()"
   ]
  },
  {
   "cell_type": "code",
   "execution_count": 13,
   "id": "ab197218-13bb-41f1-89e7-100499deaed3",
   "metadata": {},
   "outputs": [
    {
     "name": "stdout",
     "output_type": "stream",
     "text": [
      "Entity created successfully: Dungeon (total inventory: 0) (9388641c-36bb-42f8-92b5-0d267098e7f1)\n",
      "┌──────────────────────────────────────┬──────────────────────────────────────┬────────────┬─────────┬────────────┬──────────────────────┬────────────────────┬──────────────────────┬─────────────────────┐\n",
      "│              entity_id               │           entity_id_parent           │ entity_key │  noun   │ adjectives │ description_singular │ description_plural │ base_hierarchy_level │    created_time     │\n",
      "│               varchar                │               varchar                │  varchar   │ varchar │  varchar   │       varchar        │      varchar       │        int64         │      timestamp      │\n",
      "├──────────────────────────────────────┼──────────────────────────────────────┼────────────┼─────────┼────────────┼──────────────────────┼────────────────────┼──────────────────────┼─────────────────────┤\n",
      "│ 9388641c-36bb-42f8-92b5-0d267098e7f1 │ 339cfbbb-f263-41f0-b4dc-5abcfe83e98c │ dungeon    │ dungeon │            │ dungeon              │ dungeon            │                    2 │ 2025-03-07 17:06:18 │\n",
      "└──────────────────────────────────────┴──────────────────────────────────────┴────────────┴─────────┴────────────┴──────────────────────┴────────────────────┴──────────────────────┴─────────────────────┘\n",
      "\n"
     ]
    }
   ],
   "source": [
    "# add a new level 2 location\n",
    "location2 = Entity(description=\"Dungeon\",base_hierarchy_level = 2, entity_id=\"9388641c-36bb-42f8-92b5-0d267098e7f1\", entity_id_parent=\"339cfbbb-f263-41f0-b4dc-5abcfe83e98c\")\n",
    "dd.sql(f\"select * from entity_sql where entity_key = 'dungeon'\").show()"
   ]
  },
  {
   "cell_type": "code",
   "execution_count": 14,
   "id": "72343a42-bcef-4d17-ad38-f79210cf9059",
   "metadata": {},
   "outputs": [
    {
     "name": "stdout",
     "output_type": "stream",
     "text": [
      "Inventory created successfully\n",
      "339cfbbb-f263-41f0-b4dc-5abcfe83e98c 9388641c-36bb-42f8-92b5-0d267098e7f1\n",
      "┌───────┬───────┬─────────┬─────────┬────────────┬──────────────────────────────────────┬──────────────────────────────────────┬──────────────────────────────────────┬──────────────────────────────────────┐\n",
      "│  lvl  │  qty  │  child  │   pos   │   parent   │             inventory_id             │         inventory_id_parent          │                parent                │                child                 │\n",
      "│ int64 │ int64 │ varchar │ varchar │  varchar   │               varchar                │               varchar                │               varchar                │               varchar                │\n",
      "├───────┼───────┼─────────┼─────────┼────────────┼──────────────────────────────────────┼──────────────────────────────────────┼──────────────────────────────────────┼──────────────────────────────────────┤\n",
      "│     1 │     1 │ dungeon │ IN      │ stillwater │ cc4a2f0b-5092-4d7e-a89a-2f6437320162 │ cc4a2f0b-5092-4d7e-a89a-2f6437320162 │ 339cfbbb-f263-41f0-b4dc-5abcfe83e98c │ 9388641c-36bb-42f8-92b5-0d267098e7f1 │\n",
      "└───────┴───────┴─────────┴─────────┴────────────┴──────────────────────────────────────┴──────────────────────────────────────┴──────────────────────────────────────┴──────────────────────────────────────┘\n",
      "\n"
     ]
    }
   ],
   "source": [
    "# create an inventory record for the new level 1 location\n",
    "inventory = Inventory(entity_parent=location1, entity_child=location2, quantity=1)\n",
    "print(location1.entity_id, location2.entity_id)\n",
    "# inventory record newly created\n",
    "sql_where = f\"WHERE INV.entity_id_parent = '{location1.entity_id}' and entity_id_child = '{location2.entity_id}'\"\n",
    "sql_full = sql_inventory + sql_where\n",
    "dd.sql(sql_full).show()"
   ]
  },
  {
   "cell_type": "code",
   "execution_count": 15,
   "id": "e43717ae-2b95-4483-b2b6-1856d9527ec0",
   "metadata": {},
   "outputs": [
    {
     "name": "stdout",
     "output_type": "stream",
     "text": [
      "Entity created successfully: Cd Rack (total inventory: 0) (dca8db90-e4f6-4a3d-ba66-7603973853d3)\n",
      "Inventory created successfully\n",
      "┌───────┬───────┬─────────┬─────────┬─────────┬──────────────────────────────────────┬──────────────────────────────────────┬──────────────────────────────────────┬──────────────────────────────────────┐\n",
      "│  lvl  │  qty  │  child  │   pos   │ parent  │             inventory_id             │         inventory_id_parent          │                parent                │                child                 │\n",
      "│ int64 │ int64 │ varchar │ varchar │ varchar │               varchar                │               varchar                │               varchar                │               varchar                │\n",
      "├───────┼───────┼─────────┼─────────┼─────────┼──────────────────────────────────────┼──────────────────────────────────────┼──────────────────────────────────────┼──────────────────────────────────────┤\n",
      "│     2 │     1 │ cd rack │ IN      │ dungeon │ 67c3aa0e-1349-4143-8521-fc95dfb82539 │ cc4a2f0b-5092-4d7e-a89a-2f6437320162 │ 9388641c-36bb-42f8-92b5-0d267098e7f1 │ dca8db90-e4f6-4a3d-ba66-7603973853d3 │\n",
      "└───────┴───────┴─────────┴─────────┴─────────┴──────────────────────────────────────┴──────────────────────────────────────┴──────────────────────────────────────┴──────────────────────────────────────┘\n",
      "\n"
     ]
    }
   ],
   "source": [
    "# add a cd rack to the dungeon\n",
    "item = Entity(\"CD Rack\")\n",
    "location = Entity(\"Dungeon\")\n",
    "inventory = Inventory(entity_parent=location, entity_child=item, quantity=1)\n",
    "# inventory record newly created\n",
    "sql_where = f\"WHERE INV.entity_id_parent = '{location.entity_id}' and entity_id_child = '{item.entity_id}'\"\n",
    "sql_full = sql_inventory + sql_where\n",
    "dd.sql(sql_full).show()"
   ]
  },
  {
   "cell_type": "code",
   "execution_count": 16,
   "id": "128f995e-1003-4579-92e3-eee53f8389c3",
   "metadata": {},
   "outputs": [
    {
     "name": "stdout",
     "output_type": "stream",
     "text": [
      "Entity created successfully: World Wont Listen By Smith (total inventory: 0) (8deaab3a-412f-4a7b-b942-c8dacc9e2e17)\n",
      "Inventory created successfully\n",
      "┌───────┬───────┬────────────────────────────┬─────────┬─────────┬──────────────────────────────────────┬──────────────────────────────────────┬──────────────────────────────────────┬──────────────────────────────────────┐\n",
      "│  lvl  │  qty  │           child            │   pos   │ parent  │             inventory_id             │         inventory_id_parent          │                parent                │                child                 │\n",
      "│ int64 │ int64 │          varchar           │ varchar │ varchar │               varchar                │               varchar                │               varchar                │               varchar                │\n",
      "├───────┼───────┼────────────────────────────┼─────────┼─────────┼──────────────────────────────────────┼──────────────────────────────────────┼──────────────────────────────────────┼──────────────────────────────────────┤\n",
      "│     3 │     1 │ world wont listen by smith │ IN      │ cd rack │ 2c2c709d-4834-45b9-839d-5a0e04ff502d │ 67c3aa0e-1349-4143-8521-fc95dfb82539 │ dca8db90-e4f6-4a3d-ba66-7603973853d3 │ 8deaab3a-412f-4a7b-b942-c8dacc9e2e17 │\n",
      "└───────┴───────┴────────────────────────────┴─────────┴─────────┴──────────────────────────────────────┴──────────────────────────────────────┴──────────────────────────────────────┴──────────────────────────────────────┘\n",
      "\n"
     ]
    }
   ],
   "source": [
    "# add a cd to the cd rack\n",
    "item = Entity(\"The World Wont Listen by The Smiths\")\n",
    "location = Entity(\"CD Rack\")\n",
    "inventory = Inventory(entity_parent=location, entity_child=item, quantity=1)\n",
    "# inventory record newly created\n",
    "sql_where = f\"WHERE INV.entity_id_parent = '{location.entity_id}' and entity_id_child = '{item.entity_id}'\"\n",
    "sql_full = sql_inventory + sql_where\n",
    "dd.sql(sql_full).show()"
   ]
  },
  {
   "cell_type": "code",
   "execution_count": 18,
   "id": "5c5f7652-f728-4cda-b105-57349274b63a",
   "metadata": {},
   "outputs": [
    {
     "ename": "ValueError",
     "evalue": "Error creating entity: UNIQUE constraint failed: entity_sql.entity_key",
     "output_type": "error",
     "traceback": [
      "\u001b[0;31m---------------------------------------------------------------------------\u001b[0m",
      "\u001b[0;31mIntegrityError\u001b[0m                            Traceback (most recent call last)",
      "File \u001b[0;32m~/repos/accessible_inventory/modules/entity.py:117\u001b[0m, in \u001b[0;36mEntity.create_new\u001b[0;34m(self)\u001b[0m\n\u001b[1;32m    116\u001b[0m \u001b[38;5;28;01mtry\u001b[39;00m:\n\u001b[0;32m--> 117\u001b[0m     \u001b[43minsert_entity\u001b[49m\u001b[43m(\u001b[49m\n\u001b[1;32m    118\u001b[0m \u001b[43m        \u001b[49m\u001b[43mentity_id\u001b[49m\u001b[38;5;241;43m=\u001b[39;49m\u001b[38;5;28;43mself\u001b[39;49m\u001b[38;5;241;43m.\u001b[39;49m\u001b[43mentity_id\u001b[49m\u001b[43m,\u001b[49m\n\u001b[1;32m    119\u001b[0m \u001b[43m        \u001b[49m\u001b[43mentity_key\u001b[49m\u001b[38;5;241;43m=\u001b[39;49m\u001b[38;5;28;43mself\u001b[39;49m\u001b[38;5;241;43m.\u001b[39;49m\u001b[43m_key\u001b[49m\u001b[43m,\u001b[49m\n\u001b[1;32m    120\u001b[0m \u001b[43m        \u001b[49m\u001b[43mnoun\u001b[49m\u001b[38;5;241;43m=\u001b[39;49m\u001b[38;5;28;43mself\u001b[39;49m\u001b[38;5;241;43m.\u001b[39;49m\u001b[43m_noun\u001b[49m\u001b[43m,\u001b[49m\n\u001b[1;32m    121\u001b[0m \u001b[43m        \u001b[49m\u001b[43madjectives\u001b[49m\u001b[38;5;241;43m=\u001b[39;49m\u001b[38;5;124;43m\"\u001b[39;49m\u001b[38;5;124;43m \u001b[39;49m\u001b[38;5;124;43m\"\u001b[39;49m\u001b[38;5;241;43m.\u001b[39;49m\u001b[43mjoin\u001b[49m\u001b[43m(\u001b[49m\u001b[38;5;28;43mself\u001b[39;49m\u001b[38;5;241;43m.\u001b[39;49m\u001b[43m_adjectives\u001b[49m\u001b[43m)\u001b[49m\u001b[43m,\u001b[49m\n\u001b[1;32m    122\u001b[0m \u001b[43m        \u001b[49m\u001b[43mdescription_singular\u001b[49m\u001b[38;5;241;43m=\u001b[39;49m\u001b[38;5;28;43mself\u001b[39;49m\u001b[38;5;241;43m.\u001b[39;49m\u001b[43m_singular\u001b[49m\u001b[43m,\u001b[49m\n\u001b[1;32m    123\u001b[0m \u001b[43m        \u001b[49m\u001b[43mdescription_plural\u001b[49m\u001b[38;5;241;43m=\u001b[39;49m\u001b[38;5;28;43mself\u001b[39;49m\u001b[38;5;241;43m.\u001b[39;49m\u001b[43m_plural\u001b[49m\u001b[43m,\u001b[49m\n\u001b[1;32m    124\u001b[0m \u001b[43m        \u001b[49m\u001b[43mbase_hierarchy_level\u001b[49m\u001b[38;5;241;43m=\u001b[39;49m\u001b[38;5;28;43mself\u001b[39;49m\u001b[38;5;241;43m.\u001b[39;49m\u001b[43mbase_hierarchy_level\u001b[49m\u001b[43m,\u001b[49m\n\u001b[1;32m    125\u001b[0m \u001b[43m        \u001b[49m\u001b[43mentity_id_parent\u001b[49m\u001b[38;5;241;43m=\u001b[39;49m\u001b[38;5;28;43mself\u001b[39;49m\u001b[38;5;241;43m.\u001b[39;49m\u001b[43mentity_id_parent\u001b[49m\u001b[43m,\u001b[49m\n\u001b[1;32m    126\u001b[0m \u001b[43m    \u001b[49m\u001b[43m)\u001b[49m\n\u001b[1;32m    127\u001b[0m     logger\u001b[38;5;241m.\u001b[39minfo(\u001b[38;5;124mf\u001b[39m\u001b[38;5;124m\"\u001b[39m\u001b[38;5;124mEntity created successfully: \u001b[39m\u001b[38;5;132;01m{\u001b[39;00m\u001b[38;5;28mself\u001b[39m\u001b[38;5;132;01m}\u001b[39;00m\u001b[38;5;124m\"\u001b[39m)\n",
      "File \u001b[0;32m~/repos/accessible_inventory/modules/sql.py:66\u001b[0m, in \u001b[0;36minsert_entity\u001b[0;34m(entity_id, entity_key, noun, adjectives, description_singular, description_plural, base_hierarchy_level, entity_id_parent)\u001b[0m\n\u001b[1;32m     63\u001b[0m connection\u001b[38;5;241m.\u001b[39mexecute(\n\u001b[1;32m     64\u001b[0m     \u001b[38;5;124m\"\u001b[39m\u001b[38;5;124mPRAGMA foreign_keys=ON\u001b[39m\u001b[38;5;124m\"\u001b[39m\n\u001b[1;32m     65\u001b[0m )  \u001b[38;5;66;03m# enable foreign key constraints so that the delete operation cascades to the inventory table\u001b[39;00m\n\u001b[0;32m---> 66\u001b[0m \u001b[43mconnection\u001b[49m\u001b[38;5;241;43m.\u001b[39;49m\u001b[43mexecute\u001b[49m\u001b[43m(\u001b[49m\n\u001b[1;32m     67\u001b[0m \u001b[43m    \u001b[49m\u001b[38;5;124;43mf\u001b[39;49m\u001b[38;5;124;43m\"\u001b[39;49m\u001b[38;5;124;43mINSERT INTO entity_sql (entity_id, entity_id_parent, entity_key, noun, adjectives, description_singular, description_plural, base_hierarchy_level) VALUES (\u001b[39;49m\u001b[38;5;124;43m'\u001b[39;49m\u001b[38;5;132;43;01m{\u001b[39;49;00m\u001b[43mentity_id\u001b[49m\u001b[38;5;132;43;01m}\u001b[39;49;00m\u001b[38;5;124;43m'\u001b[39;49m\u001b[38;5;124;43m, \u001b[39;49m\u001b[38;5;124;43m'\u001b[39;49m\u001b[38;5;132;43;01m{\u001b[39;49;00m\u001b[43mentity_id_parent\u001b[49m\u001b[38;5;132;43;01m}\u001b[39;49;00m\u001b[38;5;124;43m'\u001b[39;49m\u001b[38;5;124;43m, \u001b[39;49m\u001b[38;5;124;43m'\u001b[39;49m\u001b[38;5;132;43;01m{\u001b[39;49;00m\u001b[43mentity_key\u001b[49m\u001b[38;5;132;43;01m}\u001b[39;49;00m\u001b[38;5;124;43m'\u001b[39;49m\u001b[38;5;124;43m, \u001b[39;49m\u001b[38;5;124;43m'\u001b[39;49m\u001b[38;5;132;43;01m{\u001b[39;49;00m\u001b[43mnoun\u001b[49m\u001b[38;5;132;43;01m}\u001b[39;49;00m\u001b[38;5;124;43m'\u001b[39;49m\u001b[38;5;124;43m, \u001b[39;49m\u001b[38;5;124;43m'\u001b[39;49m\u001b[38;5;132;43;01m{\u001b[39;49;00m\u001b[43madjectives\u001b[49m\u001b[38;5;132;43;01m}\u001b[39;49;00m\u001b[38;5;124;43m'\u001b[39;49m\u001b[38;5;124;43m, \u001b[39;49m\u001b[38;5;124;43m'\u001b[39;49m\u001b[38;5;132;43;01m{\u001b[39;49;00m\u001b[43mdescription_singular\u001b[49m\u001b[38;5;132;43;01m}\u001b[39;49;00m\u001b[38;5;124;43m'\u001b[39;49m\u001b[38;5;124;43m, \u001b[39;49m\u001b[38;5;124;43m'\u001b[39;49m\u001b[38;5;132;43;01m{\u001b[39;49;00m\u001b[43mdescription_plural\u001b[49m\u001b[38;5;132;43;01m}\u001b[39;49;00m\u001b[38;5;124;43m'\u001b[39;49m\u001b[38;5;124;43m, \u001b[39;49m\u001b[38;5;124;43m'\u001b[39;49m\u001b[38;5;132;43;01m{\u001b[39;49;00m\u001b[43mbase_hierarchy_level\u001b[49m\u001b[38;5;132;43;01m}\u001b[39;49;00m\u001b[38;5;124;43m'\u001b[39;49m\u001b[38;5;124;43m)\u001b[39;49m\u001b[38;5;124;43m\"\u001b[39;49m\n\u001b[1;32m     68\u001b[0m \u001b[43m\u001b[49m\u001b[43m)\u001b[49m\n\u001b[1;32m     69\u001b[0m connection\u001b[38;5;241m.\u001b[39mcommit()\n",
      "\u001b[0;31mIntegrityError\u001b[0m: UNIQUE constraint failed: entity_sql.entity_key",
      "\nDuring handling of the above exception, another exception occurred:\n",
      "\u001b[0;31mValueError\u001b[0m                                Traceback (most recent call last)",
      "Cell \u001b[0;32mIn[18], line 2\u001b[0m\n\u001b[1;32m      1\u001b[0m \u001b[38;5;66;03m# add a lounge to the stillwaters location\u001b[39;00m\n\u001b[0;32m----> 2\u001b[0m location2 \u001b[38;5;241m=\u001b[39m \u001b[43mEntity\u001b[49m\u001b[43m(\u001b[49m\u001b[43mdescription\u001b[49m\u001b[38;5;241;43m=\u001b[39;49m\u001b[38;5;124;43m\"\u001b[39;49m\u001b[38;5;124;43mLounge\u001b[39;49m\u001b[38;5;124;43m\"\u001b[39;49m\u001b[43m,\u001b[49m\u001b[43mbase_hierarchy_level\u001b[49m\u001b[43m \u001b[49m\u001b[38;5;241;43m=\u001b[39;49m\u001b[43m \u001b[49m\u001b[38;5;241;43m2\u001b[39;49m\u001b[43m,\u001b[49m\u001b[43m \u001b[49m\u001b[43mentity_id\u001b[49m\u001b[38;5;241;43m=\u001b[39;49m\u001b[43muuid4\u001b[49m\u001b[43m(\u001b[49m\u001b[43m)\u001b[49m\u001b[43m,\u001b[49m\u001b[43m \u001b[49m\u001b[43mentity_id_parent\u001b[49m\u001b[38;5;241;43m=\u001b[39;49m\u001b[38;5;124;43m\"\u001b[39;49m\u001b[38;5;124;43m339cfbbb-f263-41f0-b4dc-5abcfe83e98c\u001b[39;49m\u001b[38;5;124;43m\"\u001b[39;49m\u001b[43m)\u001b[49m\n\u001b[1;32m      3\u001b[0m dd\u001b[38;5;241m.\u001b[39msql(\u001b[38;5;124mf\u001b[39m\u001b[38;5;124m\"\u001b[39m\u001b[38;5;124mselect * from entity_sql where entity_key = \u001b[39m\u001b[38;5;124m'\u001b[39m\u001b[38;5;124mlounge\u001b[39m\u001b[38;5;124m'\u001b[39m\u001b[38;5;124m\"\u001b[39m)\u001b[38;5;241m.\u001b[39mshow()\n",
      "File \u001b[0;32m~/repos/accessible_inventory/modules/entity.py:40\u001b[0m, in \u001b[0;36mEntity.__init__\u001b[0;34m(self, description, base_hierarchy_level, entity_id, entity_id_parent)\u001b[0m\n\u001b[1;32m     38\u001b[0m \u001b[38;5;28mself\u001b[39m\u001b[38;5;241m.\u001b[39m_initialize_current_entity()\n\u001b[1;32m     39\u001b[0m \u001b[38;5;28mself\u001b[39m\u001b[38;5;241m.\u001b[39m_initialize_forms()\n\u001b[0;32m---> 40\u001b[0m \u001b[38;5;28;43mself\u001b[39;49m\u001b[38;5;241;43m.\u001b[39;49m\u001b[43m_database_update\u001b[49m\u001b[43m(\u001b[49m\u001b[43m)\u001b[49m\n",
      "File \u001b[0;32m~/repos/accessible_inventory/modules/entity.py:94\u001b[0m, in \u001b[0;36mEntity._database_update\u001b[0;34m(self)\u001b[0m\n\u001b[1;32m     92\u001b[0m \u001b[38;5;28;01mdef\u001b[39;00m\u001b[38;5;250m \u001b[39m\u001b[38;5;21m_database_update\u001b[39m(\u001b[38;5;28mself\u001b[39m) \u001b[38;5;241m-\u001b[39m\u001b[38;5;241m>\u001b[39m \u001b[38;5;28;01mNone\u001b[39;00m:\n\u001b[1;32m     93\u001b[0m     \u001b[38;5;28;01mif\u001b[39;00m \u001b[38;5;129;01mnot\u001b[39;00m \u001b[38;5;28mself\u001b[39m\u001b[38;5;241m.\u001b[39m_exists:\n\u001b[0;32m---> 94\u001b[0m         \u001b[38;5;28;01mif\u001b[39;00m \u001b[38;5;28;43mself\u001b[39;49m\u001b[38;5;241;43m.\u001b[39;49m\u001b[43mcreate_new\u001b[49m\u001b[43m(\u001b[49m\u001b[43m)\u001b[49m:\n\u001b[1;32m     95\u001b[0m             \u001b[38;5;28mself\u001b[39m\u001b[38;5;241m.\u001b[39m_exists \u001b[38;5;241m=\u001b[39m \u001b[38;5;28;01mTrue\u001b[39;00m\n\u001b[1;32m     96\u001b[0m     \u001b[38;5;28;01melse\u001b[39;00m:\n",
      "File \u001b[0;32m~/repos/accessible_inventory/modules/entity.py:132\u001b[0m, in \u001b[0;36mEntity.create_new\u001b[0;34m(self)\u001b[0m\n\u001b[1;32m    130\u001b[0m     \u001b[38;5;28;01mexcept\u001b[39;00m sqlite3\u001b[38;5;241m.\u001b[39mError \u001b[38;5;28;01mas\u001b[39;00m e:\n\u001b[1;32m    131\u001b[0m         logger\u001b[38;5;241m.\u001b[39merror(\u001b[38;5;124mf\u001b[39m\u001b[38;5;124m\"\u001b[39m\u001b[38;5;124mError creating entity: \u001b[39m\u001b[38;5;132;01m{\u001b[39;00me\u001b[38;5;132;01m}\u001b[39;00m\u001b[38;5;124m\"\u001b[39m)\n\u001b[0;32m--> 132\u001b[0m         \u001b[38;5;28;01mraise\u001b[39;00m \u001b[38;5;167;01mValueError\u001b[39;00m(\u001b[38;5;124mf\u001b[39m\u001b[38;5;124m\"\u001b[39m\u001b[38;5;124mError creating entity: \u001b[39m\u001b[38;5;132;01m{\u001b[39;00me\u001b[38;5;132;01m}\u001b[39;00m\u001b[38;5;124m\"\u001b[39m)\n\u001b[1;32m    133\u001b[0m \u001b[38;5;28;01melse\u001b[39;00m:\n\u001b[1;32m    134\u001b[0m     logger\u001b[38;5;241m.\u001b[39merror(\u001b[38;5;124m\"\u001b[39m\u001b[38;5;124mEntity already exists but create_new called\u001b[39m\u001b[38;5;124m\"\u001b[39m)\n",
      "\u001b[0;31mValueError\u001b[0m: Error creating entity: UNIQUE constraint failed: entity_sql.entity_key"
     ]
    }
   ],
   "source": [
    "# add a lounge to the stillwaters location\n",
    "location2 = Entity(description=\"Lounge\",base_hierarchy_level = 2, entity_id=uuid4(), entity_id_parent=\"339cfbbb-f263-41f0-b4dc-5abcfe83e98c\")\n",
    "dd.sql(f\"select * from entity_sql where entity_key = 'lounge'\").show()"
   ]
  },
  {
   "cell_type": "code",
   "execution_count": null,
   "id": "591b90a1-dd18-4c8b-b28f-d2a6fc112505",
   "metadata": {},
   "outputs": [],
   "source": [
    "# view all the entities\n",
    "dd.sql(\"select * from entity_sql\").show()"
   ]
  },
  {
   "cell_type": "code",
   "execution_count": 16,
   "id": "80f6156d-6dc6-40a6-ba32-fdb2dde115bd",
   "metadata": {},
   "outputs": [
    {
     "data": {
      "text/plain": [
       "┌──────────────┬─────────────────────┬──────────────────┬─────────────────┬──────────┬──────────┬─────────────────┬──────────────┐\n",
       "│ inventory_id │ inventory_id_parent │ entity_id_parent │ entity_id_child │ quantity │ position │ hierarchy_level │ created_time │\n",
       "│   varchar    │       varchar       │     varchar      │     varchar     │  int64   │ varchar  │      int64      │  timestamp   │\n",
       "├──────────────┴─────────────────────┴──────────────────┴─────────────────┴──────────┴──────────┴─────────────────┴──────────────┤\n",
       "│                                                             0 rows                                                             │\n",
       "└────────────────────────────────────────────────────────────────────────────────────────────────────────────────────────────────┘"
      ]
     },
     "execution_count": 16,
     "metadata": {},
     "output_type": "execute_result"
    }
   ],
   "source": [
    "dd.sql(\"select * from inventory_sql where inventory_id = '2f2bc07f-6a82-4029-858f-b06a0254059c'\")"
   ]
  },
  {
   "cell_type": "code",
   "execution_count": 3,
   "id": "846070c3-6086-4d99-bf9f-b46cfc716ab3",
   "metadata": {},
   "outputs": [],
   "source": [
    "dd.close()"
   ]
  }
 ],
 "metadata": {
  "kernelspec": {
   "display_name": "Python 3 (ipykernel)",
   "language": "python",
   "name": "python3"
  },
  "language_info": {
   "codemirror_mode": {
    "name": "ipython",
    "version": 3
   },
   "file_extension": ".py",
   "mimetype": "text/x-python",
   "name": "python",
   "nbconvert_exporter": "python",
   "pygments_lexer": "ipython3",
   "version": "3.12.3"
  }
 },
 "nbformat": 4,
 "nbformat_minor": 5
}
