{
 "cells": [
  {
   "cell_type": "code",
   "execution_count": 1,
   "id": "6ca714ba-605c-4d52-b46c-bede9ef40576",
   "metadata": {},
   "outputs": [],
   "source": [
    "from inventory import Inventory\n",
    "from exception import InventoryRemoveZeroError, InventoryRemoveExcessiveError\n",
    "from entity import Entity\n",
    "from data.sql import select_inventory, select_entity\n",
    "from data.duck import dd, sql_inventory\n",
    "from uuid import uuid4"
   ]
  },
  {
   "cell_type": "code",
   "execution_count": 2,
   "id": "47161e3e-1c58-4c1c-9ab7-e08ef05bb63f",
   "metadata": {},
   "outputs": [
    {
     "name": "stdout",
     "output_type": "stream",
     "text": [
      "Yellow Chair (total inventory: 3) (4d10faad-8a10-436b-b732-011a7b4ad043)\n",
      "Lounge (total inventory: 1) (03dd5c43-d66e-4c3f-a6eb-eb67b47c0373)\n"
     ]
    }
   ],
   "source": [
    "# try adding a yellow chair to the lounge\n",
    "item = Entity(description=\"Yellow Chair\")\n",
    "print(item)\n",
    "location = Entity(description=\"Lounge\")\n",
    "print(location)"
   ]
  },
  {
   "cell_type": "code",
   "execution_count": 3,
   "id": "a83e8cdb-049f-44bf-b9dd-9c76f42a5e1c",
   "metadata": {},
   "outputs": [
    {
     "name": "stdout",
     "output_type": "stream",
     "text": [
      "yellow chair inventory:\n",
      "┌───────┬───────┬──────────────┬─────────┬─────────────┬──────────────────────────────────────┬──────────────────────────────────────┬──────────────────────────────────────┬──────────────────────────────────────┐\n",
      "│  lvl  │  qty  │    child     │   pos   │   parent    │             inventory_id             │         inventory_id_parent          │                parent                │                child                 │\n",
      "│ int64 │ int64 │   varchar    │ varchar │   varchar   │               varchar                │               varchar                │               varchar                │               varchar                │\n",
      "├───────┼───────┼──────────────┼─────────┼─────────────┼──────────────────────────────────────┼──────────────────────────────────────┼──────────────────────────────────────┼──────────────────────────────────────┤\n",
      "│     2 │     3 │ yellow chair │ IN      │ dining room │ 4e18e23a-ca8b-4ed3-9ba6-8e2fb46d6cd8 │ 6dc856f4-42fe-4fe0-868b-9d002eff2e27 │ e5998068-17a4-4c7d-b64f-4b6e28e8b93d │ 4d10faad-8a10-436b-b732-011a7b4ad043 │\n",
      "└───────┴───────┴──────────────┴─────────┴─────────────┴──────────────────────────────────────┴──────────────────────────────────────┴──────────────────────────────────────┴──────────────────────────────────────┘\n",
      "\n",
      "lounge inventory:\n",
      "┌───────┬───────┬──────────────┬─────────┬─────────┬──────────────────────────────────────┬──────────────────────────────────────┬──────────────────────────────────────┬──────────────────────────────────────┐\n",
      "│  lvl  │  qty  │    child     │   pos   │ parent  │             inventory_id             │         inventory_id_parent          │                parent                │                child                 │\n",
      "│ int64 │ int64 │   varchar    │ varchar │ varchar │               varchar                │               varchar                │               varchar                │               varchar                │\n",
      "├───────┼───────┼──────────────┼─────────┼─────────┼──────────────────────────────────────┼──────────────────────────────────────┼──────────────────────────────────────┼──────────────────────────────────────┤\n",
      "│     2 │     5 │ coffee table │ IN      │ lounge  │ 2dfea04c-e8ea-4735-8b9a-4a9bf92dca08 │ 8ce8d635-c5c5-49d7-bdcf-2b5cfb2298fe │ 03dd5c43-d66e-4c3f-a6eb-eb67b47c0373 │ bb85b691-61f2-4a73-8313-3e5367d4b7b6 │\n",
      "└───────┴───────┴──────────────┴─────────┴─────────┴──────────────────────────────────────┴──────────────────────────────────────┴──────────────────────────────────────┴──────────────────────────────────────┘\n",
      "\n"
     ]
    }
   ],
   "source": [
    "# check the inventory for the item\n",
    "print(f\"{item.description} inventory:\")\n",
    "dd.sql(sql_inventory(entity_id_child=item.entity_id)).show()\n",
    "# and the inventory for the location\n",
    "print(f\"{location.description} inventory:\")\n",
    "dd.sql(sql_inventory(entity_id_parent=location.entity_id)).show()"
   ]
  },
  {
   "cell_type": "code",
   "execution_count": 4,
   "id": "eb661584-be5e-442c-8a83-feb5c51eba8e",
   "metadata": {},
   "outputs": [
    {
     "name": "stdout",
     "output_type": "stream",
     "text": [
      "Inventory created successfully\n",
      "4 yellow chairs (4d10faad-8a10-436b-b732-011a7b4ad043) in lounge (03dd5c43-d66e-4c3f-a6eb-eb67b47c0373)\n",
      "┌───────┬───────┬──────────────┬─────────┬─────────┬──────────────────────────────────────┬──────────────────────────────────────┬──────────────────────────────────────┬──────────────────────────────────────┐\n",
      "│  lvl  │  qty  │    child     │   pos   │ parent  │             inventory_id             │         inventory_id_parent          │                parent                │                child                 │\n",
      "│ int64 │ int64 │   varchar    │ varchar │ varchar │               varchar                │               varchar                │               varchar                │               varchar                │\n",
      "├───────┼───────┼──────────────┼─────────┼─────────┼──────────────────────────────────────┼──────────────────────────────────────┼──────────────────────────────────────┼──────────────────────────────────────┤\n",
      "│     2 │     4 │ yellow chair │ IN      │ lounge  │ fa792888-7f85-4e5b-9e8b-7093732a9ecc │ 8ce8d635-c5c5-49d7-bdcf-2b5cfb2298fe │ 03dd5c43-d66e-4c3f-a6eb-eb67b47c0373 │ 4d10faad-8a10-436b-b732-011a7b4ad043 │\n",
      "└───────┴───────┴──────────────┴─────────┴─────────┴──────────────────────────────────────┴──────────────────────────────────────┴──────────────────────────────────────┴──────────────────────────────────────┘\n",
      "\n"
     ]
    }
   ],
   "source": [
    "# try adding 4 yellow chairs to the lounge\n",
    "inventory = Inventory(entity_parent=location, entity_child=item, quantity=4)\n",
    "print(inventory)\n",
    "dd.sql(sql_inventory(entity_id_parent=location.entity_id,entity_id_child=item.entity_id)).show()"
   ]
  },
  {
   "cell_type": "code",
   "execution_count": 5,
   "id": "5d5dbd82-6565-4d64-a1e3-e1197517ceab",
   "metadata": {},
   "outputs": [
    {
     "name": "stdout",
     "output_type": "stream",
     "text": [
      "yellow chair inventory:\n",
      "┌───────┬───────┬──────────────┬─────────┬─────────────┬──────────────────────────────────────┬──────────────────────────────────────┬──────────────────────────────────────┬──────────────────────────────────────┐\n",
      "│  lvl  │  qty  │    child     │   pos   │   parent    │             inventory_id             │         inventory_id_parent          │                parent                │                child                 │\n",
      "│ int64 │ int64 │   varchar    │ varchar │   varchar   │               varchar                │               varchar                │               varchar                │               varchar                │\n",
      "├───────┼───────┼──────────────┼─────────┼─────────────┼──────────────────────────────────────┼──────────────────────────────────────┼──────────────────────────────────────┼──────────────────────────────────────┤\n",
      "│     2 │     4 │ yellow chair │ IN      │ lounge      │ fa792888-7f85-4e5b-9e8b-7093732a9ecc │ 8ce8d635-c5c5-49d7-bdcf-2b5cfb2298fe │ 03dd5c43-d66e-4c3f-a6eb-eb67b47c0373 │ 4d10faad-8a10-436b-b732-011a7b4ad043 │\n",
      "│     2 │     3 │ yellow chair │ IN      │ dining room │ 4e18e23a-ca8b-4ed3-9ba6-8e2fb46d6cd8 │ 6dc856f4-42fe-4fe0-868b-9d002eff2e27 │ e5998068-17a4-4c7d-b64f-4b6e28e8b93d │ 4d10faad-8a10-436b-b732-011a7b4ad043 │\n",
      "└───────┴───────┴──────────────┴─────────┴─────────────┴──────────────────────────────────────┴──────────────────────────────────────┴──────────────────────────────────────┴──────────────────────────────────────┘\n",
      "\n",
      "lounge inventory:\n",
      "┌───────┬───────┬──────────────┬─────────┬─────────┬──────────────────────────────────────┬──────────────────────────────────────┬──────────────────────────────────────┬──────────────────────────────────────┐\n",
      "│  lvl  │  qty  │    child     │   pos   │ parent  │             inventory_id             │         inventory_id_parent          │                parent                │                child                 │\n",
      "│ int64 │ int64 │   varchar    │ varchar │ varchar │               varchar                │               varchar                │               varchar                │               varchar                │\n",
      "├───────┼───────┼──────────────┼─────────┼─────────┼──────────────────────────────────────┼──────────────────────────────────────┼──────────────────────────────────────┼──────────────────────────────────────┤\n",
      "│     2 │     4 │ yellow chair │ IN      │ lounge  │ fa792888-7f85-4e5b-9e8b-7093732a9ecc │ 8ce8d635-c5c5-49d7-bdcf-2b5cfb2298fe │ 03dd5c43-d66e-4c3f-a6eb-eb67b47c0373 │ 4d10faad-8a10-436b-b732-011a7b4ad043 │\n",
      "│     2 │     5 │ coffee table │ IN      │ lounge  │ 2dfea04c-e8ea-4735-8b9a-4a9bf92dca08 │ 8ce8d635-c5c5-49d7-bdcf-2b5cfb2298fe │ 03dd5c43-d66e-4c3f-a6eb-eb67b47c0373 │ bb85b691-61f2-4a73-8313-3e5367d4b7b6 │\n",
      "└───────┴───────┴──────────────┴─────────┴─────────┴──────────────────────────────────────┴──────────────────────────────────────┴──────────────────────────────────────┴──────────────────────────────────────┘\n",
      "\n"
     ]
    }
   ],
   "source": [
    "# check the inventory for the item\n",
    "print(f\"{item.description} inventory:\")\n",
    "dd.sql(sql_inventory(entity_id_child=item.entity_id)).show()\n",
    "# and the inventory for the location\n",
    "print(f\"{location.description} inventory:\")\n",
    "dd.sql(sql_inventory(entity_id_parent=location.entity_id)).show()"
   ]
  },
  {
   "cell_type": "code",
   "execution_count": 6,
   "id": "ed316dd8-e10e-455b-a320-d26835cc9f0f",
   "metadata": {},
   "outputs": [
    {
     "name": "stdout",
     "output_type": "stream",
     "text": [
      "Inventory updated successfully\n",
      "6 yellow chairs (4d10faad-8a10-436b-b732-011a7b4ad043) in lounge (03dd5c43-d66e-4c3f-a6eb-eb67b47c0373)\n",
      "┌───────┬───────┬──────────────┬─────────┬─────────┬──────────────────────────────────────┬──────────────────────────────────────┬──────────────────────────────────────┬──────────────────────────────────────┐\n",
      "│  lvl  │  qty  │    child     │   pos   │ parent  │             inventory_id             │         inventory_id_parent          │                parent                │                child                 │\n",
      "│ int64 │ int64 │   varchar    │ varchar │ varchar │               varchar                │               varchar                │               varchar                │               varchar                │\n",
      "├───────┼───────┼──────────────┼─────────┼─────────┼──────────────────────────────────────┼──────────────────────────────────────┼──────────────────────────────────────┼──────────────────────────────────────┤\n",
      "│     2 │     6 │ yellow chair │ IN      │ lounge  │ fa792888-7f85-4e5b-9e8b-7093732a9ecc │ 8ce8d635-c5c5-49d7-bdcf-2b5cfb2298fe │ 03dd5c43-d66e-4c3f-a6eb-eb67b47c0373 │ 4d10faad-8a10-436b-b732-011a7b4ad043 │\n",
      "└───────┴───────┴──────────────┴─────────┴─────────┴──────────────────────────────────────┴──────────────────────────────────────┴──────────────────────────────────────┴──────────────────────────────────────┘\n",
      "\n"
     ]
    }
   ],
   "source": [
    "# try adding a further 2 yellow chairs to the lounge\n",
    "inventory = Inventory(entity_parent=location, entity_child=item, quantity=2)\n",
    "print(inventory)\n",
    "dd.sql(sql_inventory(entity_id_parent=location.entity_id,entity_id_child=item.entity_id)).show()"
   ]
  },
  {
   "cell_type": "code",
   "execution_count": 7,
   "id": "e4c852a5-c1c3-4a72-af6b-6e93a3634520",
   "metadata": {},
   "outputs": [
    {
     "name": "stdout",
     "output_type": "stream",
     "text": [
      "There are not enough yellow chairs in lounge to remove\n"
     ]
    }
   ],
   "source": [
    "# try removing too many yellow chairs from the lounge\n",
    "try:\n",
    "    inventory = Inventory(entity_parent=location, entity_child=item, quantity=99999, action=\"REMOVE\")\n",
    "except InventoryRemoveExcessiveError as e:\n",
    "    print(e)"
   ]
  },
  {
   "cell_type": "code",
   "execution_count": 8,
   "id": "dd08da31-0fbf-44cc-9ab6-ceca7e2cc5da",
   "metadata": {},
   "outputs": [
    {
     "name": "stdout",
     "output_type": "stream",
     "text": [
      "Inventory deleted successfully\n",
      "┌───────┬───────┬─────────┬─────────┬─────────┬──────────────┬─────────────────────┬─────────┬─────────┐\n",
      "│  lvl  │  qty  │  child  │   pos   │ parent  │ inventory_id │ inventory_id_parent │ parent  │  child  │\n",
      "│ int64 │ int64 │ varchar │ varchar │ varchar │   varchar    │       varchar       │ varchar │ varchar │\n",
      "├───────┴───────┴─────────┴─────────┴─────────┴──────────────┴─────────────────────┴─────────┴─────────┤\n",
      "│                                                0 rows                                                │\n",
      "└──────────────────────────────────────────────────────────────────────────────────────────────────────┘\n",
      "\n"
     ]
    }
   ],
   "source": [
    "# remove all yellow chairs from lounge\n",
    "new_quantity = inventory._quantity_new\n",
    "inventory = Inventory(entity_parent=location, entity_child=item, quantity=new_quantity, action=\"REMOVE\")\n",
    "# inventory record should have been deleted\n",
    "dd.sql(sql_inventory(entity_id_parent=location.entity_id,entity_id_child=item.entity_id)).show()"
   ]
  },
  {
   "cell_type": "code",
   "execution_count": 9,
   "id": "a3c667f0-de73-4574-9385-6d4af61b7c5e",
   "metadata": {},
   "outputs": [
    {
     "name": "stdout",
     "output_type": "stream",
     "text": [
      "There are no yellow chairs in lounge to remove\n"
     ]
    }
   ],
   "source": [
    "# try removing a further yellow chair from the lounge\n",
    "try:\n",
    "    inventory = Inventory(entity_parent=location, entity_child=item, quantity=1, action=\"REMOVE\")\n",
    "except InventoryRemoveZeroError as e:\n",
    "    print(e)"
   ]
  },
  {
   "cell_type": "code",
   "execution_count": 10,
   "id": "0dc8158b-e248-4a04-b75e-2dc358a339f1",
   "metadata": {},
   "outputs": [
    {
     "name": "stdout",
     "output_type": "stream",
     "text": [
      "Entity created successfully: Stillwaters (total inventory: 0) (339cfbbb-f263-41f0-b4dc-5abcfe83e98c)\n",
      "┌──────────────────────────────────────┬──────────────────┬────────────┬────────────┬────────────┬──────────────────────┬────────────────────┬──────────────────────┬─────────────────────┐\n",
      "│              entity_id               │ entity_id_parent │ entity_key │    noun    │ adjectives │ description_singular │ description_plural │ base_hierarchy_level │    created_time     │\n",
      "│               varchar                │     varchar      │  varchar   │  varchar   │  varchar   │       varchar        │      varchar       │        int64         │      timestamp      │\n",
      "├──────────────────────────────────────┼──────────────────┼────────────┼────────────┼────────────┼──────────────────────┼────────────────────┼──────────────────────┼─────────────────────┤\n",
      "│ 339cfbbb-f263-41f0-b4dc-5abcfe83e98c │ None             │ stillwater │ stillwater │            │ stillwaters          │ stillwaters        │                    1 │ 2025-03-15 09:16:40 │\n",
      "└──────────────────────────────────────┴──────────────────┴────────────┴────────────┴────────────┴──────────────────────┴────────────────────┴──────────────────────┴─────────────────────┘\n",
      "\n"
     ]
    }
   ],
   "source": [
    "# add a new level 1 location\n",
    "location1 = Entity(description=\"Stillwaters\",base_hierarchy_level = 1, entity_id=\"339cfbbb-f263-41f0-b4dc-5abcfe83e98c\")\n",
    "dd.sql(f\"select * from entity_sql where entity_key = 'stillwater'\").show()"
   ]
  },
  {
   "cell_type": "code",
   "execution_count": 11,
   "id": "ab197218-13bb-41f1-89e7-100499deaed3",
   "metadata": {},
   "outputs": [
    {
     "name": "stdout",
     "output_type": "stream",
     "text": [
      "Entity created successfully: Dungeon (total inventory: 0) (9388641c-36bb-42f8-92b5-0d267098e7f1)\n",
      "┌──────────────────────────────────────┬──────────────────┬────────────┬─────────┬────────────┬──────────────────────┬────────────────────┬──────────────────────┬─────────────────────┐\n",
      "│              entity_id               │ entity_id_parent │ entity_key │  noun   │ adjectives │ description_singular │ description_plural │ base_hierarchy_level │    created_time     │\n",
      "│               varchar                │     varchar      │  varchar   │ varchar │  varchar   │       varchar        │      varchar       │        int64         │      timestamp      │\n",
      "├──────────────────────────────────────┼──────────────────┼────────────┼─────────┼────────────┼──────────────────────┼────────────────────┼──────────────────────┼─────────────────────┤\n",
      "│ 9388641c-36bb-42f8-92b5-0d267098e7f1 │ None             │ dungeon    │ dungeon │            │ dungeon              │ dungeons           │                    0 │ 2025-03-15 09:16:40 │\n",
      "└──────────────────────────────────────┴──────────────────┴────────────┴─────────┴────────────┴──────────────────────┴────────────────────┴──────────────────────┴─────────────────────┘\n",
      "\n"
     ]
    }
   ],
   "source": [
    "# add a new location\n",
    "location2 = Entity(description=\"Dungeon\", entity_id=\"9388641c-36bb-42f8-92b5-0d267098e7f1\")\n",
    "dd.sql(f\"select * from entity_sql where entity_key = 'dungeon'\").show()"
   ]
  },
  {
   "cell_type": "code",
   "execution_count": 12,
   "id": "72343a42-bcef-4d17-ad38-f79210cf9059",
   "metadata": {},
   "outputs": [
    {
     "name": "stdout",
     "output_type": "stream",
     "text": [
      "Inventory created successfully\n",
      "339cfbbb-f263-41f0-b4dc-5abcfe83e98c 9388641c-36bb-42f8-92b5-0d267098e7f1\n",
      "┌───────┬───────┬─────────┬─────────┬─────────────┬──────────────────────────────────────┬──────────────────────────────────────┬──────────────────────────────────────┬──────────────────────────────────────┐\n",
      "│  lvl  │  qty  │  child  │   pos   │   parent    │             inventory_id             │         inventory_id_parent          │                parent                │                child                 │\n",
      "│ int64 │ int64 │ varchar │ varchar │   varchar   │               varchar                │               varchar                │               varchar                │               varchar                │\n",
      "├───────┼───────┼─────────┼─────────┼─────────────┼──────────────────────────────────────┼──────────────────────────────────────┼──────────────────────────────────────┼──────────────────────────────────────┤\n",
      "│     1 │     1 │ dungeon │ IN      │ stillwaters │ 781435fc-f873-4e06-b9e2-7ea22eb8c868 │ 781435fc-f873-4e06-b9e2-7ea22eb8c868 │ 339cfbbb-f263-41f0-b4dc-5abcfe83e98c │ 9388641c-36bb-42f8-92b5-0d267098e7f1 │\n",
      "└───────┴───────┴─────────┴─────────┴─────────────┴──────────────────────────────────────┴──────────────────────────────────────┴──────────────────────────────────────┴──────────────────────────────────────┘\n",
      "\n"
     ]
    }
   ],
   "source": [
    "# create an inventory record for the new level 1 location\n",
    "inventory = Inventory(entity_parent=location1, entity_child=location2, quantity=1)\n",
    "print(location1.entity_id, location2.entity_id)\n",
    "# inventory record newly created\n",
    "dd.sql(sql_inventory(entity_id_parent=location1.entity_id,entity_id_child=location2.entity_id)).show()"
   ]
  },
  {
   "cell_type": "code",
   "execution_count": 13,
   "id": "e43717ae-2b95-4483-b2b6-1856d9527ec0",
   "metadata": {},
   "outputs": [
    {
     "name": "stdout",
     "output_type": "stream",
     "text": [
      "Entity created successfully: Cd Rack (total inventory: 0) (b6eb19a8-e85e-4ccf-a8a5-4830977b82f5)\n",
      "Inventory created successfully\n",
      "┌───────┬───────┬─────────┬─────────┬─────────┬──────────────────────────────────────┬──────────────────────────────────────┬──────────────────────────────────────┬──────────────────────────────────────┐\n",
      "│  lvl  │  qty  │  child  │   pos   │ parent  │             inventory_id             │         inventory_id_parent          │                parent                │                child                 │\n",
      "│ int64 │ int64 │ varchar │ varchar │ varchar │               varchar                │               varchar                │               varchar                │               varchar                │\n",
      "├───────┼───────┼─────────┼─────────┼─────────┼──────────────────────────────────────┼──────────────────────────────────────┼──────────────────────────────────────┼──────────────────────────────────────┤\n",
      "│     2 │     1 │ cd rack │ IN      │ dungeon │ e5d29be7-db92-43f3-966d-b40d24bdee3c │ 781435fc-f873-4e06-b9e2-7ea22eb8c868 │ 9388641c-36bb-42f8-92b5-0d267098e7f1 │ b6eb19a8-e85e-4ccf-a8a5-4830977b82f5 │\n",
      "└───────┴───────┴─────────┴─────────┴─────────┴──────────────────────────────────────┴──────────────────────────────────────┴──────────────────────────────────────┴──────────────────────────────────────┘\n",
      "\n"
     ]
    }
   ],
   "source": [
    "# add a cd rack to the dungeon\n",
    "item = Entity(\"CD Rack\")\n",
    "location = Entity(\"Dungeon\")\n",
    "inventory = Inventory(entity_parent=location, entity_child=item, quantity=1)\n",
    "# inventory record newly created\n",
    "dd.sql(sql_inventory(entity_id_parent=location.entity_id,entity_id_child=item.entity_id)).show()"
   ]
  },
  {
   "cell_type": "code",
   "execution_count": 14,
   "id": "128f995e-1003-4579-92e3-eee53f8389c3",
   "metadata": {},
   "outputs": [
    {
     "name": "stdout",
     "output_type": "stream",
     "text": [
      "Entity created successfully: World Wont Listen By Smith (total inventory: 0) (f130174f-4e54-42b2-b85c-74ba85a466de)\n",
      "Inventory created successfully\n",
      "┌───────┬───────┬────────────────────────────┬─────────┬─────────┬──────────────────────────────────────┬──────────────────────────────────────┬──────────────────────────────────────┬──────────────────────────────────────┐\n",
      "│  lvl  │  qty  │           child            │   pos   │ parent  │             inventory_id             │         inventory_id_parent          │                parent                │                child                 │\n",
      "│ int64 │ int64 │          varchar           │ varchar │ varchar │               varchar                │               varchar                │               varchar                │               varchar                │\n",
      "├───────┼───────┼────────────────────────────┼─────────┼─────────┼──────────────────────────────────────┼──────────────────────────────────────┼──────────────────────────────────────┼──────────────────────────────────────┤\n",
      "│     3 │     1 │ world wont listen by smith │ IN      │ cd rack │ 9751fd6b-6335-454c-a56c-7519b13a4d47 │ e5d29be7-db92-43f3-966d-b40d24bdee3c │ b6eb19a8-e85e-4ccf-a8a5-4830977b82f5 │ f130174f-4e54-42b2-b85c-74ba85a466de │\n",
      "└───────┴───────┴────────────────────────────┴─────────┴─────────┴──────────────────────────────────────┴──────────────────────────────────────┴──────────────────────────────────────┴──────────────────────────────────────┘\n",
      "\n"
     ]
    }
   ],
   "source": [
    "# add a cd to the cd rack\n",
    "item = Entity(\"The World Wont Listen by The Smiths\")\n",
    "location = Entity(\"CD Rack\")\n",
    "inventory = Inventory(entity_parent=location, entity_child=item, quantity=1)\n",
    "# inventory record newly created\n",
    "dd.sql(sql_inventory(entity_id_parent=location.entity_id,entity_id_child=item.entity_id)).show()"
   ]
  },
  {
   "cell_type": "code",
   "execution_count": 15,
   "id": "5c5f7652-f728-4cda-b105-57349274b63a",
   "metadata": {},
   "outputs": [
    {
     "name": "stdout",
     "output_type": "stream",
     "text": [
      "Inventory created successfully\n",
      "┌──────────────────────────────────────┬──────────────────┬────────────┬─────────┬────────────┬──────────────────────┬────────────────────┬──────────────────────┬─────────────────────┐\n",
      "│              entity_id               │ entity_id_parent │ entity_key │  noun   │ adjectives │ description_singular │ description_plural │ base_hierarchy_level │    created_time     │\n",
      "│               varchar                │     varchar      │  varchar   │ varchar │  varchar   │       varchar        │      varchar       │        int64         │      timestamp      │\n",
      "├──────────────────────────────────────┼──────────────────┼────────────┼─────────┼────────────┼──────────────────────┼────────────────────┼──────────────────────┼─────────────────────┤\n",
      "│ 03dd5c43-d66e-4c3f-a6eb-eb67b47c0373 │ None             │ lounge     │ lounge  │            │ lounge               │ lounges            │                    0 │ 2025-03-15 09:16:13 │\n",
      "└──────────────────────────────────────┴──────────────────┴────────────┴─────────┴────────────┴──────────────────────┴────────────────────┴──────────────────────┴─────────────────────┘\n",
      "\n",
      "┌───────┬───────┬─────────┬─────────┬─────────────┬──────────────────────────────────────┬──────────────────────────────────────┬──────────────────────────────────────┬──────────────────────────────────────┐\n",
      "│  lvl  │  qty  │  child  │   pos   │   parent    │             inventory_id             │         inventory_id_parent          │                parent                │                child                 │\n",
      "│ int64 │ int64 │ varchar │ varchar │   varchar   │               varchar                │               varchar                │               varchar                │               varchar                │\n",
      "├───────┼───────┼─────────┼─────────┼─────────────┼──────────────────────────────────────┼──────────────────────────────────────┼──────────────────────────────────────┼──────────────────────────────────────┤\n",
      "│     1 │     1 │ lounge  │ IN      │ stillwaters │ 56db86c7-d885-4aad-8a06-bf18232c1cf1 │ 56db86c7-d885-4aad-8a06-bf18232c1cf1 │ 339cfbbb-f263-41f0-b4dc-5abcfe83e98c │ 03dd5c43-d66e-4c3f-a6eb-eb67b47c0373 │\n",
      "└───────┴───────┴─────────┴─────────┴─────────────┴──────────────────────────────────────┴──────────────────────────────────────┴──────────────────────────────────────┴──────────────────────────────────────┘\n",
      "\n"
     ]
    }
   ],
   "source": [
    "# add a lounge to the stillwaters location\n",
    "item = Entity(\"lounge\")\n",
    "location = Entity(\"stillwaters\")\n",
    "inventory = Inventory(entity_parent=location, entity_child=item, quantity=1)\n",
    "dd.sql(f\"select * from entity_sql where entity_key = 'lounge'\").show()\n",
    "dd.sql(sql_inventory(entity_id_parent=location.entity_id,entity_id_child=item.entity_id)).show()"
   ]
  },
  {
   "cell_type": "code",
   "execution_count": 16,
   "id": "d6b06ef7-7cf0-4209-b2c9-ff2322eed586",
   "metadata": {},
   "outputs": [
    {
     "name": "stdout",
     "output_type": "stream",
     "text": [
      "Entity created successfully: Sofa (total inventory: 0) (2f74fb55-7cda-4dda-9553-69783b6dd93e)\n",
      "Multiple parent inventories found:\n",
      "1) lounge in st chads vicarage\n",
      "2) lounge in stillwaters\n"
     ]
    },
    {
     "name": "stdin",
     "output_type": "stream",
     "text": [
      "Enter the number of the parent inventory to use:  2\n"
     ]
    },
    {
     "name": "stdout",
     "output_type": "stream",
     "text": [
      "Inventory created successfully\n",
      "┌──────────────────────────────────────┬──────────────────┬────────────┬─────────┬────────────┬──────────────────────┬────────────────────┬──────────────────────┬─────────────────────┐\n",
      "│              entity_id               │ entity_id_parent │ entity_key │  noun   │ adjectives │ description_singular │ description_plural │ base_hierarchy_level │    created_time     │\n",
      "│               varchar                │     varchar      │  varchar   │ varchar │  varchar   │       varchar        │      varchar       │        int64         │      timestamp      │\n",
      "├──────────────────────────────────────┼──────────────────┼────────────┼─────────┼────────────┼──────────────────────┼────────────────────┼──────────────────────┼─────────────────────┤\n",
      "│ 2f74fb55-7cda-4dda-9553-69783b6dd93e │ None             │ sofa       │ sofa    │            │ sofa                 │ sofas              │                    0 │ 2025-03-15 09:16:40 │\n",
      "└──────────────────────────────────────┴──────────────────┴────────────┴─────────┴────────────┴──────────────────────┴────────────────────┴──────────────────────┴─────────────────────┘\n",
      "\n",
      "┌───────┬───────┬─────────┬─────────┬─────────┬──────────────────────────────────────┬──────────────────────────────────────┬──────────────────────────────────────┬──────────────────────────────────────┐\n",
      "│  lvl  │  qty  │  child  │   pos   │ parent  │             inventory_id             │         inventory_id_parent          │                parent                │                child                 │\n",
      "│ int64 │ int64 │ varchar │ varchar │ varchar │               varchar                │               varchar                │               varchar                │               varchar                │\n",
      "├───────┼───────┼─────────┼─────────┼─────────┼──────────────────────────────────────┼──────────────────────────────────────┼──────────────────────────────────────┼──────────────────────────────────────┤\n",
      "│     2 │     1 │ sofa    │ IN      │ lounge  │ 924eda2e-b7e9-4a6b-a09c-566bb664b83b │ 56db86c7-d885-4aad-8a06-bf18232c1cf1 │ 03dd5c43-d66e-4c3f-a6eb-eb67b47c0373 │ 2f74fb55-7cda-4dda-9553-69783b6dd93e │\n",
      "└───────┴───────┴─────────┴─────────┴─────────┴──────────────────────────────────────┴──────────────────────────────────────┴──────────────────────────────────────┴──────────────────────────────────────┘\n",
      "\n"
     ]
    }
   ],
   "source": [
    "# add a sofa to the lounge\n",
    "item = Entity(\"sofa\")\n",
    "location = Entity(\"lounge\")\n",
    "inventory = Inventory(entity_parent=location, entity_child=item, quantity=1)\n",
    "dd.sql(f\"select * from entity_sql where entity_key = 'sofa'\").show()\n",
    "dd.sql(sql_inventory(entity_id_parent=location.entity_id,entity_id_child=item.entity_id)).show()"
   ]
  },
  {
   "cell_type": "code",
   "execution_count": 17,
   "id": "846070c3-6086-4d99-bf9f-b46cfc716ab3",
   "metadata": {},
   "outputs": [],
   "source": [
    "dd.close()"
   ]
  }
 ],
 "metadata": {
  "kernelspec": {
   "display_name": "Python 3 (ipykernel)",
   "language": "python",
   "name": "python3"
  },
  "language_info": {
   "codemirror_mode": {
    "name": "ipython",
    "version": 3
   },
   "file_extension": ".py",
   "mimetype": "text/x-python",
   "name": "python",
   "nbconvert_exporter": "python",
   "pygments_lexer": "ipython3",
   "version": "3.12.3"
  }
 },
 "nbformat": 4,
 "nbformat_minor": 5
}
