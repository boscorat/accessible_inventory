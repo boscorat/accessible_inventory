{
 "cells": [
  {
   "cell_type": "code",
   "execution_count": 2,
   "id": "3ef86105-0899-4949-b44e-3a637790614d",
   "metadata": {},
   "outputs": [
    {
     "name": "stdout",
     "output_type": "stream",
     "text": [
      "┌───────────────┐\n",
      "│     name      │\n",
      "│    varchar    │\n",
      "├───────────────┤\n",
      "│ entity_sql    │\n",
      "│ inventory_sql │\n",
      "└───────────────┘\n",
      "\n"
     ]
    }
   ],
   "source": [
    "import duckdb as dd\n",
    "\n",
    "# Create an in-memory DuckDB connection\n",
    "con = dd.connect(':memory:')\n",
    "\n",
    "# dd.sql(\"SELECT * FROM sqlite_scan('../data/inventory.db', 'inventory_sql');\").show()\n",
    "try:\n",
    "    dd.sql(\"ATTACH '../data/inventory.db' AS inventory (TYPE sqlite);\")\n",
    "except:\n",
    "    print(\"already attached\")\n",
    "dd.sql(\"USE inventory\")\n",
    "dd.sql(\"SHOW TABLES\").show()"
   ]
  },
  {
   "cell_type": "code",
   "execution_count": 2,
   "id": "63945def-3c93-4cf0-9d61-d8cbf4e500e0",
   "metadata": {},
   "outputs": [
    {
     "name": "stdout",
     "output_type": "stream",
     "text": [
      "┌──────────────────────────────────────┬──────────────────────────────────────┬───────────────────┬──────────┬────────────┬──────────────────────┬────────────────────┬──────────────────────┬─────────────────────┐\n",
      "│              entity_id               │           entity_id_parent           │    entity_key     │   noun   │ adjectives │ description_singular │ description_plural │ base_hierarchy_level │    created_time     │\n",
      "│               varchar                │               varchar                │      varchar      │ varchar  │  varchar   │       varchar        │      varchar       │        int64         │      timestamp      │\n",
      "├──────────────────────────────────────┼──────────────────────────────────────┼───────────────────┼──────────┼────────────┼──────────────────────┼────────────────────┼──────────────────────┼─────────────────────┤\n",
      "│ e5998068-17a4-4c7d-b64f-4b6e28e8b93d │ 281d67f9-7236-4c63-adaf-c7fac017d962 │ dining_room       │ room     │ dining     │ dining room          │ dining rooms       │                    2 │ 2025-03-06 06:26:59 │\n",
      "│ 03dd5c43-d66e-4c3f-a6eb-eb67b47c0373 │ 281d67f9-7236-4c63-adaf-c7fac017d962 │ lounge            │ lounge   │            │ lounge               │ lounges            │                    2 │ 2025-03-06 06:26:59 │\n",
      "│ 4d10faad-8a10-436b-b732-011a7b4ad043 │ None                                 │ chair_yellow      │ chair    │ yellow     │ yellow chair         │ yellow chairs      │                    0 │ 2025-03-06 06:26:59 │\n",
      "│ f03c6766-6984-4821-9dcf-a1efc231758f │ None                                 │ coaster           │ coaster  │            │ coaster              │ coasters           │                    0 │ 2025-03-06 06:26:59 │\n",
      "│ bb85b691-61f2-4a73-8313-3e5367d4b7b6 │ None                                 │ coffee_table      │ table    │ coffee     │ coffee table         │ coffee tables      │                    0 │ 2025-03-06 06:26:59 │\n",
      "│ 3e874dbd-0cfc-4388-ad8b-ddfcc1b6a329 │ None                                 │ bread_of_slice    │ bread    │ slice of   │ slice of bread       │ slices of bread    │                    0 │ 2025-03-06 06:26:59 │\n",
      "│ aa5c5230-29d1-4f02-b011-20a6ea03766a │ None                                 │ toaster           │ toaster  │            │ toaster              │ toasters           │                    0 │ 2025-03-06 06:26:59 │\n",
      "│ 468edbe1-74ea-41f2-b1ae-c97806841e0d │ 281d67f9-7236-4c63-adaf-c7fac017d962 │ kitchen           │ kitchen  │            │ kitchen              │ kitchens           │                    2 │ 2025-03-06 06:26:59 │\n",
      "│ 281d67f9-7236-4c63-adaf-c7fac017d962 │ None                                 │ chads_st_vicarage │ vicarage │ st chads   │ st chads vicarage    │ st chads vicarages │                    1 │ 2025-03-06 06:26:59 │\n",
      "└──────────────────────────────────────┴──────────────────────────────────────┴───────────────────┴──────────┴────────────┴──────────────────────┴────────────────────┴──────────────────────┴─────────────────────┘\n",
      "\n"
     ]
    }
   ],
   "source": [
    "# show the entities\n",
    "dd.sql('''\n",
    "        select *\n",
    "        from entity_sql\n",
    "        order by created_time desc\n",
    "       ''').show()"
   ]
  },
  {
   "cell_type": "code",
   "execution_count": 3,
   "id": "abb10e3c-141e-44dd-b9e8-8191848a8f3e",
   "metadata": {},
   "outputs": [
    {
     "name": "stdout",
     "output_type": "stream",
     "text": [
      "┌───────┬───────┬─────────┬─────────┬─────────┬──────────────┬─────────────────────┬─────────┬─────────┐\n",
      "│  lvl  │  qty  │  child  │   pos   │ parent  │ inventory_id │ inventory_id_parent │ parent  │  child  │\n",
      "│ int64 │ int64 │ varchar │ varchar │ varchar │   varchar    │       varchar       │ varchar │ varchar │\n",
      "├───────┴───────┴─────────┴─────────┴─────────┴──────────────┴─────────────────────┴─────────┴─────────┤\n",
      "│                                                0 rows                                                │\n",
      "└──────────────────────────────────────────────────────────────────────────────────────────────────────┘\n",
      "\n"
     ]
    }
   ],
   "source": [
    "# show the inventory\n",
    "dd.sql('''\n",
    "        select INV.hierarchy_level as lvl\n",
    "            , INV.quantity as qty\n",
    "            , CHI.description_singular as child\n",
    "            , INV.position as pos\n",
    "            , PAR.description_singular as parent\n",
    "            , INV.inventory_id\n",
    "            , INV.inventory_id_parent\n",
    "            , PAR.entity_id as parent\n",
    "            , CHI.entity_id as child\n",
    "        from inventory_sql INV\n",
    "        inner join entity_sql PAR on PAR.entity_id = INV.entity_id_parent\n",
    "        inner join entity_sql CHI on CHI.entity_id = INV.entity_id_child\n",
    "        order by INV.created_time desc\n",
    "       ''').show()"
   ]
  },
  {
   "cell_type": "code",
   "execution_count": null,
   "id": "72976a4a-3bef-4df7-bcf4-137be06a66ef",
   "metadata": {},
   "outputs": [],
   "source": []
  },
  {
   "cell_type": "code",
   "execution_count": 1,
   "id": "4e5ae64c-4143-493a-9900-2aa25f1088d4",
   "metadata": {},
   "outputs": [
    {
     "ename": "NameError",
     "evalue": "name 'con' is not defined",
     "output_type": "error",
     "traceback": [
      "\u001b[0;31m---------------------------------------------------------------------------\u001b[0m",
      "\u001b[0;31mNameError\u001b[0m                                 Traceback (most recent call last)",
      "Cell \u001b[0;32mIn[1], line 2\u001b[0m\n\u001b[1;32m      1\u001b[0m \u001b[38;5;66;03m# close the connection\u001b[39;00m\n\u001b[0;32m----> 2\u001b[0m \u001b[43mcon\u001b[49m\u001b[38;5;241m.\u001b[39mclose()\n",
      "\u001b[0;31mNameError\u001b[0m: name 'con' is not defined"
     ]
    }
   ],
   "source": [
    "# close the connection\n",
    "con.close()"
   ]
  }
 ],
 "metadata": {
  "kernelspec": {
   "display_name": "Python 3 (ipykernel)",
   "language": "python",
   "name": "python3"
  },
  "language_info": {
   "codemirror_mode": {
    "name": "ipython",
    "version": 3
   },
   "file_extension": ".py",
   "mimetype": "text/x-python",
   "name": "python",
   "nbconvert_exporter": "python",
   "pygments_lexer": "ipython3",
   "version": "3.12.3"
  }
 },
 "nbformat": 4,
 "nbformat_minor": 5
}
