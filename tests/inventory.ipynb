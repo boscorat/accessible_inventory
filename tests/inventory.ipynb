{
 "cells": [
  {
   "cell_type": "code",
   "execution_count": 1,
   "id": "6ca714ba-605c-4d52-b46c-bede9ef40576",
   "metadata": {},
   "outputs": [],
   "source": [
    "from inventory import Inventory\n",
    "from exception import InventoryRemoveZeroError, InventoryRemoveExcessiveError\n",
    "from entity import Entity\n",
    "from sql import select_inventory, select_entity\n",
    "from uuid import uuid4"
   ]
  },
  {
   "cell_type": "code",
   "execution_count": 2,
   "id": "ed568887-555c-4408-99cf-2b5c16949a7e",
   "metadata": {},
   "outputs": [
    {
     "name": "stdout",
     "output_type": "stream",
     "text": [
      "already attached\n"
     ]
    }
   ],
   "source": [
    "# coonect using duckdb and validate tables\n",
    "import duckdb as dd\n",
    "\n",
    "# Create an in-memory DuckDB connection\n",
    "con = dd.connect(':memory:')\n",
    "\n",
    "# dd.sql(\"SELECT * FROM sqlite_scan('../data/inventory.db', 'inventory_sql');\").show()\n",
    "try:\n",
    "    dd.sql(\"ATTACH '../data/inventory.db' AS inventory (TYPE sqlite);\")\n",
    "except:\n",
    "    print(\"already attached\")\n",
    "dd.sql(\"USE inventory\")"
   ]
  },
  {
   "cell_type": "code",
   "execution_count": 3,
   "id": "ae0ea68c-f7ed-45d1-9212-367794190847",
   "metadata": {},
   "outputs": [],
   "source": [
    "# define database queries\n",
    "sql_inventory = '''\n",
    "        select INV.hierarchy_level as lvl\n",
    "            , INV.quantity as qty\n",
    "            , CHI.description_singular as child\n",
    "            , INV.position as pos\n",
    "            , PAR.description_singular as parent\n",
    "            , INV.inventory_id\n",
    "            , INV.inventory_id_parent\n",
    "            , PAR.entity_id as parent\n",
    "            , CHI.entity_id as child\n",
    "        from inventory_sql INV\n",
    "        inner join entity_sql PAR on PAR.entity_id = INV.entity_id_parent\n",
    "        inner join entity_sql CHI on CHI.entity_id = INV.entity_id_child\n",
    "    '''"
   ]
  },
  {
   "cell_type": "code",
   "execution_count": 4,
   "id": "47161e3e-1c58-4c1c-9ab7-e08ef05bb63f",
   "metadata": {},
   "outputs": [
    {
     "name": "stdout",
     "output_type": "stream",
     "text": [
      "Yellow Chair (total inventory: 3) (4d10faad-8a10-436b-b732-011a7b4ad043)\n",
      "Lounge (total inventory: 1) (03dd5c43-d66e-4c3f-a6eb-eb67b47c0373)\n"
     ]
    }
   ],
   "source": [
    "# try adding a yellow chair to the lounge\n",
    "item = Entity(description=\"Yellow Chair\")\n",
    "print(item)\n",
    "location = Entity(description=\"Lounge\")\n",
    "print(location)"
   ]
  },
  {
   "cell_type": "code",
   "execution_count": 5,
   "id": "a83e8cdb-049f-44bf-b9dd-9c76f42a5e1c",
   "metadata": {},
   "outputs": [
    {
     "name": "stdout",
     "output_type": "stream",
     "text": [
      "yellow chair inventory:\n",
      "┌───────┬───────┬──────────────┬─────────┬─────────────┬──────────────────────────────────────┬──────────────────────────────────────┬──────────────────────────────────────┬──────────────────────────────────────┐\n",
      "│  lvl  │  qty  │    child     │   pos   │   parent    │             inventory_id             │         inventory_id_parent          │                parent                │                child                 │\n",
      "│ int64 │ int64 │   varchar    │ varchar │   varchar   │               varchar                │               varchar                │               varchar                │               varchar                │\n",
      "├───────┼───────┼──────────────┼─────────┼─────────────┼──────────────────────────────────────┼──────────────────────────────────────┼──────────────────────────────────────┼──────────────────────────────────────┤\n",
      "│     2 │     3 │ yellow chair │ IN      │ dining room │ 4e18e23a-ca8b-4ed3-9ba6-8e2fb46d6cd8 │ 6dc856f4-42fe-4fe0-868b-9d002eff2e27 │ e5998068-17a4-4c7d-b64f-4b6e28e8b93d │ 4d10faad-8a10-436b-b732-011a7b4ad043 │\n",
      "└───────┴───────┴──────────────┴─────────┴─────────────┴──────────────────────────────────────┴──────────────────────────────────────┴──────────────────────────────────────┴──────────────────────────────────────┘\n",
      "\n",
      "lounge inventory:\n",
      "┌───────┬───────┬──────────────┬─────────┬─────────┬──────────────────────────────────────┬──────────────────────────────────────┬──────────────────────────────────────┬──────────────────────────────────────┐\n",
      "│  lvl  │  qty  │    child     │   pos   │ parent  │             inventory_id             │         inventory_id_parent          │                parent                │                child                 │\n",
      "│ int64 │ int64 │   varchar    │ varchar │ varchar │               varchar                │               varchar                │               varchar                │               varchar                │\n",
      "├───────┼───────┼──────────────┼─────────┼─────────┼──────────────────────────────────────┼──────────────────────────────────────┼──────────────────────────────────────┼──────────────────────────────────────┤\n",
      "│     2 │     5 │ coffee table │ IN      │ lounge  │ 2dfea04c-e8ea-4735-8b9a-4a9bf92dca08 │ 8ce8d635-c5c5-49d7-bdcf-2b5cfb2298fe │ 03dd5c43-d66e-4c3f-a6eb-eb67b47c0373 │ bb85b691-61f2-4a73-8313-3e5367d4b7b6 │\n",
      "└───────┴───────┴──────────────┴─────────┴─────────┴──────────────────────────────────────┴──────────────────────────────────────┴──────────────────────────────────────┴──────────────────────────────────────┘\n",
      "\n"
     ]
    }
   ],
   "source": [
    "# check the inventory for the item\n",
    "print(f\"{item.description} inventory:\")\n",
    "sql_where = f\"WHERE INV.entity_id_child = '{item.entity_id}'\"\n",
    "sql_full = sql_inventory + sql_where\n",
    "dd.sql(sql_full).show()\n",
    "# and the inventory for the location\n",
    "print(f\"{location.description} inventory:\")\n",
    "sql_where = f\"WHERE INV.entity_id_parent = '{location.entity_id}'\"\n",
    "sql_full = sql_inventory + sql_where\n",
    "dd.sql(sql_full).show()"
   ]
  },
  {
   "cell_type": "code",
   "execution_count": 6,
   "id": "eb661584-be5e-442c-8a83-feb5c51eba8e",
   "metadata": {},
   "outputs": [
    {
     "name": "stdout",
     "output_type": "stream",
     "text": [
      "Inventory created successfully\n",
      "4 yellow chairs (4d10faad-8a10-436b-b732-011a7b4ad043) in lounge (03dd5c43-d66e-4c3f-a6eb-eb67b47c0373)\n",
      "┌───────┬───────┬──────────────┬─────────┬─────────┬──────────────────────────────────────┬──────────────────────────────────────┬──────────────────────────────────────┬──────────────────────────────────────┐\n",
      "│  lvl  │  qty  │    child     │   pos   │ parent  │             inventory_id             │         inventory_id_parent          │                parent                │                child                 │\n",
      "│ int64 │ int64 │   varchar    │ varchar │ varchar │               varchar                │               varchar                │               varchar                │               varchar                │\n",
      "├───────┼───────┼──────────────┼─────────┼─────────┼──────────────────────────────────────┼──────────────────────────────────────┼──────────────────────────────────────┼──────────────────────────────────────┤\n",
      "│     2 │     4 │ yellow chair │ IN      │ lounge  │ bea55c6e-4313-4f89-8b59-e579b17d32e7 │ 8ce8d635-c5c5-49d7-bdcf-2b5cfb2298fe │ 03dd5c43-d66e-4c3f-a6eb-eb67b47c0373 │ 4d10faad-8a10-436b-b732-011a7b4ad043 │\n",
      "└───────┴───────┴──────────────┴─────────┴─────────┴──────────────────────────────────────┴──────────────────────────────────────┴──────────────────────────────────────┴──────────────────────────────────────┘\n",
      "\n"
     ]
    }
   ],
   "source": [
    "# try adding 4 yellow chairs to the lounge\n",
    "inventory = Inventory(entity_parent=location, entity_child=item, quantity=4)\n",
    "print(inventory)\n",
    "sql_where = f\"WHERE INV.entity_id_parent = '{location.entity_id}' and entity_id_child = '{item.entity_id}'\"\n",
    "sql_full = sql_inventory + sql_where\n",
    "dd.sql(sql_full).show()"
   ]
  },
  {
   "cell_type": "code",
   "execution_count": 7,
   "id": "5d5dbd82-6565-4d64-a1e3-e1197517ceab",
   "metadata": {},
   "outputs": [
    {
     "name": "stdout",
     "output_type": "stream",
     "text": [
      "yellow chair inventory:\n",
      "┌───────┬───────┬──────────────┬─────────┬─────────────┬──────────────────────────────────────┬──────────────────────────────────────┬──────────────────────────────────────┬──────────────────────────────────────┐\n",
      "│  lvl  │  qty  │    child     │   pos   │   parent    │             inventory_id             │         inventory_id_parent          │                parent                │                child                 │\n",
      "│ int64 │ int64 │   varchar    │ varchar │   varchar   │               varchar                │               varchar                │               varchar                │               varchar                │\n",
      "├───────┼───────┼──────────────┼─────────┼─────────────┼──────────────────────────────────────┼──────────────────────────────────────┼──────────────────────────────────────┼──────────────────────────────────────┤\n",
      "│     2 │     4 │ yellow chair │ IN      │ lounge      │ bea55c6e-4313-4f89-8b59-e579b17d32e7 │ 8ce8d635-c5c5-49d7-bdcf-2b5cfb2298fe │ 03dd5c43-d66e-4c3f-a6eb-eb67b47c0373 │ 4d10faad-8a10-436b-b732-011a7b4ad043 │\n",
      "│     2 │     3 │ yellow chair │ IN      │ dining room │ 4e18e23a-ca8b-4ed3-9ba6-8e2fb46d6cd8 │ 6dc856f4-42fe-4fe0-868b-9d002eff2e27 │ e5998068-17a4-4c7d-b64f-4b6e28e8b93d │ 4d10faad-8a10-436b-b732-011a7b4ad043 │\n",
      "└───────┴───────┴──────────────┴─────────┴─────────────┴──────────────────────────────────────┴──────────────────────────────────────┴──────────────────────────────────────┴──────────────────────────────────────┘\n",
      "\n",
      "lounge inventory:\n",
      "┌───────┬───────┬──────────────┬─────────┬─────────┬──────────────────────────────────────┬──────────────────────────────────────┬──────────────────────────────────────┬──────────────────────────────────────┐\n",
      "│  lvl  │  qty  │    child     │   pos   │ parent  │             inventory_id             │         inventory_id_parent          │                parent                │                child                 │\n",
      "│ int64 │ int64 │   varchar    │ varchar │ varchar │               varchar                │               varchar                │               varchar                │               varchar                │\n",
      "├───────┼───────┼──────────────┼─────────┼─────────┼──────────────────────────────────────┼──────────────────────────────────────┼──────────────────────────────────────┼──────────────────────────────────────┤\n",
      "│     2 │     4 │ yellow chair │ IN      │ lounge  │ bea55c6e-4313-4f89-8b59-e579b17d32e7 │ 8ce8d635-c5c5-49d7-bdcf-2b5cfb2298fe │ 03dd5c43-d66e-4c3f-a6eb-eb67b47c0373 │ 4d10faad-8a10-436b-b732-011a7b4ad043 │\n",
      "│     2 │     5 │ coffee table │ IN      │ lounge  │ 2dfea04c-e8ea-4735-8b9a-4a9bf92dca08 │ 8ce8d635-c5c5-49d7-bdcf-2b5cfb2298fe │ 03dd5c43-d66e-4c3f-a6eb-eb67b47c0373 │ bb85b691-61f2-4a73-8313-3e5367d4b7b6 │\n",
      "└───────┴───────┴──────────────┴─────────┴─────────┴──────────────────────────────────────┴──────────────────────────────────────┴──────────────────────────────────────┴──────────────────────────────────────┘\n",
      "\n"
     ]
    }
   ],
   "source": [
    "# check the inventory for the item\n",
    "print(f\"{item.description} inventory:\")\n",
    "sql_where = f\"WHERE INV.entity_id_child = '{item.entity_id}'\"\n",
    "sql_full = sql_inventory + sql_where\n",
    "dd.sql(sql_full).show()\n",
    "# and the inventory for the location\n",
    "print(f\"{location.description} inventory:\")\n",
    "sql_where = f\"WHERE INV.entity_id_parent = '{location.entity_id}'\"\n",
    "sql_full = sql_inventory + sql_where\n",
    "dd.sql(sql_full).show()"
   ]
  },
  {
   "cell_type": "code",
   "execution_count": 8,
   "id": "ed316dd8-e10e-455b-a320-d26835cc9f0f",
   "metadata": {},
   "outputs": [
    {
     "name": "stdout",
     "output_type": "stream",
     "text": [
      "Inventory updated successfully\n",
      "6 yellow chairs (4d10faad-8a10-436b-b732-011a7b4ad043) in lounge (03dd5c43-d66e-4c3f-a6eb-eb67b47c0373)\n",
      "┌───────┬───────┬──────────────┬─────────┬─────────┬──────────────────────────────────────┬──────────────────────────────────────┬──────────────────────────────────────┬──────────────────────────────────────┐\n",
      "│  lvl  │  qty  │    child     │   pos   │ parent  │             inventory_id             │         inventory_id_parent          │                parent                │                child                 │\n",
      "│ int64 │ int64 │   varchar    │ varchar │ varchar │               varchar                │               varchar                │               varchar                │               varchar                │\n",
      "├───────┼───────┼──────────────┼─────────┼─────────┼──────────────────────────────────────┼──────────────────────────────────────┼──────────────────────────────────────┼──────────────────────────────────────┤\n",
      "│     2 │     6 │ yellow chair │ IN      │ lounge  │ bea55c6e-4313-4f89-8b59-e579b17d32e7 │ 8ce8d635-c5c5-49d7-bdcf-2b5cfb2298fe │ 03dd5c43-d66e-4c3f-a6eb-eb67b47c0373 │ 4d10faad-8a10-436b-b732-011a7b4ad043 │\n",
      "└───────┴───────┴──────────────┴─────────┴─────────┴──────────────────────────────────────┴──────────────────────────────────────┴──────────────────────────────────────┴──────────────────────────────────────┘\n",
      "\n"
     ]
    }
   ],
   "source": [
    "# try adding a further 2 yellow chairs to the lounge\n",
    "inventory = Inventory(entity_parent=location, entity_child=item, quantity=2)\n",
    "print(inventory)\n",
    "sql_where = f\"WHERE INV.entity_id_parent = '{location.entity_id}' and entity_id_child = '{item.entity_id}'\"\n",
    "sql_full = sql_inventory + sql_where\n",
    "dd.sql(sql_full).show()"
   ]
  },
  {
   "cell_type": "code",
   "execution_count": 9,
   "id": "e4c852a5-c1c3-4a72-af6b-6e93a3634520",
   "metadata": {},
   "outputs": [
    {
     "name": "stdout",
     "output_type": "stream",
     "text": [
      "There are not enough yellow chairs in lounge to remove\n"
     ]
    }
   ],
   "source": [
    "# try removing too many yellow chairs from the lounge\n",
    "try:\n",
    "    inventory = Inventory(entity_parent=location, entity_child=item, quantity=99999, action=\"REMOVE\")\n",
    "except InventoryRemoveExcessiveError as e:\n",
    "    print(e)"
   ]
  },
  {
   "cell_type": "code",
   "execution_count": 10,
   "id": "dd08da31-0fbf-44cc-9ab6-ceca7e2cc5da",
   "metadata": {},
   "outputs": [
    {
     "name": "stdout",
     "output_type": "stream",
     "text": [
      "Inventory deleted successfully\n",
      "┌───────┬───────┬─────────┬─────────┬─────────┬──────────────┬─────────────────────┬─────────┬─────────┐\n",
      "│  lvl  │  qty  │  child  │   pos   │ parent  │ inventory_id │ inventory_id_parent │ parent  │  child  │\n",
      "│ int64 │ int64 │ varchar │ varchar │ varchar │   varchar    │       varchar       │ varchar │ varchar │\n",
      "├───────┴───────┴─────────┴─────────┴─────────┴──────────────┴─────────────────────┴─────────┴─────────┤\n",
      "│                                                0 rows                                                │\n",
      "└──────────────────────────────────────────────────────────────────────────────────────────────────────┘\n",
      "\n"
     ]
    }
   ],
   "source": [
    "# remove all yellow chairs from lounge\n",
    "new_quantity = inventory._quantity_new\n",
    "inventory = Inventory(entity_parent=location, entity_child=item, quantity=new_quantity, action=\"REMOVE\")\n",
    "# inventory record should have been deleted\n",
    "sql_where = f\"WHERE INV.entity_id_parent = '{location.entity_id}' and entity_id_child = '{item.entity_id}'\"\n",
    "sql_full = sql_inventory + sql_where\n",
    "dd.sql(sql_full).show()"
   ]
  },
  {
   "cell_type": "code",
   "execution_count": 11,
   "id": "a3c667f0-de73-4574-9385-6d4af61b7c5e",
   "metadata": {},
   "outputs": [
    {
     "name": "stdout",
     "output_type": "stream",
     "text": [
      "There are no yellow chairs in lounge to remove\n"
     ]
    }
   ],
   "source": [
    "# try removing a further yellow chair from the lounge\n",
    "try:\n",
    "    inventory = Inventory(entity_parent=location, entity_child=item, quantity=1, action=\"REMOVE\")\n",
    "except InventoryRemoveZeroError as e:\n",
    "    print(e)"
   ]
  },
  {
   "cell_type": "code",
   "execution_count": 12,
   "id": "0dc8158b-e248-4a04-b75e-2dc358a339f1",
   "metadata": {},
   "outputs": [
    {
     "name": "stdout",
     "output_type": "stream",
     "text": [
      "Entity created successfully: Stillwaters (total inventory: 0) (339cfbbb-f263-41f0-b4dc-5abcfe83e98c)\n",
      "┌───────────┬──────────────────┬────────────┬─────────┬────────────┬──────────────────────┬────────────────────┬──────────────────────┬──────────────┐\n",
      "│ entity_id │ entity_id_parent │ entity_key │  noun   │ adjectives │ description_singular │ description_plural │ base_hierarchy_level │ created_time │\n",
      "│  varchar  │     varchar      │  varchar   │ varchar │  varchar   │       varchar        │      varchar       │        int64         │  timestamp   │\n",
      "├───────────┴──────────────────┴────────────┴─────────┴────────────┴──────────────────────┴────────────────────┴──────────────────────┴──────────────┤\n",
      "│                                                                       0 rows                                                                       │\n",
      "└────────────────────────────────────────────────────────────────────────────────────────────────────────────────────────────────────────────────────┘\n",
      "\n"
     ]
    }
   ],
   "source": [
    "# add a new level 1 location\n",
    "location1 = Entity(description=\"Stillwaters\",base_hierarchy_level = 1, entity_id=\"339cfbbb-f263-41f0-b4dc-5abcfe83e98c\")\n",
    "dd.sql(f\"select * from entity_sql where entity_key = 'stillwaters'\").show()"
   ]
  },
  {
   "cell_type": "code",
   "execution_count": 13,
   "id": "ab197218-13bb-41f1-89e7-100499deaed3",
   "metadata": {},
   "outputs": [
    {
     "name": "stdout",
     "output_type": "stream",
     "text": [
      "Entity created successfully: Dungeon (total inventory: 0) (9388641c-36bb-42f8-92b5-0d267098e7f1)\n",
      "┌──────────────────────────────────────┬──────────────────┬────────────┬─────────┬────────────┬──────────────────────┬────────────────────┬──────────────────────┬─────────────────────┐\n",
      "│              entity_id               │ entity_id_parent │ entity_key │  noun   │ adjectives │ description_singular │ description_plural │ base_hierarchy_level │    created_time     │\n",
      "│               varchar                │     varchar      │  varchar   │ varchar │  varchar   │       varchar        │      varchar       │        int64         │      timestamp      │\n",
      "├──────────────────────────────────────┼──────────────────┼────────────┼─────────┼────────────┼──────────────────────┼────────────────────┼──────────────────────┼─────────────────────┤\n",
      "│ 9388641c-36bb-42f8-92b5-0d267098e7f1 │ None             │ dungeon    │ dungeon │            │ dungeon              │ dungeons           │                    0 │ 2025-03-10 12:46:19 │\n",
      "└──────────────────────────────────────┴──────────────────┴────────────┴─────────┴────────────┴──────────────────────┴────────────────────┴──────────────────────┴─────────────────────┘\n",
      "\n"
     ]
    }
   ],
   "source": [
    "# add a new location\n",
    "location2 = Entity(description=\"Dungeon\", entity_id=\"9388641c-36bb-42f8-92b5-0d267098e7f1\")\n",
    "dd.sql(f\"select * from entity_sql where entity_key = 'dungeon'\").show()"
   ]
  },
  {
   "cell_type": "code",
   "execution_count": 14,
   "id": "72343a42-bcef-4d17-ad38-f79210cf9059",
   "metadata": {},
   "outputs": [
    {
     "name": "stdout",
     "output_type": "stream",
     "text": [
      "Inventory created successfully\n",
      "339cfbbb-f263-41f0-b4dc-5abcfe83e98c 9388641c-36bb-42f8-92b5-0d267098e7f1\n",
      "┌───────┬───────┬─────────┬─────────┬─────────────┬──────────────────────────────────────┬──────────────────────────────────────┬──────────────────────────────────────┬──────────────────────────────────────┐\n",
      "│  lvl  │  qty  │  child  │   pos   │   parent    │             inventory_id             │         inventory_id_parent          │                parent                │                child                 │\n",
      "│ int64 │ int64 │ varchar │ varchar │   varchar   │               varchar                │               varchar                │               varchar                │               varchar                │\n",
      "├───────┼───────┼─────────┼─────────┼─────────────┼──────────────────────────────────────┼──────────────────────────────────────┼──────────────────────────────────────┼──────────────────────────────────────┤\n",
      "│     1 │     1 │ dungeon │ IN      │ stillwaters │ c01a1f9b-a9d0-4591-b3f6-bf0bcebb08de │ c01a1f9b-a9d0-4591-b3f6-bf0bcebb08de │ 339cfbbb-f263-41f0-b4dc-5abcfe83e98c │ 9388641c-36bb-42f8-92b5-0d267098e7f1 │\n",
      "└───────┴───────┴─────────┴─────────┴─────────────┴──────────────────────────────────────┴──────────────────────────────────────┴──────────────────────────────────────┴──────────────────────────────────────┘\n",
      "\n"
     ]
    }
   ],
   "source": [
    "# create an inventory record for the new level 1 location\n",
    "inventory = Inventory(entity_parent=location1, entity_child=location2, quantity=1)\n",
    "print(location1.entity_id, location2.entity_id)\n",
    "# inventory record newly created\n",
    "sql_where = f\"WHERE INV.entity_id_parent = '{location1.entity_id}' and entity_id_child = '{location2.entity_id}'\"\n",
    "sql_full = sql_inventory + sql_where\n",
    "dd.sql(sql_full).show()"
   ]
  },
  {
   "cell_type": "code",
   "execution_count": 15,
   "id": "e43717ae-2b95-4483-b2b6-1856d9527ec0",
   "metadata": {},
   "outputs": [
    {
     "name": "stdout",
     "output_type": "stream",
     "text": [
      "Entity created successfully: Cd Rack (total inventory: 0) (ea4731c1-c66a-49d2-be8c-ceb335ac34f1)\n",
      "Inventory created successfully\n",
      "┌───────┬───────┬─────────┬─────────┬─────────┬──────────────────────────────────────┬──────────────────────────────────────┬──────────────────────────────────────┬──────────────────────────────────────┐\n",
      "│  lvl  │  qty  │  child  │   pos   │ parent  │             inventory_id             │         inventory_id_parent          │                parent                │                child                 │\n",
      "│ int64 │ int64 │ varchar │ varchar │ varchar │               varchar                │               varchar                │               varchar                │               varchar                │\n",
      "├───────┼───────┼─────────┼─────────┼─────────┼──────────────────────────────────────┼──────────────────────────────────────┼──────────────────────────────────────┼──────────────────────────────────────┤\n",
      "│     2 │     1 │ cd rack │ IN      │ dungeon │ 90d9157f-01ba-4c53-af43-1f08665424d6 │ c01a1f9b-a9d0-4591-b3f6-bf0bcebb08de │ 9388641c-36bb-42f8-92b5-0d267098e7f1 │ ea4731c1-c66a-49d2-be8c-ceb335ac34f1 │\n",
      "└───────┴───────┴─────────┴─────────┴─────────┴──────────────────────────────────────┴──────────────────────────────────────┴──────────────────────────────────────┴──────────────────────────────────────┘\n",
      "\n"
     ]
    }
   ],
   "source": [
    "# add a cd rack to the dungeon\n",
    "item = Entity(\"CD Rack\")\n",
    "location = Entity(\"Dungeon\")\n",
    "inventory = Inventory(entity_parent=location, entity_child=item, quantity=1)\n",
    "# inventory record newly created\n",
    "sql_where = f\"WHERE INV.entity_id_parent = '{location.entity_id}' and entity_id_child = '{item.entity_id}'\"\n",
    "sql_full = sql_inventory + sql_where\n",
    "dd.sql(sql_full).show()"
   ]
  },
  {
   "cell_type": "code",
   "execution_count": 16,
   "id": "128f995e-1003-4579-92e3-eee53f8389c3",
   "metadata": {},
   "outputs": [
    {
     "name": "stdout",
     "output_type": "stream",
     "text": [
      "Entity created successfully: World Wont Listen By Smith (total inventory: 0) (fe214a8b-f45d-40f8-bdbe-36f869685436)\n",
      "Inventory created successfully\n",
      "┌───────┬───────┬────────────────────────────┬─────────┬─────────┬──────────────────────────────────────┬──────────────────────────────────────┬──────────────────────────────────────┬──────────────────────────────────────┐\n",
      "│  lvl  │  qty  │           child            │   pos   │ parent  │             inventory_id             │         inventory_id_parent          │                parent                │                child                 │\n",
      "│ int64 │ int64 │          varchar           │ varchar │ varchar │               varchar                │               varchar                │               varchar                │               varchar                │\n",
      "├───────┼───────┼────────────────────────────┼─────────┼─────────┼──────────────────────────────────────┼──────────────────────────────────────┼──────────────────────────────────────┼──────────────────────────────────────┤\n",
      "│     3 │     1 │ world wont listen by smith │ IN      │ cd rack │ 02163e30-db40-4ca4-ad59-10329ad45184 │ 90d9157f-01ba-4c53-af43-1f08665424d6 │ ea4731c1-c66a-49d2-be8c-ceb335ac34f1 │ fe214a8b-f45d-40f8-bdbe-36f869685436 │\n",
      "└───────┴───────┴────────────────────────────┴─────────┴─────────┴──────────────────────────────────────┴──────────────────────────────────────┴──────────────────────────────────────┴──────────────────────────────────────┘\n",
      "\n"
     ]
    }
   ],
   "source": [
    "# add a cd to the cd rack\n",
    "item = Entity(\"The World Wont Listen by The Smiths\")\n",
    "location = Entity(\"CD Rack\")\n",
    "inventory = Inventory(entity_parent=location, entity_child=item, quantity=1)\n",
    "# inventory record newly created\n",
    "sql_where = f\"WHERE INV.entity_id_parent = '{location.entity_id}' and entity_id_child = '{item.entity_id}'\"\n",
    "sql_full = sql_inventory + sql_where\n",
    "dd.sql(sql_full).show()"
   ]
  },
  {
   "cell_type": "code",
   "execution_count": 17,
   "id": "5c5f7652-f728-4cda-b105-57349274b63a",
   "metadata": {},
   "outputs": [
    {
     "name": "stdout",
     "output_type": "stream",
     "text": [
      "Inventory created successfully\n",
      "┌──────────────────────────────────────┬──────────────────┬────────────┬─────────┬────────────┬──────────────────────┬────────────────────┬──────────────────────┬─────────────────────┐\n",
      "│              entity_id               │ entity_id_parent │ entity_key │  noun   │ adjectives │ description_singular │ description_plural │ base_hierarchy_level │    created_time     │\n",
      "│               varchar                │     varchar      │  varchar   │ varchar │  varchar   │       varchar        │      varchar       │        int64         │      timestamp      │\n",
      "├──────────────────────────────────────┼──────────────────┼────────────┼─────────┼────────────┼──────────────────────┼────────────────────┼──────────────────────┼─────────────────────┤\n",
      "│ 03dd5c43-d66e-4c3f-a6eb-eb67b47c0373 │ None             │ lounge     │ lounge  │            │ lounge               │ lounges            │                    0 │ 2025-03-10 12:45:38 │\n",
      "└──────────────────────────────────────┴──────────────────┴────────────┴─────────┴────────────┴──────────────────────┴────────────────────┴──────────────────────┴─────────────────────┘\n",
      "\n"
     ]
    }
   ],
   "source": [
    "# add a lounge to the stillwaters location\n",
    "inventory = Inventory(entity_parent=Entity(\"stillwaters\"), entity_child=Entity(\"lounge\"), quantity=1)\n",
    "dd.sql(f\"select * from entity_sql where entity_key = 'lounge'\").show()"
   ]
  },
  {
   "cell_type": "code",
   "execution_count": 18,
   "id": "d6b06ef7-7cf0-4209-b2c9-ff2322eed586",
   "metadata": {},
   "outputs": [
    {
     "name": "stdout",
     "output_type": "stream",
     "text": [
      "Entity created successfully: Sofa (total inventory: 0) (14b0a5f2-db16-4718-a7ef-76ad28b47ed9)\n",
      "┌───────┬───────┬─────────┬─────────┬───────────────────┬──────────────────────────────────────┬──────────────────────────────────────┬──────────────────────────────────────┬──────────────────────────────────────┐\n",
      "│  lvl  │  qty  │  child  │   pos   │      parent       │             inventory_id             │         inventory_id_parent          │                parent                │                child                 │\n",
      "│ int64 │ int64 │ varchar │ varchar │      varchar      │               varchar                │               varchar                │               varchar                │               varchar                │\n",
      "├───────┼───────┼─────────┼─────────┼───────────────────┼──────────────────────────────────────┼──────────────────────────────────────┼──────────────────────────────────────┼──────────────────────────────────────┤\n",
      "│     1 │     1 │ lounge  │ IN      │ st chads vicarage │ 8ce8d635-c5c5-49d7-bdcf-2b5cfb2298fe │ 8ce8d635-c5c5-49d7-bdcf-2b5cfb2298fe │ 281d67f9-7236-4c63-adaf-c7fac017d962 │ 03dd5c43-d66e-4c3f-a6eb-eb67b47c0373 │\n",
      "│     1 │     1 │ lounge  │ IN      │ stillwaters       │ 1b73e431-e1d0-4a67-b125-0db7c8f5ef6d │ 1b73e431-e1d0-4a67-b125-0db7c8f5ef6d │ 339cfbbb-f263-41f0-b4dc-5abcfe83e98c │ 03dd5c43-d66e-4c3f-a6eb-eb67b47c0373 │\n",
      "└───────┴───────┴─────────┴─────────┴───────────────────┴──────────────────────────────────────┴──────────────────────────────────────┴──────────────────────────────────────┴──────────────────────────────────────┘\n",
      "\n"
     ]
    },
    {
     "ename": "AttributeError",
     "evalue": "'Inventory' object has no attribute 'hierarchy_level'",
     "output_type": "error",
     "traceback": [
      "\u001b[0;31m---------------------------------------------------------------------------\u001b[0m",
      "\u001b[0;31mAttributeError\u001b[0m                            Traceback (most recent call last)",
      "Cell \u001b[0;32mIn[18], line 2\u001b[0m\n\u001b[1;32m      1\u001b[0m \u001b[38;5;66;03m# add a sofa to the lounge\u001b[39;00m\n\u001b[0;32m----> 2\u001b[0m inventory \u001b[38;5;241m=\u001b[39m \u001b[43mInventory\u001b[49m\u001b[43m(\u001b[49m\u001b[43mentity_parent\u001b[49m\u001b[38;5;241;43m=\u001b[39;49m\u001b[43mEntity\u001b[49m\u001b[43m(\u001b[49m\u001b[38;5;124;43m\"\u001b[39;49m\u001b[38;5;124;43mlounge\u001b[39;49m\u001b[38;5;124;43m\"\u001b[39;49m\u001b[43m)\u001b[49m\u001b[43m,\u001b[49m\u001b[43m \u001b[49m\u001b[43mentity_child\u001b[49m\u001b[38;5;241;43m=\u001b[39;49m\u001b[43mEntity\u001b[49m\u001b[43m(\u001b[49m\u001b[38;5;124;43m\"\u001b[39;49m\u001b[38;5;124;43msofa\u001b[39;49m\u001b[38;5;124;43m\"\u001b[39;49m\u001b[43m)\u001b[49m\u001b[43m,\u001b[49m\u001b[43m \u001b[49m\u001b[43mquantity\u001b[49m\u001b[38;5;241;43m=\u001b[39;49m\u001b[38;5;241;43m1\u001b[39;49m\u001b[43m)\u001b[49m\n",
      "File \u001b[0;32m~/repos/accessible_inventory/modules/inventory.py:59\u001b[0m, in \u001b[0;36mInventory.__init__\u001b[0;34m(self, entity_parent, entity_child, quantity, action, position, inventory_id, inventory_id_parent)\u001b[0m\n\u001b[1;32m     57\u001b[0m \u001b[38;5;66;03m# CREATE record if it doesn't exist\u001b[39;00m\n\u001b[1;32m     58\u001b[0m \u001b[38;5;28;01mif\u001b[39;00m \u001b[38;5;129;01mnot\u001b[39;00m \u001b[38;5;28mself\u001b[39m\u001b[38;5;241m.\u001b[39m_exists:\n\u001b[0;32m---> 59\u001b[0m     \u001b[38;5;28;43mself\u001b[39;49m\u001b[38;5;241;43m.\u001b[39;49m\u001b[43mcreate_new\u001b[49m\u001b[43m(\u001b[49m\u001b[43m)\u001b[49m\n\u001b[1;32m     60\u001b[0m \u001b[38;5;66;03m# UPDATE record if it exists and there's a positive quantity\u001b[39;00m\n\u001b[1;32m     61\u001b[0m \u001b[38;5;28;01melif\u001b[39;00m \u001b[38;5;28mself\u001b[39m\u001b[38;5;241m.\u001b[39m_exists \u001b[38;5;129;01mand\u001b[39;00m \u001b[38;5;28mself\u001b[39m\u001b[38;5;241m.\u001b[39m_quantity_new \u001b[38;5;241m>\u001b[39m \u001b[38;5;241m0\u001b[39m:\n",
      "File \u001b[0;32m~/repos/accessible_inventory/modules/inventory.py:181\u001b[0m, in \u001b[0;36mInventory.create_new\u001b[0;34m(self)\u001b[0m\n\u001b[1;32m    172\u001b[0m \u001b[38;5;28;01mif\u001b[39;00m \u001b[38;5;129;01mnot\u001b[39;00m \u001b[38;5;28mself\u001b[39m\u001b[38;5;241m.\u001b[39m_exists:\n\u001b[1;32m    173\u001b[0m     \u001b[38;5;28;01mtry\u001b[39;00m:\n\u001b[1;32m    174\u001b[0m         insert_inventory(\n\u001b[1;32m    175\u001b[0m             inventory_id\u001b[38;5;241m=\u001b[39m\u001b[38;5;28mself\u001b[39m\u001b[38;5;241m.\u001b[39minventory_id,\n\u001b[1;32m    176\u001b[0m             inventory_id_parent\u001b[38;5;241m=\u001b[39m\u001b[38;5;28mself\u001b[39m\u001b[38;5;241m.\u001b[39minventory_id_parent,\n\u001b[1;32m    177\u001b[0m             entity_id_parent\u001b[38;5;241m=\u001b[39m\u001b[38;5;28mself\u001b[39m\u001b[38;5;241m.\u001b[39mentity_parent\u001b[38;5;241m.\u001b[39mentity_id,\n\u001b[1;32m    178\u001b[0m             entity_id_child\u001b[38;5;241m=\u001b[39m\u001b[38;5;28mself\u001b[39m\u001b[38;5;241m.\u001b[39mentity_child\u001b[38;5;241m.\u001b[39mentity_id,\n\u001b[1;32m    179\u001b[0m             quantity\u001b[38;5;241m=\u001b[39m\u001b[38;5;28mself\u001b[39m\u001b[38;5;241m.\u001b[39m_quantity_new,\n\u001b[1;32m    180\u001b[0m             position\u001b[38;5;241m=\u001b[39m\u001b[38;5;28mself\u001b[39m\u001b[38;5;241m.\u001b[39mposition,\n\u001b[0;32m--> 181\u001b[0m             hierarchy_level\u001b[38;5;241m=\u001b[39m\u001b[38;5;28;43mself\u001b[39;49m\u001b[38;5;241;43m.\u001b[39;49m\u001b[43mhierarchy_level\u001b[49m,\n\u001b[1;32m    182\u001b[0m         )\n\u001b[1;32m    183\u001b[0m         logger\u001b[38;5;241m.\u001b[39minfo(\u001b[38;5;124m\"\u001b[39m\u001b[38;5;124mInventory created successfully\u001b[39m\u001b[38;5;124m\"\u001b[39m)\n\u001b[1;32m    184\u001b[0m         \u001b[38;5;28mprint\u001b[39m(\u001b[38;5;124m\"\u001b[39m\u001b[38;5;124mInventory created successfully\u001b[39m\u001b[38;5;124m\"\u001b[39m)\n",
      "\u001b[0;31mAttributeError\u001b[0m: 'Inventory' object has no attribute 'hierarchy_level'"
     ]
    }
   ],
   "source": [
    "# add a sofa to the lounge\n",
    "inventory = Inventory(entity_parent=Entity(\"lounge\"), entity_child=Entity(\"sofa\"), quantity=1)"
   ]
  },
  {
   "cell_type": "code",
   "execution_count": null,
   "id": "846070c3-6086-4d99-bf9f-b46cfc716ab3",
   "metadata": {},
   "outputs": [],
   "source": [
    "dd.close()"
   ]
  }
 ],
 "metadata": {
  "kernelspec": {
   "display_name": "Python 3 (ipykernel)",
   "language": "python",
   "name": "python3"
  },
  "language_info": {
   "codemirror_mode": {
    "name": "ipython",
    "version": 3
   },
   "file_extension": ".py",
   "mimetype": "text/x-python",
   "name": "python",
   "nbconvert_exporter": "python",
   "pygments_lexer": "ipython3",
   "version": "3.12.3"
  }
 },
 "nbformat": 4,
 "nbformat_minor": 5
}
